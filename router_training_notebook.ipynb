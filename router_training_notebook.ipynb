{
 "cells": [
  {
   "cell_type": "markdown",
   "id": "305a39d1",
   "metadata": {},
   "source": [
    "# Router Quality Classifier Training (Part Three)\n",
    "\n",
    "Cost as a prompt property could be the only thing that may matter in many cases. Majority of the LLMs can generate a good response for a lot of promots, this can be see as many of the benchmarks are becoming obsolete. Users don't always have complex queries for LLMs to answer. Going from GPT-4o to GPT-5 many users are not seeing much improvement, other than tech/AI influencers' praises for the model. Mainly because only a small percentage of queries might need responses from a strong model. This is where cost can be optimised. In this part, we train to predict if the query would need a strong model to query or not.\n",
    "\n",
    "\n",
    "From our (extremely) small dataset we see that the trends holds true, `meta-llama/llama-3.1-8b-instruct` is capable of answering majority (~66%) of the queries. But this is under the assumption that the model `openai/gpt-oss-120b` is a good judge, this can be challenged and researched further.\n",
    "\n",
    "This is what the trend in our data looks like:\n",
    "\n",
    "```\n",
    "=== RATING DISTRIBUTION ===\n",
    "Rating 1: 37 (2.1%)\n",
    "Rating 2: 107 (6.1%)\n",
    "Rating 3: 86 (4.9%)\n",
    "Rating 4: 329 (18.7%)\n",
    "Rating 5: 1197 (68.2%)\n",
    "========================================\n",
    "```\n",
    "\n",
    "Everything below rating 5 can be considered as something that should be addressed by a strong model to keep quality high.  \n",
    "\n",
    "Regarding model selection for this task, `openai/gpt-oss-120b` stands way ahead of our weak model i.e. `meta-llama/llama-3.1-8b-instruct` in benchmarks but the weak model costs substantially less. Hence for the sake of setting an example, these models align to the framework set by the paper RouteLLM.\n",
    "\n",
    "We evaluate the F1 score of the optimised models here instead of the accuracy as there is a clear imbalance in the dataset.\n",
    "\n",
    "Selection of model to train, since we have barely any datapoints to actually make learning happen we opt for a model with not many parameters which also gives us speed as bigger models can be resouce heavy. In a perfect world with hundreds of thousands of data points (like in the `routellm/gpt4_dataset` dataset and better with availability of better GPUs, we'd opt for a newer and larger embedding model to finetune or follow what the routeLLM github demonstrates i.e. finetuning a Llama 3.1 8B LLM on Anyscale's infrastructure.\n",
    "\n",
    "The tl;dr outcome of this notebook is that this method is inappropriate for a tiny dataset, hence the overfit and low f1 score.\n",
    "\n",
    "All the plots can recreated on your W&B account, make sure you are loggedin when you run this notebook."
   ]
  },
  {
   "cell_type": "markdown",
   "id": "7e1a824d-8022-4cba-bd3a-bf8223405920",
   "metadata": {},
   "source": [
    "*Note:* A response generated that is of good quality should be routed to a weak model (label class 0) and a response that is of bad quality should be routed to a strong model (label class 1). We may be refering to our classes as good quality/weak model and bad quality/strong model, interchangebly in this notebook."
   ]
  },
  {
   "cell_type": "markdown",
   "id": "c764f198",
   "metadata": {},
   "source": [
    "## 1. Import Dependencies"
   ]
  },
  {
   "cell_type": "code",
   "execution_count": 2,
   "id": "01c21674",
   "metadata": {},
   "outputs": [
    {
     "name": "stdout",
     "output_type": "stream",
     "text": [
      "Dependencies imported successfully!\n",
      "PyTorch version: 2.5.1+cu121\n",
      "CUDA available: True\n",
      "CUDA device: NVIDIA GeForce RTX 3060\n"
     ]
    }
   ],
   "source": [
    "import time\n",
    "import torch\n",
    "import os\n",
    "import json\n",
    "from torch import nn\n",
    "from torch.utils.data import Dataset, DataLoader\n",
    "from transformers import AutoTokenizer, AutoModel, set_seed\n",
    "from sklearn.model_selection import train_test_split\n",
    "import random\n",
    "import numpy as np\n",
    "import wandb\n",
    "from tqdm import tqdm\n",
    "from torch.optim.lr_scheduler import LinearLR, ReduceLROnPlateau\n",
    "from sklearn.metrics import f1_score\n",
    "import pandas as pd\n",
    "from typing import Dict, Any, Tuple, Optional\n",
    "import warnings\n",
    "warnings.filterwarnings('ignore')\n",
    "\n",
    "print(\"Dependencies imported successfully!\")\n",
    "print(f\"PyTorch version: {torch.__version__}\")\n",
    "print(f\"CUDA available: {torch.cuda.is_available()}\")\n",
    "if torch.cuda.is_available():\n",
    "    print(f\"CUDA device: {torch.cuda.get_device_name()}\")"
   ]
  },
  {
   "cell_type": "markdown",
   "id": "aba6ec67",
   "metadata": {},
   "source": [
    "## 2. Utility Functions and Classes"
   ]
  },
  {
   "cell_type": "code",
   "execution_count": 3,
   "id": "cede7a4d",
   "metadata": {},
   "outputs": [],
   "source": [
    "def set_reproducible_environment(seed: int = 9999) -> None:\n",
    "    \"\"\"Set up reproducible environment with fixed random seeds.\"\"\"\n",
    "    random.seed(seed)\n",
    "    np.random.seed(seed)\n",
    "    torch.manual_seed(seed)\n",
    "    if torch.cuda.is_available():\n",
    "        torch.cuda.manual_seed_all(seed)\n",
    "        \n",
    "    # Set transformers seed\n",
    "    set_seed(seed)\n",
    "    \n",
    "    print(f\"Reproducible environment set with seed: {seed}\")"
   ]
  },
  {
   "cell_type": "code",
   "execution_count": 4,
   "id": "9da87ff5",
   "metadata": {},
   "outputs": [],
   "source": [
    "def load_rated_dataset(file_path: str) -> list:\n",
    "    \"\"\"Load the rated dataset from JSONL file.\"\"\"\n",
    "    data = []\n",
    "    with open(file_path, 'r', encoding='utf-8') as f:\n",
    "        for line in f:\n",
    "            try:\n",
    "                item = json.loads(line.strip())\n",
    "                if 'rating' in item and item['rating'] is not None:\n",
    "                    data.append(item)\n",
    "            except json.JSONDecodeError:\n",
    "                continue\n",
    "    return data\n",
    "\n",
    "def analyze_dataset(df: pd.DataFrame, rating_threshold: int = 4) -> None:\n",
    "    \"\"\"Analyze and print dataset statistics.\"\"\"\n",
    "    total_samples = len(df)\n",
    "    labels_array = df[\"quality_label\"].values\n",
    "    label_0_count = np.sum(labels_array == 0)\n",
    "    label_1_count = np.sum(labels_array == 1)\n",
    "    \n",
    "    print(\"\\n=== DATASET ANALYSIS ===\")\n",
    "    print(f\"Total samples: {total_samples}\")\n",
    "    print(f\"Label 0 (Good quality, rating >= {rating_threshold}): {label_0_count} ({label_0_count/total_samples*100:.1f}%)\")\n",
    "    print(f\"Label 1 (Poor quality, rating < {rating_threshold}): {label_1_count} ({label_1_count/total_samples*100:.1f}%)\")\n",
    "    if label_1_count > 0:\n",
    "        print(f\"Class balance ratio (0:1): {label_0_count/label_1_count:.2f}:1\")\n",
    "    \n",
    "    print(\"\\n=== RATING DISTRIBUTION ===\")\n",
    "    rating_counts = df['rating'].value_counts().sort_index()\n",
    "    for rating, count in rating_counts.items():\n",
    "        print(f\"Rating {rating}: {count} ({count/total_samples*100:.1f}%)\")\n",
    "    print(\"=\" * 40)"
   ]
  },
  {
   "cell_type": "code",
   "execution_count": 5,
   "id": "2a893405",
   "metadata": {},
   "outputs": [],
   "source": [
    "class RatedDataset(Dataset):\n",
    "    \"\"\"Custom PyTorch dataset for rated response data.\"\"\"\n",
    "    \n",
    "    def __init__(self, sentences: list, labels: list):\n",
    "        self.sentences = sentences\n",
    "        self.labels = labels\n",
    "\n",
    "    def __len__(self) -> int:\n",
    "        return len(self.sentences)\n",
    "\n",
    "    def __getitem__(self, idx: int) -> Tuple[str, torch.Tensor]:\n",
    "        sentence = self.sentences[idx]\n",
    "        label = self.labels[idx]\n",
    "        return sentence, torch.tensor(label, dtype=torch.float)\n",
    "\n",
    "def worker_init_fn(worker_id: int, seed: int = 9999) -> None:\n",
    "    \"\"\"Ensure deterministic behavior in DataLoader workers.\"\"\"\n",
    "    np.random.seed(seed + worker_id)\n",
    "    random.seed(seed + worker_id)"
   ]
  },
  {
   "cell_type": "code",
   "execution_count": 6,
   "id": "28a8c944",
   "metadata": {},
   "outputs": [],
   "source": [
    "class CompactQualityClassifier(nn.Module):\n",
    "    \"\"\"Compact transformer-based quality classifier optimized for limited data.\"\"\"\n",
    "    \n",
    "    def __init__(self, transformer_model_name: str, dropout_rate: float = 0.2, \n",
    "                 freeze_transformer: bool = False):\n",
    "        super(CompactQualityClassifier, self).__init__()\n",
    "        self.tokenizer = AutoTokenizer.from_pretrained(transformer_model_name)\n",
    "        self.transformer = AutoModel.from_pretrained(transformer_model_name)\n",
    "        \n",
    "        # Freeze transformer parameters if specified\n",
    "        if freeze_transformer:\n",
    "            for param in self.transformer.parameters():\n",
    "                param.requires_grad = False\n",
    "            print(\"Transformer layers frozen - only training classification head\")\n",
    "        else:\n",
    "            print(\"All transformer layers will be fine-tuned\")\n",
    "        \n",
    "        # Add dropout for regularization\n",
    "        self.dropout = nn.Dropout(dropout_rate)\n",
    "        \n",
    "        # Simplified architecture for smaller dataset\n",
    "        hidden_size = self.transformer.config.hidden_size\n",
    "        self.classifier = nn.Sequential(\n",
    "            nn.Linear(hidden_size, 256),\n",
    "            nn.ReLU(),\n",
    "            nn.Dropout(dropout_rate),\n",
    "            nn.Linear(256, 64),\n",
    "            nn.ReLU(),\n",
    "            nn.Dropout(dropout_rate),\n",
    "            nn.Linear(64, 1)\n",
    "        )\n",
    "\n",
    "    def forward(self, sentences: list) -> torch.Tensor:\n",
    "        # Tokenize and encode as batch\n",
    "        encoding = self.tokenizer(\n",
    "            sentences, \n",
    "            padding=True, \n",
    "            truncation=True, \n",
    "            max_length=512,\n",
    "            return_tensors=\"pt\"\n",
    "        ).to(next(self.transformer.parameters()).device)\n",
    "        \n",
    "        outputs = self.transformer(**encoding)\n",
    "        # Use the [CLS] token embedding for classification\n",
    "        pooled = outputs.last_hidden_state[:, 0, :]\n",
    "        \n",
    "        # Apply dropout and classification layers\n",
    "        x = self.dropout(pooled)\n",
    "        logits = self.classifier(x)\n",
    "        \n",
    "        return logits\n",
    "    \n",
    "    def count_parameters(self) -> Tuple[int, int]:\n",
    "        \"\"\"Count total and trainable parameters.\"\"\"\n",
    "        total_params = sum(p.numel() for p in self.parameters())\n",
    "        trainable_params = sum(p.numel() for p in self.parameters() if p.requires_grad)\n",
    "        \n",
    "        print(f\"\\n=== MODEL PARAMETER ANALYSIS ===\")\n",
    "        print(f\"Total parameters: {total_params:,}\")\n",
    "        print(f\"Trainable parameters: {trainable_params:,}\")\n",
    "        print(f\"Frozen parameters: {total_params - trainable_params:,}\")\n",
    "        print(f\"Percentage trainable: {trainable_params/total_params*100:.1f}%\")\n",
    "        print(\"=\" * 40)\n",
    "        \n",
    "        return total_params, trainable_params"
   ]
  },
  {
   "cell_type": "markdown",
   "id": "7db2d727",
   "metadata": {},
   "source": [
    "## 3. Training and Validation Functions"
   ]
  },
  {
   "cell_type": "code",
   "execution_count": 7,
   "id": "d68a8041",
   "metadata": {},
   "outputs": [],
   "source": [
    "def get_metric_for_early_stopping(metric_name: str, loss: float, accuracy: float, f1: float) -> float:\n",
    "    \"\"\"Get the metric value based on the early stopping metric name.\"\"\"\n",
    "    if metric_name == \"loss\":\n",
    "        return loss\n",
    "    elif metric_name == \"accuracy\":\n",
    "        return accuracy\n",
    "    elif metric_name == \"f1\":\n",
    "        return f1\n",
    "    else:\n",
    "        raise ValueError(f\"Unknown metric: {metric_name}. Choose from 'loss', 'accuracy', 'f1'\")\n",
    "\n",
    "def is_metric_improved(metric_name: str, current_value: float, best_value: float) -> bool:\n",
    "    \"\"\"Check if the metric has improved (lower is better for loss, higher is better for accuracy/f1).\"\"\"\n",
    "    if metric_name == \"loss\":\n",
    "        return current_value < best_value\n",
    "    else:  # accuracy or f1\n",
    "        return current_value > best_value\n",
    "\n",
    "def validate(model: nn.Module, val_loader: DataLoader, criterion: nn.Module, \n",
    "            device: torch.device) -> Tuple[float, float, float]:\n",
    "    \"\"\"Perform validation and return the loss, accuracy, and F1 score.\"\"\"\n",
    "    model.eval()\n",
    "    valid_loss = 0.0\n",
    "    valid_correct = 0\n",
    "    all_predictions = []\n",
    "    all_labels = []\n",
    "    \n",
    "    with torch.no_grad():\n",
    "        for sentences, labels in val_loader:\n",
    "            sentences = list(sentences)\n",
    "            labels = labels.to(device)\n",
    "            \n",
    "            # Forward pass\n",
    "            outputs = model(sentences).squeeze(1)\n",
    "            \n",
    "            # Compute loss\n",
    "            loss = criterion(outputs, labels)\n",
    "            valid_loss += loss.item()\n",
    "            \n",
    "            # Calculate accuracy and collect predictions for F1\n",
    "            predictions = torch.round(torch.sigmoid(outputs))\n",
    "            valid_correct += (predictions == labels).sum().item()\n",
    "            \n",
    "            # Store for F1 calculation\n",
    "            all_predictions.extend(predictions.cpu().numpy())\n",
    "            all_labels.extend(labels.cpu().numpy())\n",
    "\n",
    "    valid_loss /= len(val_loader)\n",
    "    valid_accuracy = valid_correct / len(val_loader.dataset)\n",
    "    \n",
    "    # Handle case where all predictions are the same class\n",
    "    try:\n",
    "        valid_f1 = f1_score(all_labels, all_predictions, average='binary')\n",
    "    except:\n",
    "        valid_f1 = 0.0\n",
    "    \n",
    "    return valid_loss, valid_accuracy, valid_f1"
   ]
  },
  {
   "cell_type": "markdown",
   "id": "5e1412cf",
   "metadata": {},
   "source": [
    "## 4. Main Training Function"
   ]
  },
  {
   "cell_type": "code",
   "execution_count": 8,
   "id": "78ab3537",
   "metadata": {},
   "outputs": [],
   "source": [
    "def train_router_quality_classifier(\n",
    "    dataset_path: str = \"rated_enhanced_dataset_meta_llama_llama_3.1_8b_instruct_20250811_140130_20250811_151904.jsonl\",\n",
    "    # Model hyperparameters\n",
    "    transformer_model_name: str = 'distilbert-base-uncased',\n",
    "    dropout_rate: float = 0.1,\n",
    "    freeze_transformer: bool = False,\n",
    "    \n",
    "    # Training hyperparameters\n",
    "    learning_rate: float = 0.0001,\n",
    "    batch_size: int = 16,\n",
    "    n_epochs: int = 10,\n",
    "    weight_decay: float = 0.0001,\n",
    "    gradient_clip_value: float = 1.0,\n",
    "    \n",
    "    # Data hyperparameters\n",
    "    test_size: float = 0.2,\n",
    "    dataset_fraction: float = 1.0,\n",
    "    rating_threshold: int = 4,\n",
    "    \n",
    "    # Early stopping and scheduling\n",
    "    early_stopping_metric: str = \"f1\",\n",
    "    early_stopping_patience: int = 500,\n",
    "    warmup_steps: int = 50,\n",
    "    enable_lr_annealing: bool = True,\n",
    "    lr_annealing_patience: int = 5,\n",
    "    lr_annealing_factor: float = 0.5,\n",
    "    lr_annealing_min_lr: float = 1e-6,\n",
    "    \n",
    "    # Experiment settings\n",
    "    experiment_name: str = \"router_training\",\n",
    "    seed: int = 9999,\n",
    "    use_wandb: bool = True\n",
    ") -> Dict[str, Any]:\n",
    "    \"\"\"\n",
    "    Train a router quality classifier with comprehensive configuration options.\n",
    "    \n",
    "    Returns:\n",
    "        Dictionary containing training results and best metrics\n",
    "    \"\"\"\n",
    "    \n",
    "    # Set up reproducible environment\n",
    "    set_reproducible_environment(seed)\n",
    "    \n",
    "    # Generate run name\n",
    "    timestamp = time.strftime('%Y%m%d_%H%M%S')\n",
    "    run_name = f\"{experiment_name}_{timestamp}\" if experiment_name else f\"run_{timestamp}\"\n",
    "    \n",
    "    # Initialize W&B if enabled\n",
    "    if use_wandb:\n",
    "        wandb.init(project=\"router_rated\", name=run_name)\n",
    "    \n",
    "    print(f\"\\nStarting training run: {run_name}\")\n",
    "    print(f\"Using dataset: {dataset_path}\")\n",
    "    \n",
    "    # Load and process dataset\n",
    "    print(\"\\nLoading rated dataset...\")\n",
    "    data_items = load_rated_dataset(dataset_path)\n",
    "    print(f\"Loaded {len(data_items)} items with ratings\")\n",
    "    \n",
    "    # Convert to DataFrame and filter\n",
    "    df = pd.DataFrame(data_items)\n",
    "    df = df.dropna(subset=['rating'])\n",
    "    print(f\"Dataset after filtering: {len(df)} items\")\n",
    "    \n",
    "    # Create binary labels\n",
    "    df[\"quality_label\"] = df[\"rating\"].apply(lambda x: 0 if x >= rating_threshold else 1)\n",
    "    \n",
    "    # Analyze dataset\n",
    "    analyze_dataset(df, rating_threshold)\n",
    "    \n",
    "    # Extract sentences and labels\n",
    "    sentences = df[\"model_response\"].tolist()\n",
    "    labels = df[\"quality_label\"].tolist()\n",
    "    \n",
    "    # Sample dataset if needed\n",
    "    if dataset_fraction < 1.0:\n",
    "        df_sampled = df.sample(frac=dataset_fraction, random_state=seed).reset_index(drop=True)\n",
    "        sentences = df_sampled[\"model_response\"].tolist()\n",
    "        labels = df_sampled[\"quality_label\"].tolist()\n",
    "        print(f\"Sampled {len(sentences)} items ({dataset_fraction*100}% of dataset)\")\n",
    "    \n",
    "    # Split data\n",
    "    sentences_train, sentences_val, labels_train, labels_val = train_test_split(\n",
    "        sentences, labels, test_size=test_size, random_state=seed, stratify=labels\n",
    "    )\n",
    "    \n",
    "    print(f\"\\nTraining samples: {len(sentences_train)}\")\n",
    "    print(f\"Validation samples: {len(sentences_val)}\")\n",
    "    \n",
    "    # Create datasets and data loaders\n",
    "    train_data = RatedDataset(sentences_train, labels_train)\n",
    "    val_data = RatedDataset(sentences_val, labels_val)\n",
    "    \n",
    "    # Create generator for reproducible shuffling\n",
    "    g = torch.Generator()\n",
    "    g.manual_seed(seed)\n",
    "    \n",
    "    train_loader = DataLoader(\n",
    "        train_data, \n",
    "        batch_size=batch_size, \n",
    "        shuffle=True,\n",
    "        generator=g,\n",
    "        worker_init_fn=lambda w: worker_init_fn(w, seed),\n",
    "        num_workers=0\n",
    "    )\n",
    "    \n",
    "    val_loader = DataLoader(\n",
    "        val_data, \n",
    "        batch_size=batch_size, \n",
    "        shuffle=False,\n",
    "        worker_init_fn=lambda w: worker_init_fn(w, seed),\n",
    "        num_workers=0\n",
    "    )\n",
    "    \n",
    "    print(\"DataLoaders created successfully\")\n",
    "    \n",
    "    # Initialize model\n",
    "    print(f\"\\nInitializing model: {transformer_model_name}\")\n",
    "    model = CompactQualityClassifier(\n",
    "        transformer_model_name=transformer_model_name,\n",
    "        dropout_rate=dropout_rate,\n",
    "        freeze_transformer=freeze_transformer\n",
    "    )\n",
    "    \n",
    "    # Deterministic weight initialization for classifier layers\n",
    "    def init_weights_deterministic(module):\n",
    "        if isinstance(module, nn.Linear):\n",
    "            torch.manual_seed(seed)\n",
    "            nn.init.xavier_uniform_(module.weight)\n",
    "            if module.bias is not None:\n",
    "                nn.init.constant_(module.bias, 0)\n",
    "    \n",
    "    model.classifier.apply(init_weights_deterministic)\n",
    "    \n",
    "    # Move to device\n",
    "    device = torch.device(\"cuda\" if torch.cuda.is_available() else \"cpu\")\n",
    "    model = model.to(device)\n",
    "    print(f\"📱 Model moved to device: {device}\")\n",
    "    \n",
    "    # Count parameters\n",
    "    total_params, trainable_params = model.count_parameters()\n",
    "    \n",
    "    # Initialize training components\n",
    "    criterion = nn.BCEWithLogitsLoss()\n",
    "    optimizer = torch.optim.AdamW(model.parameters(), lr=learning_rate, weight_decay=weight_decay)\n",
    "    \n",
    "    # Learning rate scheduler for warmup\n",
    "    scheduler = LinearLR(optimizer, start_factor=0.1, total_iters=warmup_steps)\n",
    "    \n",
    "    # Learning rate annealing scheduler\n",
    "    lr_annealing_scheduler = None\n",
    "    if enable_lr_annealing:\n",
    "        lr_annealing_scheduler = ReduceLROnPlateau(\n",
    "            optimizer, \n",
    "            mode='min',\n",
    "            factor=lr_annealing_factor,\n",
    "            patience=lr_annealing_patience,\n",
    "            min_lr=lr_annealing_min_lr,\n",
    "            verbose=True\n",
    "        )\n",
    "        print(f\"LR Annealing enabled: factor={lr_annealing_factor}, patience={lr_annealing_patience}\")\n",
    "    \n",
    "    # Create runs directory\n",
    "    runs_dir = \"runs\"\n",
    "    os.makedirs(runs_dir, exist_ok=True)\n",
    "    \n",
    "    # Initialize tracking variables\n",
    "    best_valid_loss = float('inf')\n",
    "    best_valid_accuracy = 0.0\n",
    "    best_valid_f1 = 0.0\n",
    "    best_metric_value = float('inf') if early_stopping_metric == \"loss\" else 0.0\n",
    "    patience_counter = 0\n",
    "    \n",
    "    # Log hyperparameters to W&B\n",
    "    if use_wandb:\n",
    "        wandb.config = {\n",
    "            \"learning_rate\": learning_rate,\n",
    "            \"epochs\": n_epochs,\n",
    "            \"batch_size\": batch_size,\n",
    "            \"transformer_model\": transformer_model_name,\n",
    "            \"dataset_fraction\": dataset_fraction,\n",
    "            \"test_size\": test_size,\n",
    "            \"experiment_name\": experiment_name,\n",
    "            \"weight_decay\": weight_decay,\n",
    "            \"warmup_steps\": warmup_steps,\n",
    "            \"early_stopping_patience\": early_stopping_patience,\n",
    "            \"early_stopping_metric\": early_stopping_metric,\n",
    "            \"enable_lr_annealing\": enable_lr_annealing,\n",
    "            \"dropout_rate\": dropout_rate,\n",
    "            \"freeze_transformer\": freeze_transformer,\n",
    "            \"rating_threshold\": rating_threshold,\n",
    "            \"total_parameters\": total_params,\n",
    "            \"trainable_parameters\": trainable_params,\n",
    "            \"dataset_size\": len(sentences),\n",
    "            \"seed\": seed,\n",
    "            \"device\": str(device),\n",
    "        }\n",
    "    \n",
    "    # Initial validation\n",
    "    print(\"\\nStarting initial validation...\")\n",
    "    initial_valid_loss, initial_valid_accuracy, initial_valid_f1 = validate(model, val_loader, criterion, device)\n",
    "    print(f\"Initial - Loss: {initial_valid_loss:.4f}, Accuracy: {initial_valid_accuracy:.4f}, F1: {initial_valid_f1:.4f}\")\n",
    "    \n",
    "    if use_wandb:\n",
    "        wandb.log({\n",
    "            \"epoch\": 0,\n",
    "            \"valid_loss\": initial_valid_loss,\n",
    "            \"valid_accuracy\": initial_valid_accuracy,\n",
    "            \"valid_f1\": initial_valid_f1,\n",
    "        })\n",
    "    \n",
    "    # Training loop\n",
    "    print(f\"\\nStarting training for {n_epochs} epochs...\")\n",
    "    global_step = 0\n",
    "    \n",
    "    def set_all_seeds(s):\n",
    "        \"\"\"Set all random seeds for maximum reproducibility.\"\"\"\n",
    "        random.seed(s)\n",
    "        np.random.seed(s)\n",
    "        torch.manual_seed(s)\n",
    "        if torch.cuda.is_available():\n",
    "            torch.cuda.manual_seed_all(s)\n",
    "    \n",
    "    for epoch in range(n_epochs):\n",
    "        # Re-set seeds for each epoch\n",
    "        set_all_seeds(seed + epoch)\n",
    "        \n",
    "        # Training phase\n",
    "        model.train()\n",
    "        train_loss = 0.0\n",
    "        train_correct = 0\n",
    "        train_predictions = []\n",
    "        train_labels_list = []\n",
    "        \n",
    "        progress_bar = tqdm(train_loader, desc=f\"Epoch {epoch+1}/{n_epochs}\")\n",
    "        \n",
    "        for batch_idx, (sentences, labels) in enumerate(progress_bar):\n",
    "            sentences = list(sentences)\n",
    "            labels = labels.to(device)\n",
    "            \n",
    "            # Clear gradients\n",
    "            optimizer.zero_grad()\n",
    "            \n",
    "            # Forward pass\n",
    "            outputs = model(sentences).squeeze(1)\n",
    "            \n",
    "            # Compute loss\n",
    "            loss = criterion(outputs, labels)\n",
    "            \n",
    "            # Backward pass with gradient clipping\n",
    "            loss.backward()\n",
    "            torch.nn.utils.clip_grad_norm_(model.parameters(), gradient_clip_value)\n",
    "            optimizer.step()\n",
    "            \n",
    "            # Update learning rate scheduler for warmup period\n",
    "            if global_step < warmup_steps:\n",
    "                scheduler.step()\n",
    "            \n",
    "            global_step += 1\n",
    "            \n",
    "            # Track training metrics\n",
    "            train_loss += loss.item()\n",
    "            predictions = torch.round(torch.sigmoid(outputs))\n",
    "            train_correct += (predictions == labels).sum().item()\n",
    "            \n",
    "            # Store for F1 calculation\n",
    "            train_predictions.extend(predictions.detach().cpu().numpy())\n",
    "            train_labels_list.extend(labels.detach().cpu().numpy())\n",
    "            \n",
    "            # Update progress bar\n",
    "            progress_bar.set_postfix({\n",
    "                'loss': f'{loss.item():.4f}',\n",
    "                'lr': f'{optimizer.param_groups[0][\"lr\"]:.6f}'\n",
    "            })\n",
    "        \n",
    "        # Calculate epoch metrics\n",
    "        train_loss /= len(train_loader)\n",
    "        train_accuracy = train_correct / len(train_loader.dataset)\n",
    "        \n",
    "        try:\n",
    "            train_f1 = f1_score(train_labels_list, train_predictions, average='binary')\n",
    "        except:\n",
    "            train_f1 = 0.0\n",
    "        \n",
    "        # Validation\n",
    "        valid_loss, valid_accuracy, valid_f1 = validate(model, val_loader, criterion, device)\n",
    "        \n",
    "        # Apply LR annealing\n",
    "        if enable_lr_annealing and lr_annealing_scheduler is not None:\n",
    "            lr_annealing_scheduler.step(train_loss)\n",
    "        \n",
    "        # Log metrics\n",
    "        if use_wandb:\n",
    "            wandb.log({\n",
    "                \"epoch\": epoch + 1,\n",
    "                \"train_loss\": train_loss,\n",
    "                \"train_accuracy\": train_accuracy,\n",
    "                \"train_f1\": train_f1,\n",
    "                \"valid_loss\": valid_loss,\n",
    "                \"valid_accuracy\": valid_accuracy,\n",
    "                \"valid_f1\": valid_f1,\n",
    "                \"learning_rate\": optimizer.param_groups[0][\"lr\"],\n",
    "            })\n",
    "        \n",
    "        print(f'Epoch {epoch+1}/{n_epochs}:')\n",
    "        print(f'  Training   - Loss: {train_loss:.4f}, Accuracy: {train_accuracy:.4f}, F1: {train_f1:.4f}')\n",
    "        print(f'  Validation - Loss: {valid_loss:.4f}, Accuracy: {valid_accuracy:.4f}, F1: {valid_f1:.4f}')\n",
    "        print(f'  Learning Rate: {optimizer.param_groups[0][\"lr\"]:.8f}')\n",
    "        \n",
    "        # Early stopping and model saving\n",
    "        current_metric_value = get_metric_for_early_stopping(early_stopping_metric, valid_loss, valid_accuracy, valid_f1)\n",
    "        \n",
    "        if is_metric_improved(early_stopping_metric, current_metric_value, best_metric_value):\n",
    "            best_metric_value = current_metric_value\n",
    "            best_valid_loss = valid_loss\n",
    "            best_valid_accuracy = valid_accuracy\n",
    "            best_valid_f1 = valid_f1\n",
    "            patience_counter = 0\n",
    "            torch.save(model.state_dict(), os.path.join(runs_dir, f'best_model_{run_name}.pt'))\n",
    "            print(f\"New best model saved with {early_stopping_metric}: {current_metric_value:.4f}\")\n",
    "            \n",
    "            if use_wandb:\n",
    "                wandb.log({\n",
    "                    \"best_valid_loss\": best_valid_loss,\n",
    "                    \"best_valid_accuracy\": best_valid_accuracy,\n",
    "                    \"best_valid_f1\": best_valid_f1,\n",
    "                    f\"best_{early_stopping_metric}\": best_metric_value,\n",
    "                })\n",
    "        else:\n",
    "            patience_counter += 1\n",
    "            print(f\"No improvement in {early_stopping_metric}. Patience: {patience_counter}/{early_stopping_patience}\")\n",
    "            \n",
    "            if patience_counter >= early_stopping_patience:\n",
    "                print(f'Early stopping triggered after {epoch+1} epochs (no improvement in {early_stopping_metric})')\n",
    "                break\n",
    "    \n",
    "    # Final evaluation\n",
    "    print(\"\\nFinal model evaluation...\")\n",
    "    model.load_state_dict(torch.load(os.path.join(runs_dir, f'best_model_{run_name}.pt')))\n",
    "    final_valid_loss, final_valid_accuracy, final_valid_f1 = validate(model, val_loader, criterion, device)\n",
    "    \n",
    "    print(f'\\nTRAINING COMPLETE')\n",
    "    print(f'Best validation loss: {best_valid_loss:.4f}')\n",
    "    print(f'Best validation accuracy: {best_valid_accuracy:.4f}')\n",
    "    print(f'Best validation F1: {best_valid_f1:.4f}')\n",
    "    print(f'Best {early_stopping_metric}: {best_metric_value:.4f}')\n",
    "    \n",
    "    # Log final results\n",
    "    if use_wandb:\n",
    "        wandb.log({\n",
    "            \"final_valid_loss\": final_valid_loss,\n",
    "            \"final_valid_accuracy\": final_valid_accuracy,\n",
    "            \"final_valid_f1\": final_valid_f1,\n",
    "            \"training_completed\": True,\n",
    "            \"epochs_trained\": epoch + 1,\n",
    "            \"early_stopped\": patience_counter >= early_stopping_patience,\n",
    "        })\n",
    "        \n",
    "        # Create summary table\n",
    "        summary_table = wandb.Table(\n",
    "            columns=[\"Metric\", \"Best Validation\", \"Final Validation\"],\n",
    "            data=[\n",
    "                [\"Loss\", best_valid_loss, final_valid_loss],\n",
    "                [\"Accuracy\", best_valid_accuracy, final_valid_accuracy],\n",
    "                [\"F1\", best_valid_f1, final_valid_f1]\n",
    "            ]\n",
    "        )\n",
    "        wandb.log({\"validation_summary\": summary_table})\n",
    "        wandb.finish()\n",
    "    \n",
    "    # Return results\n",
    "    return {\n",
    "        \"run_name\": run_name,\n",
    "        \"model_path\": os.path.join(runs_dir, f'best_model_{run_name}.pt'),\n",
    "        \"best_metrics\": {\n",
    "            \"loss\": best_valid_loss,\n",
    "            \"accuracy\": best_valid_accuracy,\n",
    "            \"f1\": best_valid_f1,\n",
    "            early_stopping_metric: best_metric_value\n",
    "        },\n",
    "        \"final_metrics\": {\n",
    "            \"loss\": final_valid_loss,\n",
    "            \"accuracy\": final_valid_accuracy,\n",
    "            \"f1\": final_valid_f1\n",
    "        },\n",
    "        \"training_info\": {\n",
    "            \"epochs_trained\": epoch + 1,\n",
    "            \"early_stopped\": patience_counter >= early_stopping_patience,\n",
    "            \"total_parameters\": total_params,\n",
    "            \"trainable_parameters\": trainable_params\n",
    "        }\n",
    "    }"
   ]
  },
  {
   "cell_type": "markdown",
   "id": "a2247ebd",
   "metadata": {},
   "source": [
    "## 5. Training"
   ]
  },
  {
   "cell_type": "markdown",
   "id": "6d9dc9e0",
   "metadata": {},
   "source": [
    "### Basic Training with Default Parameters"
   ]
  },
  {
   "cell_type": "code",
   "execution_count": 8,
   "id": "a313dbcc",
   "metadata": {
    "scrolled": true
   },
   "outputs": [
    {
     "name": "stdout",
     "output_type": "stream",
     "text": [
      "Reproducible environment set with seed: 9999\n",
      "\n",
      "Starting training run: basic_test_20250813_005702\n",
      "Using dataset: rated_enhanced_dataset_meta_llama_llama_3.1_8b_instruct_20250811_140130_20250811_151904.jsonl\n",
      "\n",
      "Loading rated dataset...\n",
      "Loaded 1756 items with ratings\n",
      "Dataset after filtering: 1756 items\n",
      "\n",
      "=== DATASET ANALYSIS ===\n",
      "Total samples: 1756\n",
      "Label 0 (Good quality, rating >= 4): 1526 (86.9%)\n",
      "Label 1 (Poor quality, rating < 4): 230 (13.1%)\n",
      "Class balance ratio (0:1): 6.63:1\n",
      "\n",
      "=== RATING DISTRIBUTION ===\n",
      "Rating 1: 37 (2.1%)\n",
      "Rating 2: 107 (6.1%)\n",
      "Rating 3: 86 (4.9%)\n",
      "Rating 4: 329 (18.7%)\n",
      "Rating 5: 1197 (68.2%)\n",
      "========================================\n",
      "\n",
      "Training samples: 1404\n",
      "Validation samples: 352\n",
      "DataLoaders created successfully\n",
      "\n",
      "Initializing model: distilbert-base-uncased\n",
      "All transformer layers will be fine-tuned\n",
      "All transformer layers will be fine-tuned\n",
      "📱 Model moved to device: cuda\n",
      "\n",
      "=== MODEL PARAMETER ANALYSIS ===\n",
      "Total parameters: 66,576,257\n",
      "Trainable parameters: 66,576,257\n",
      "Frozen parameters: 0\n",
      "Percentage trainable: 100.0%\n",
      "========================================\n",
      "LR Annealing enabled: factor=0.5, patience=5\n",
      "\n",
      "Starting initial validation...\n",
      "📱 Model moved to device: cuda\n",
      "\n",
      "=== MODEL PARAMETER ANALYSIS ===\n",
      "Total parameters: 66,576,257\n",
      "Trainable parameters: 66,576,257\n",
      "Frozen parameters: 0\n",
      "Percentage trainable: 100.0%\n",
      "========================================\n",
      "LR Annealing enabled: factor=0.5, patience=5\n",
      "\n",
      "Starting initial validation...\n",
      "Initial - Loss: 0.7383, Accuracy: 0.2358, F1: 0.2018\n",
      "\n",
      "Starting training for 3 epochs...\n",
      "Initial - Loss: 0.7383, Accuracy: 0.2358, F1: 0.2018\n",
      "\n",
      "Starting training for 3 epochs...\n"
     ]
    },
    {
     "name": "stderr",
     "output_type": "stream",
     "text": [
      "Epoch 1/3: 100%|██████████| 88/88 [00:50<00:00,  1.75it/s, loss=0.3028, lr=0.000100]\n",
      "\n"
     ]
    },
    {
     "name": "stdout",
     "output_type": "stream",
     "text": [
      "Epoch 1/3:\n",
      "  Training   - Loss: 0.4040, Accuracy: 0.8583, F1: 0.0569\n",
      "  Validation - Loss: 0.3556, Accuracy: 0.8693, F1: 0.0000\n",
      "  Learning Rate: 0.00010000\n",
      "No improvement in f1. Patience: 1/500\n"
     ]
    },
    {
     "name": "stderr",
     "output_type": "stream",
     "text": [
      "Epoch 2/3: 100%|██████████| 88/88 [00:50<00:00,  1.73it/s, loss=0.0724, lr=0.000100]\n",
      "\n"
     ]
    },
    {
     "name": "stdout",
     "output_type": "stream",
     "text": [
      "Epoch 2/3:\n",
      "  Training   - Loss: 0.3602, Accuracy: 0.8796, F1: 0.2283\n",
      "  Validation - Loss: 0.3520, Accuracy: 0.8750, F1: 0.1200\n",
      "  Learning Rate: 0.00010000\n",
      "New best model saved with f1: 0.1200\n",
      "New best model saved with f1: 0.1200\n"
     ]
    },
    {
     "name": "stderr",
     "output_type": "stream",
     "text": [
      "Epoch 3/3: 100%|██████████| 88/88 [00:51<00:00,  1.72it/s, loss=0.6044, lr=0.000100]\n",
      "\n"
     ]
    },
    {
     "name": "stdout",
     "output_type": "stream",
     "text": [
      "Epoch 3/3:\n",
      "  Training   - Loss: 0.3335, Accuracy: 0.8974, F1: 0.4375\n",
      "  Validation - Loss: 0.3310, Accuracy: 0.8864, F1: 0.3103\n",
      "  Learning Rate: 0.00010000\n",
      "New best model saved with f1: 0.3103\n",
      "\n",
      "Final model evaluation...\n",
      "New best model saved with f1: 0.3103\n",
      "\n",
      "Final model evaluation...\n",
      "\n",
      "TRAINING COMPLETE\n",
      "Best validation loss: 0.3310\n",
      "Best validation accuracy: 0.8864\n",
      "Best validation F1: 0.3103\n",
      "Best f1: 0.3103\n",
      "\n",
      "Training Results:\n",
      "Model saved at: runs\\best_model_basic_test_20250813_005702.pt\n",
      "Best F1 score: 0.3103\n",
      "Total epochs: 3\n",
      "\n",
      "TRAINING COMPLETE\n",
      "Best validation loss: 0.3310\n",
      "Best validation accuracy: 0.8864\n",
      "Best validation F1: 0.3103\n",
      "Best f1: 0.3103\n",
      "\n",
      "Training Results:\n",
      "Model saved at: runs\\best_model_basic_test_20250813_005702.pt\n",
      "Best F1 score: 0.3103\n",
      "Total epochs: 3\n"
     ]
    }
   ],
   "source": [
    "# Basic training run with default parameters\n",
    "results = train_router_quality_classifier(\n",
    "    experiment_name=\"basic_test\",\n",
    "    n_epochs=3,  # Quick test\n",
    "    use_wandb=False  # Disable wandb for testing\n",
    ")\n",
    "\n",
    "print(\"\\nTraining Results:\")\n",
    "print(f\"Model saved at: {results['model_path']}\")\n",
    "print(f\"Best F1 score: {results['best_metrics']['f1']:.4f}\")\n",
    "print(f\"Total epochs: {results['training_info']['epochs_trained']}\")"
   ]
  },
  {
   "cell_type": "markdown",
   "id": "41e6d211",
   "metadata": {},
   "source": [
    "### Lets Adjust Parameters"
   ]
  },
  {
   "cell_type": "code",
   "execution_count": 9,
   "id": "97150212",
   "metadata": {
    "collapsed": true,
    "jupyter": {
     "outputs_hidden": true
    }
   },
   "outputs": [
    {
     "name": "stdout",
     "output_type": "stream",
     "text": [
      "Reproducible environment set with seed: 9999\n"
     ]
    },
    {
     "name": "stderr",
     "output_type": "stream",
     "text": [
      "wandb: Currently logged in as: shubhamjune (shubhamjune-vilnius-university) to https://api.wandb.ai. Use `wandb login --relogin` to force relogin\n"
     ]
    },
    {
     "data": {
      "text/html": [
       "Tracking run with wandb version 0.21.1"
      ],
      "text/plain": [
       "<IPython.core.display.HTML object>"
      ]
     },
     "metadata": {},
     "output_type": "display_data"
    },
    {
     "data": {
      "text/html": [
       "Run data is saved locally in <code>C:\\Users\\sj_x3\\Desktop\\code\\git\\smart_routing\\wandb\\run-20250813_161424-3wlrsrce</code>"
      ],
      "text/plain": [
       "<IPython.core.display.HTML object>"
      ]
     },
     "metadata": {},
     "output_type": "display_data"
    },
    {
     "data": {
      "text/html": [
       "Syncing run <strong><a href='https://wandb.ai/shubhamjune-vilnius-university/router_rated/runs/3wlrsrce' target=\"_blank\">dropout30wd01_20250813_161421</a></strong> to <a href='https://wandb.ai/shubhamjune-vilnius-university/router_rated' target=\"_blank\">Weights & Biases</a> (<a href='https://wandb.me/developer-guide' target=\"_blank\">docs</a>)<br>"
      ],
      "text/plain": [
       "<IPython.core.display.HTML object>"
      ]
     },
     "metadata": {},
     "output_type": "display_data"
    },
    {
     "data": {
      "text/html": [
       " View project at <a href='https://wandb.ai/shubhamjune-vilnius-university/router_rated' target=\"_blank\">https://wandb.ai/shubhamjune-vilnius-university/router_rated</a>"
      ],
      "text/plain": [
       "<IPython.core.display.HTML object>"
      ]
     },
     "metadata": {},
     "output_type": "display_data"
    },
    {
     "data": {
      "text/html": [
       " View run at <a href='https://wandb.ai/shubhamjune-vilnius-university/router_rated/runs/3wlrsrce' target=\"_blank\">https://wandb.ai/shubhamjune-vilnius-university/router_rated/runs/3wlrsrce</a>"
      ],
      "text/plain": [
       "<IPython.core.display.HTML object>"
      ]
     },
     "metadata": {},
     "output_type": "display_data"
    },
    {
     "name": "stdout",
     "output_type": "stream",
     "text": [
      "\n",
      "Starting training run: dropout30wd01_20250813_161421\n",
      "Using dataset: rated_enhanced_dataset_meta_llama_llama_3.1_8b_instruct_20250811_140130_20250811_151904.jsonl\n",
      "\n",
      "Loading rated dataset...\n",
      "Loaded 1756 items with ratings\n",
      "Dataset after filtering: 1756 items\n",
      "\n",
      "=== DATASET ANALYSIS ===\n",
      "Total samples: 1756\n",
      "Label 0 (Good quality, rating >= 4): 1526 (86.9%)\n",
      "Label 1 (Poor quality, rating < 4): 230 (13.1%)\n",
      "Class balance ratio (0:1): 6.63:1\n",
      "\n",
      "=== RATING DISTRIBUTION ===\n",
      "Rating 1: 37 (2.1%)\n",
      "Rating 2: 107 (6.1%)\n",
      "Rating 3: 86 (4.9%)\n",
      "Rating 4: 329 (18.7%)\n",
      "Rating 5: 1197 (68.2%)\n",
      "========================================\n",
      "\n",
      "Training samples: 1404\n",
      "Validation samples: 352\n",
      "DataLoaders created successfully\n",
      "\n",
      "Initializing model: distilbert-base-uncased\n",
      "All transformer layers will be fine-tuned\n",
      "📱 Model moved to device: cuda\n",
      "\n",
      "=== MODEL PARAMETER ANALYSIS ===\n",
      "Total parameters: 66,576,257\n",
      "Trainable parameters: 66,576,257\n",
      "Frozen parameters: 0\n",
      "Percentage trainable: 100.0%\n",
      "========================================\n",
      "LR Annealing enabled: factor=0.5, patience=5\n",
      "\n",
      "Starting initial validation...\n",
      "Initial - Loss: 0.7383, Accuracy: 0.2358, F1: 0.2018\n",
      "\n",
      "Starting training for 30 epochs...\n"
     ]
    },
    {
     "name": "stderr",
     "output_type": "stream",
     "text": [
      "Epoch 1/30:  16%|█████████████████████▏                                                                                                               | 14/88 [00:08<00:43,  1.69it/s, loss=0.4647, lr=0.000035]\n"
     ]
    },
    {
     "ename": "KeyboardInterrupt",
     "evalue": "",
     "output_type": "error",
     "traceback": [
      "\u001b[31m---------------------------------------------------------------------------\u001b[39m",
      "\u001b[31mKeyboardInterrupt\u001b[39m                         Traceback (most recent call last)",
      "\u001b[36mCell\u001b[39m\u001b[36m \u001b[39m\u001b[32mIn[9]\u001b[39m\u001b[32m, line 1\u001b[39m\n\u001b[32m----> \u001b[39m\u001b[32m1\u001b[39m intial_results = train_router_quality_classifier(\n\u001b[32m      2\u001b[39m     \u001b[38;5;66;03m# Model configuration\u001b[39;00m\n\u001b[32m      3\u001b[39m     dropout_rate=\u001b[32m0.3\u001b[39m,\n\u001b[32m      4\u001b[39m \n\u001b[32m      5\u001b[39m     \u001b[38;5;66;03m# Training hyperparameters\u001b[39;00m\n\u001b[32m      6\u001b[39m     learning_rate=\u001b[32m0.0001\u001b[39m,\n\u001b[32m      7\u001b[39m     n_epochs=\u001b[32m30\u001b[39m,\n\u001b[32m      8\u001b[39m     weight_decay=\u001b[32m0.01\u001b[39m,\n\u001b[32m      9\u001b[39m \n\u001b[32m     10\u001b[39m     \u001b[38;5;66;03m# Learning rate scheduling\u001b[39;00m\n\u001b[32m     11\u001b[39m     enable_lr_annealing=\u001b[38;5;28;01mTrue\u001b[39;00m,\n\u001b[32m     12\u001b[39m \n\u001b[32m     13\u001b[39m     \u001b[38;5;66;03m# Experiment settings\u001b[39;00m\n\u001b[32m     14\u001b[39m     experiment_name=\u001b[33m\"\u001b[39m\u001b[33mdropout30wd01\u001b[39m\u001b[33m\"\u001b[39m,\n\u001b[32m     15\u001b[39m     use_wandb=\u001b[38;5;28;01mTrue\u001b[39;00m  \u001b[38;5;66;03m# Enable wandb logging\u001b[39;00m\n\u001b[32m     16\u001b[39m )\n",
      "\u001b[36mCell\u001b[39m\u001b[36m \u001b[39m\u001b[32mIn[8]\u001b[39m\u001b[32m, line 262\u001b[39m, in \u001b[36mtrain_router_quality_classifier\u001b[39m\u001b[34m(dataset_path, transformer_model_name, dropout_rate, freeze_transformer, learning_rate, batch_size, n_epochs, weight_decay, gradient_clip_value, test_size, dataset_fraction, rating_threshold, early_stopping_metric, early_stopping_patience, warmup_steps, enable_lr_annealing, lr_annealing_patience, lr_annealing_factor, lr_annealing_min_lr, experiment_name, seed, use_wandb)\u001b[39m\n\u001b[32m    259\u001b[39m global_step += \u001b[32m1\u001b[39m\n\u001b[32m    261\u001b[39m \u001b[38;5;66;03m# Track training metrics\u001b[39;00m\n\u001b[32m--> \u001b[39m\u001b[32m262\u001b[39m train_loss += loss.item()\n\u001b[32m    263\u001b[39m predictions = torch.round(torch.sigmoid(outputs))\n\u001b[32m    264\u001b[39m train_correct += (predictions == labels).sum().item()\n",
      "\u001b[31mKeyboardInterrupt\u001b[39m: "
     ]
    }
   ],
   "source": [
    "intial_results = train_router_quality_classifier(\n",
    "    # Model configuration\n",
    "    dropout_rate=0.3,\n",
    "    \n",
    "    # Training hyperparameters\n",
    "    learning_rate=0.0001,\n",
    "    n_epochs=30,\n",
    "    weight_decay=0.01,\n",
    "    \n",
    "    # Learning rate scheduling\n",
    "    enable_lr_annealing=True,\n",
    "    \n",
    "    # Experiment settings\n",
    "    experiment_name=\"dropout30wd01\",\n",
    "    use_wandb=True  # Enable wandb logging\n",
    ")"
   ]
  },
  {
   "cell_type": "markdown",
   "id": "bd213910-59ac-403c-b17b-e01cb5cd4073",
   "metadata": {},
   "source": [
    "## We have a tiny dataset, therefore we need high regularisation to stop from overfitting."
   ]
  },
  {
   "cell_type": "code",
   "execution_count": 10,
   "id": "17b3841b-ca3c-4da2-a718-9fdda2ad453f",
   "metadata": {
    "scrolled": true
   },
   "outputs": [
    {
     "name": "stdout",
     "output_type": "stream",
     "text": [
      "Reproducible environment set with seed: 9999\n"
     ]
    },
    {
     "data": {
      "text/html": [
       "Finishing previous runs because reinit is set to 'default'."
      ],
      "text/plain": [
       "<IPython.core.display.HTML object>"
      ]
     },
     "metadata": {},
     "output_type": "display_data"
    },
    {
     "data": {
      "text/html": [],
      "text/plain": [
       "<IPython.core.display.HTML object>"
      ]
     },
     "metadata": {},
     "output_type": "display_data"
    },
    {
     "data": {
      "text/html": [
       "<br>    <style><br>        .wandb-row {<br>            display: flex;<br>            flex-direction: row;<br>            flex-wrap: wrap;<br>            justify-content: flex-start;<br>            width: 100%;<br>        }<br>        .wandb-col {<br>            display: flex;<br>            flex-direction: column;<br>            flex-basis: 100%;<br>            flex: 1;<br>            padding: 10px;<br>        }<br>    </style><br><div class=\"wandb-row\"><div class=\"wandb-col\"><h3>Run history:</h3><br/><table class=\"wandb\"><tr><td>epoch</td><td>▁</td></tr><tr><td>valid_accuracy</td><td>▁</td></tr><tr><td>valid_f1</td><td>▁</td></tr><tr><td>valid_loss</td><td>▁</td></tr></table><br/></div><div class=\"wandb-col\"><h3>Run summary:</h3><br/><table class=\"wandb\"><tr><td>epoch</td><td>0</td></tr><tr><td>valid_accuracy</td><td>0.2358</td></tr><tr><td>valid_f1</td><td>0.20178</td></tr><tr><td>valid_loss</td><td>0.73829</td></tr></table><br/></div></div>"
      ],
      "text/plain": [
       "<IPython.core.display.HTML object>"
      ]
     },
     "metadata": {},
     "output_type": "display_data"
    },
    {
     "data": {
      "text/html": [
       " View run <strong style=\"color:#cdcd00\">dropout30wd01_20250813_161421</strong> at: <a href='https://wandb.ai/shubhamjune-vilnius-university/router_rated/runs/3wlrsrce' target=\"_blank\">https://wandb.ai/shubhamjune-vilnius-university/router_rated/runs/3wlrsrce</a><br> View project at: <a href='https://wandb.ai/shubhamjune-vilnius-university/router_rated' target=\"_blank\">https://wandb.ai/shubhamjune-vilnius-university/router_rated</a><br>Synced 5 W&B file(s), 0 media file(s), 0 artifact file(s) and 0 other file(s)"
      ],
      "text/plain": [
       "<IPython.core.display.HTML object>"
      ]
     },
     "metadata": {},
     "output_type": "display_data"
    },
    {
     "data": {
      "text/html": [
       "Find logs at: <code>.\\wandb\\run-20250813_161424-3wlrsrce\\logs</code>"
      ],
      "text/plain": [
       "<IPython.core.display.HTML object>"
      ]
     },
     "metadata": {},
     "output_type": "display_data"
    },
    {
     "data": {
      "text/html": [
       "Tracking run with wandb version 0.21.1"
      ],
      "text/plain": [
       "<IPython.core.display.HTML object>"
      ]
     },
     "metadata": {},
     "output_type": "display_data"
    },
    {
     "data": {
      "text/html": [
       "Run data is saved locally in <code>C:\\Users\\sj_x3\\Desktop\\code\\git\\smart_routing\\wandb\\run-20250813_161447-7b2lufkc</code>"
      ],
      "text/plain": [
       "<IPython.core.display.HTML object>"
      ]
     },
     "metadata": {},
     "output_type": "display_data"
    },
    {
     "data": {
      "text/html": [
       "Syncing run <strong><a href='https://wandb.ai/shubhamjune-vilnius-university/router_rated/runs/7b2lufkc' target=\"_blank\">dropout70wd01_20250813_161447</a></strong> to <a href='https://wandb.ai/shubhamjune-vilnius-university/router_rated' target=\"_blank\">Weights & Biases</a> (<a href='https://wandb.me/developer-guide' target=\"_blank\">docs</a>)<br>"
      ],
      "text/plain": [
       "<IPython.core.display.HTML object>"
      ]
     },
     "metadata": {},
     "output_type": "display_data"
    },
    {
     "data": {
      "text/html": [
       " View project at <a href='https://wandb.ai/shubhamjune-vilnius-university/router_rated' target=\"_blank\">https://wandb.ai/shubhamjune-vilnius-university/router_rated</a>"
      ],
      "text/plain": [
       "<IPython.core.display.HTML object>"
      ]
     },
     "metadata": {},
     "output_type": "display_data"
    },
    {
     "data": {
      "text/html": [
       " View run at <a href='https://wandb.ai/shubhamjune-vilnius-university/router_rated/runs/7b2lufkc' target=\"_blank\">https://wandb.ai/shubhamjune-vilnius-university/router_rated/runs/7b2lufkc</a>"
      ],
      "text/plain": [
       "<IPython.core.display.HTML object>"
      ]
     },
     "metadata": {},
     "output_type": "display_data"
    },
    {
     "name": "stdout",
     "output_type": "stream",
     "text": [
      "\n",
      "Starting training run: dropout70wd01_20250813_161447\n",
      "Using dataset: rated_enhanced_dataset_meta_llama_llama_3.1_8b_instruct_20250811_140130_20250811_151904.jsonl\n",
      "\n",
      "Loading rated dataset...\n",
      "Loaded 1756 items with ratings\n",
      "Dataset after filtering: 1756 items\n",
      "\n",
      "=== DATASET ANALYSIS ===\n",
      "Total samples: 1756\n",
      "Label 0 (Good quality, rating >= 4): 1526 (86.9%)\n",
      "Label 1 (Poor quality, rating < 4): 230 (13.1%)\n",
      "Class balance ratio (0:1): 6.63:1\n",
      "\n",
      "=== RATING DISTRIBUTION ===\n",
      "Rating 1: 37 (2.1%)\n",
      "Rating 2: 107 (6.1%)\n",
      "Rating 3: 86 (4.9%)\n",
      "Rating 4: 329 (18.7%)\n",
      "Rating 5: 1197 (68.2%)\n",
      "========================================\n",
      "\n",
      "Training samples: 1404\n",
      "Validation samples: 352\n",
      "DataLoaders created successfully\n",
      "\n",
      "Initializing model: distilbert-base-uncased\n",
      "All transformer layers will be fine-tuned\n",
      "📱 Model moved to device: cuda\n",
      "\n",
      "=== MODEL PARAMETER ANALYSIS ===\n",
      "Total parameters: 66,576,257\n",
      "Trainable parameters: 66,576,257\n",
      "Frozen parameters: 0\n",
      "Percentage trainable: 100.0%\n",
      "========================================\n",
      "LR Annealing enabled: factor=0.5, patience=5\n",
      "\n",
      "Starting initial validation...\n",
      "Initial - Loss: 0.7383, Accuracy: 0.2358, F1: 0.2018\n",
      "\n",
      "Starting training for 30 epochs...\n"
     ]
    },
    {
     "name": "stderr",
     "output_type": "stream",
     "text": [
      "Epoch 1/30: 100%|█████████████████████████████████████████████████████████████████████████████████████████████████████████████████████████████████████| 88/88 [00:47<00:00,  1.86it/s, loss=0.3741, lr=0.000100]\n"
     ]
    },
    {
     "name": "stdout",
     "output_type": "stream",
     "text": [
      "Epoch 1/30:\n",
      "  Training   - Loss: 0.4266, Accuracy: 0.8476, F1: 0.0446\n",
      "  Validation - Loss: 0.3660, Accuracy: 0.8693, F1: 0.0000\n",
      "  Learning Rate: 0.00010000\n",
      "No improvement in f1. Patience: 1/500\n"
     ]
    },
    {
     "name": "stderr",
     "output_type": "stream",
     "text": [
      "Epoch 2/30: 100%|█████████████████████████████████████████████████████████████████████████████████████████████████████████████████████████████████████| 88/88 [00:47<00:00,  1.85it/s, loss=0.0998, lr=0.000100]\n"
     ]
    },
    {
     "name": "stdout",
     "output_type": "stream",
     "text": [
      "Epoch 2/30:\n",
      "  Training   - Loss: 0.3851, Accuracy: 0.8689, F1: 0.1481\n",
      "  Validation - Loss: 0.3562, Accuracy: 0.8750, F1: 0.2903\n",
      "  Learning Rate: 0.00010000\n",
      "New best model saved with f1: 0.2903\n"
     ]
    },
    {
     "name": "stderr",
     "output_type": "stream",
     "text": [
      "Epoch 3/30: 100%|█████████████████████████████████████████████████████████████████████████████████████████████████████████████████████████████████████| 88/88 [00:47<00:00,  1.85it/s, loss=0.6740, lr=0.000100]\n"
     ]
    },
    {
     "name": "stdout",
     "output_type": "stream",
     "text": [
      "Epoch 3/30:\n",
      "  Training   - Loss: 0.3347, Accuracy: 0.8889, F1: 0.4091\n",
      "  Validation - Loss: 0.3897, Accuracy: 0.8807, F1: 0.2222\n",
      "  Learning Rate: 0.00010000\n",
      "No improvement in f1. Patience: 1/500\n"
     ]
    },
    {
     "name": "stderr",
     "output_type": "stream",
     "text": [
      "Epoch 4/30: 100%|█████████████████████████████████████████████████████████████████████████████████████████████████████████████████████████████████████| 88/88 [00:47<00:00,  1.85it/s, loss=0.0766, lr=0.000100]\n"
     ]
    },
    {
     "name": "stdout",
     "output_type": "stream",
     "text": [
      "Epoch 4/30:\n",
      "  Training   - Loss: 0.2688, Accuracy: 0.9231, F1: 0.6707\n",
      "  Validation - Loss: 0.5148, Accuracy: 0.8835, F1: 0.2545\n",
      "  Learning Rate: 0.00010000\n",
      "No improvement in f1. Patience: 2/500\n"
     ]
    },
    {
     "name": "stderr",
     "output_type": "stream",
     "text": [
      "Epoch 5/30: 100%|█████████████████████████████████████████████████████████████████████████████████████████████████████████████████████████████████████| 88/88 [00:47<00:00,  1.83it/s, loss=0.6606, lr=0.000100]\n"
     ]
    },
    {
     "name": "stdout",
     "output_type": "stream",
     "text": [
      "Epoch 5/30:\n",
      "  Training   - Loss: 0.2250, Accuracy: 0.9430, F1: 0.7531\n",
      "  Validation - Loss: 0.3641, Accuracy: 0.8807, F1: 0.1923\n",
      "  Learning Rate: 0.00010000\n",
      "No improvement in f1. Patience: 3/500\n"
     ]
    },
    {
     "name": "stderr",
     "output_type": "stream",
     "text": [
      "Epoch 6/30: 100%|█████████████████████████████████████████████████████████████████████████████████████████████████████████████████████████████████████| 88/88 [00:47<00:00,  1.85it/s, loss=0.5700, lr=0.000100]\n"
     ]
    },
    {
     "name": "stdout",
     "output_type": "stream",
     "text": [
      "Epoch 6/30:\n",
      "  Training   - Loss: 0.1655, Accuracy: 0.9658, F1: 0.8621\n",
      "  Validation - Loss: 0.5224, Accuracy: 0.8523, F1: 0.3500\n",
      "  Learning Rate: 0.00010000\n",
      "New best model saved with f1: 0.3500\n"
     ]
    },
    {
     "name": "stderr",
     "output_type": "stream",
     "text": [
      "Epoch 7/30: 100%|█████████████████████████████████████████████████████████████████████████████████████████████████████████████████████████████████████| 88/88 [00:48<00:00,  1.83it/s, loss=0.5119, lr=0.000100]\n"
     ]
    },
    {
     "name": "stdout",
     "output_type": "stream",
     "text": [
      "Epoch 7/30:\n",
      "  Training   - Loss: 0.0957, Accuracy: 0.9822, F1: 0.9292\n",
      "  Validation - Loss: 0.8038, Accuracy: 0.8438, F1: 0.3678\n",
      "  Learning Rate: 0.00010000\n",
      "New best model saved with f1: 0.3678\n"
     ]
    },
    {
     "name": "stderr",
     "output_type": "stream",
     "text": [
      "Epoch 8/30: 100%|█████████████████████████████████████████████████████████████████████████████████████████████████████████████████████████████████████| 88/88 [00:48<00:00,  1.82it/s, loss=0.5454, lr=0.000100]\n"
     ]
    },
    {
     "name": "stdout",
     "output_type": "stream",
     "text": [
      "Epoch 8/30:\n",
      "  Training   - Loss: 0.0814, Accuracy: 0.9865, F1: 0.9465\n",
      "  Validation - Loss: 0.7519, Accuracy: 0.8722, F1: 0.2373\n",
      "  Learning Rate: 0.00010000\n",
      "No improvement in f1. Patience: 1/500\n"
     ]
    },
    {
     "name": "stderr",
     "output_type": "stream",
     "text": [
      "Epoch 9/30: 100%|█████████████████████████████████████████████████████████████████████████████████████████████████████████████████████████████████████| 88/88 [00:47<00:00,  1.84it/s, loss=0.0033, lr=0.000100]\n"
     ]
    },
    {
     "name": "stdout",
     "output_type": "stream",
     "text": [
      "Epoch 9/30:\n",
      "  Training   - Loss: 0.0857, Accuracy: 0.9858, F1: 0.9441\n",
      "  Validation - Loss: 0.9535, Accuracy: 0.8494, F1: 0.3291\n",
      "  Learning Rate: 0.00010000\n",
      "No improvement in f1. Patience: 2/500\n"
     ]
    },
    {
     "name": "stderr",
     "output_type": "stream",
     "text": [
      "Epoch 10/30: 100%|████████████████████████████████████████████████████████████████████████████████████████████████████████████████████████████████████| 88/88 [00:48<00:00,  1.83it/s, loss=0.0263, lr=0.000100]\n"
     ]
    },
    {
     "name": "stdout",
     "output_type": "stream",
     "text": [
      "Epoch 10/30:\n",
      "  Training   - Loss: 0.0357, Accuracy: 0.9957, F1: 0.9834\n",
      "  Validation - Loss: 1.0838, Accuracy: 0.8608, F1: 0.3467\n",
      "  Learning Rate: 0.00010000\n",
      "No improvement in f1. Patience: 3/500\n"
     ]
    },
    {
     "name": "stderr",
     "output_type": "stream",
     "text": [
      "Epoch 11/30: 100%|████████████████████████████████████████████████████████████████████████████████████████████████████████████████████████████████████| 88/88 [00:48<00:00,  1.83it/s, loss=0.0031, lr=0.000100]\n"
     ]
    },
    {
     "name": "stdout",
     "output_type": "stream",
     "text": [
      "Epoch 11/30:\n",
      "  Training   - Loss: 0.0428, Accuracy: 0.9943, F1: 0.9780\n",
      "  Validation - Loss: 0.9382, Accuracy: 0.8580, F1: 0.3421\n",
      "  Learning Rate: 0.00010000\n",
      "No improvement in f1. Patience: 4/500\n"
     ]
    },
    {
     "name": "stderr",
     "output_type": "stream",
     "text": [
      "Epoch 12/30: 100%|████████████████████████████████████████████████████████████████████████████████████████████████████████████████████████████████████| 88/88 [00:48<00:00,  1.82it/s, loss=0.0025, lr=0.000100]\n"
     ]
    },
    {
     "name": "stdout",
     "output_type": "stream",
     "text": [
      "Epoch 12/30:\n",
      "  Training   - Loss: 0.0411, Accuracy: 0.9936, F1: 0.9756\n",
      "  Validation - Loss: 0.9034, Accuracy: 0.8750, F1: 0.3529\n",
      "  Learning Rate: 0.00010000\n",
      "No improvement in f1. Patience: 5/500\n"
     ]
    },
    {
     "name": "stderr",
     "output_type": "stream",
     "text": [
      "Epoch 13/30: 100%|████████████████████████████████████████████████████████████████████████████████████████████████████████████████████████████████████| 88/88 [00:47<00:00,  1.84it/s, loss=0.0012, lr=0.000100]\n"
     ]
    },
    {
     "name": "stdout",
     "output_type": "stream",
     "text": [
      "Epoch 13/30:\n",
      "  Training   - Loss: 0.0266, Accuracy: 0.9964, F1: 0.9863\n",
      "  Validation - Loss: 0.8899, Accuracy: 0.8807, F1: 0.3824\n",
      "  Learning Rate: 0.00010000\n",
      "New best model saved with f1: 0.3824\n"
     ]
    },
    {
     "name": "stderr",
     "output_type": "stream",
     "text": [
      "Epoch 14/30: 100%|████████████████████████████████████████████████████████████████████████████████████████████████████████████████████████████████████| 88/88 [00:48<00:00,  1.83it/s, loss=0.0020, lr=0.000100]\n"
     ]
    },
    {
     "name": "stdout",
     "output_type": "stream",
     "text": [
      "Epoch 14/30:\n",
      "  Training   - Loss: 0.0182, Accuracy: 0.9979, F1: 0.9918\n",
      "  Validation - Loss: 0.8819, Accuracy: 0.8807, F1: 0.4000\n",
      "  Learning Rate: 0.00010000\n",
      "New best model saved with f1: 0.4000\n"
     ]
    },
    {
     "name": "stderr",
     "output_type": "stream",
     "text": [
      "Epoch 15/30: 100%|████████████████████████████████████████████████████████████████████████████████████████████████████████████████████████████████████| 88/88 [00:47<00:00,  1.84it/s, loss=0.0002, lr=0.000100]\n"
     ]
    },
    {
     "name": "stdout",
     "output_type": "stream",
     "text": [
      "Epoch 15/30:\n",
      "  Training   - Loss: 0.0174, Accuracy: 0.9979, F1: 0.9918\n",
      "  Validation - Loss: 1.0410, Accuracy: 0.8778, F1: 0.3944\n",
      "  Learning Rate: 0.00010000\n",
      "No improvement in f1. Patience: 1/500\n"
     ]
    },
    {
     "name": "stderr",
     "output_type": "stream",
     "text": [
      "Epoch 16/30: 100%|████████████████████████████████████████████████████████████████████████████████████████████████████████████████████████████████████| 88/88 [00:48<00:00,  1.82it/s, loss=0.0018, lr=0.000100]\n"
     ]
    },
    {
     "name": "stdout",
     "output_type": "stream",
     "text": [
      "Epoch 16/30:\n",
      "  Training   - Loss: 0.0162, Accuracy: 0.9964, F1: 0.9864\n",
      "  Validation - Loss: 0.9070, Accuracy: 0.8750, F1: 0.2143\n",
      "  Learning Rate: 0.00010000\n",
      "No improvement in f1. Patience: 2/500\n"
     ]
    },
    {
     "name": "stderr",
     "output_type": "stream",
     "text": [
      "Epoch 17/30: 100%|████████████████████████████████████████████████████████████████████████████████████████████████████████████████████████████████████| 88/88 [00:50<00:00,  1.74it/s, loss=0.0010, lr=0.000100]\n"
     ]
    },
    {
     "name": "stdout",
     "output_type": "stream",
     "text": [
      "Epoch 17/30:\n",
      "  Training   - Loss: 0.0175, Accuracy: 0.9986, F1: 0.9945\n",
      "  Validation - Loss: 1.4354, Accuracy: 0.8409, F1: 0.3636\n",
      "  Learning Rate: 0.00010000\n",
      "No improvement in f1. Patience: 3/500\n"
     ]
    },
    {
     "name": "stderr",
     "output_type": "stream",
     "text": [
      "Epoch 18/30: 100%|████████████████████████████████████████████████████████████████████████████████████████████████████████████████████████████████████| 88/88 [00:50<00:00,  1.73it/s, loss=0.0015, lr=0.000100]\n"
     ]
    },
    {
     "name": "stdout",
     "output_type": "stream",
     "text": [
      "Epoch 18/30:\n",
      "  Training   - Loss: 0.0089, Accuracy: 0.9986, F1: 0.9945\n",
      "  Validation - Loss: 1.4384, Accuracy: 0.8523, F1: 0.3810\n",
      "  Learning Rate: 0.00010000\n",
      "No improvement in f1. Patience: 4/500\n"
     ]
    },
    {
     "name": "stderr",
     "output_type": "stream",
     "text": [
      "Epoch 19/30: 100%|████████████████████████████████████████████████████████████████████████████████████████████████████████████████████████████████████| 88/88 [00:50<00:00,  1.74it/s, loss=0.0002, lr=0.000100]\n"
     ]
    },
    {
     "name": "stdout",
     "output_type": "stream",
     "text": [
      "Epoch 19/30:\n",
      "  Training   - Loss: 0.0087, Accuracy: 0.9993, F1: 0.9973\n",
      "  Validation - Loss: 1.1294, Accuracy: 0.8864, F1: 0.3750\n",
      "  Learning Rate: 0.00010000\n",
      "No improvement in f1. Patience: 5/500\n"
     ]
    },
    {
     "name": "stderr",
     "output_type": "stream",
     "text": [
      "Epoch 20/30: 100%|████████████████████████████████████████████████████████████████████████████████████████████████████████████████████████████████████| 88/88 [00:50<00:00,  1.73it/s, loss=0.0007, lr=0.000100]\n"
     ]
    },
    {
     "name": "stdout",
     "output_type": "stream",
     "text": [
      "Epoch 20/30:\n",
      "  Training   - Loss: 0.0092, Accuracy: 0.9993, F1: 0.9973\n",
      "  Validation - Loss: 1.0872, Accuracy: 0.8864, F1: 0.3750\n",
      "  Learning Rate: 0.00010000\n",
      "No improvement in f1. Patience: 6/500\n"
     ]
    },
    {
     "name": "stderr",
     "output_type": "stream",
     "text": [
      "Epoch 21/30: 100%|████████████████████████████████████████████████████████████████████████████████████████████████████████████████████████████████████| 88/88 [00:48<00:00,  1.80it/s, loss=0.0003, lr=0.000100]\n"
     ]
    },
    {
     "name": "stdout",
     "output_type": "stream",
     "text": [
      "Epoch 21/30:\n",
      "  Training   - Loss: 0.0078, Accuracy: 0.9993, F1: 0.9973\n",
      "  Validation - Loss: 1.1133, Accuracy: 0.8864, F1: 0.3750\n",
      "  Learning Rate: 0.00010000\n",
      "No improvement in f1. Patience: 7/500\n"
     ]
    },
    {
     "name": "stderr",
     "output_type": "stream",
     "text": [
      "Epoch 22/30: 100%|████████████████████████████████████████████████████████████████████████████████████████████████████████████████████████████████████| 88/88 [00:47<00:00,  1.85it/s, loss=0.0003, lr=0.000100]\n"
     ]
    },
    {
     "name": "stdout",
     "output_type": "stream",
     "text": [
      "Epoch 22/30:\n",
      "  Training   - Loss: 0.0057, Accuracy: 0.9993, F1: 0.9973\n",
      "  Validation - Loss: 1.1267, Accuracy: 0.8864, F1: 0.3939\n",
      "  Learning Rate: 0.00010000\n",
      "No improvement in f1. Patience: 8/500\n"
     ]
    },
    {
     "name": "stderr",
     "output_type": "stream",
     "text": [
      "Epoch 23/30: 100%|████████████████████████████████████████████████████████████████████████████████████████████████████████████████████████████████████| 88/88 [00:47<00:00,  1.85it/s, loss=0.0003, lr=0.000100]\n"
     ]
    },
    {
     "name": "stdout",
     "output_type": "stream",
     "text": [
      "Epoch 23/30:\n",
      "  Training   - Loss: 0.0062, Accuracy: 0.9993, F1: 0.9973\n",
      "  Validation - Loss: 1.1430, Accuracy: 0.8864, F1: 0.3939\n",
      "  Learning Rate: 0.00010000\n",
      "No improvement in f1. Patience: 9/500\n"
     ]
    },
    {
     "name": "stderr",
     "output_type": "stream",
     "text": [
      "Epoch 24/30: 100%|████████████████████████████████████████████████████████████████████████████████████████████████████████████████████████████████████| 88/88 [00:47<00:00,  1.85it/s, loss=0.0001, lr=0.000100]\n"
     ]
    },
    {
     "name": "stdout",
     "output_type": "stream",
     "text": [
      "Epoch 24/30:\n",
      "  Training   - Loss: 0.0080, Accuracy: 0.9993, F1: 0.9973\n",
      "  Validation - Loss: 1.1459, Accuracy: 0.8835, F1: 0.3881\n",
      "  Learning Rate: 0.00010000\n",
      "No improvement in f1. Patience: 10/500\n"
     ]
    },
    {
     "name": "stderr",
     "output_type": "stream",
     "text": [
      "Epoch 25/30: 100%|████████████████████████████████████████████████████████████████████████████████████████████████████████████████████████████████████| 88/88 [00:47<00:00,  1.85it/s, loss=0.0001, lr=0.000100]\n"
     ]
    },
    {
     "name": "stdout",
     "output_type": "stream",
     "text": [
      "Epoch 25/30:\n",
      "  Training   - Loss: 0.0077, Accuracy: 0.9993, F1: 0.9973\n",
      "  Validation - Loss: 1.1991, Accuracy: 0.8835, F1: 0.3881\n",
      "  Learning Rate: 0.00010000\n",
      "No improvement in f1. Patience: 11/500\n"
     ]
    },
    {
     "name": "stderr",
     "output_type": "stream",
     "text": [
      "Epoch 26/30: 100%|████████████████████████████████████████████████████████████████████████████████████████████████████████████████████████████████████| 88/88 [00:47<00:00,  1.85it/s, loss=0.0002, lr=0.000100]\n"
     ]
    },
    {
     "name": "stdout",
     "output_type": "stream",
     "text": [
      "Epoch 26/30:\n",
      "  Training   - Loss: 0.0063, Accuracy: 0.9993, F1: 0.9973\n",
      "  Validation - Loss: 1.2217, Accuracy: 0.8835, F1: 0.3881\n",
      "  Learning Rate: 0.00010000\n",
      "No improvement in f1. Patience: 12/500\n"
     ]
    },
    {
     "name": "stderr",
     "output_type": "stream",
     "text": [
      "Epoch 27/30: 100%|████████████████████████████████████████████████████████████████████████████████████████████████████████████████████████████████████| 88/88 [00:48<00:00,  1.82it/s, loss=0.0000, lr=0.000100]\n"
     ]
    },
    {
     "name": "stdout",
     "output_type": "stream",
     "text": [
      "Epoch 27/30:\n",
      "  Training   - Loss: 0.0091, Accuracy: 0.9993, F1: 0.9973\n",
      "  Validation - Loss: 1.3600, Accuracy: 0.8807, F1: 0.3824\n",
      "  Learning Rate: 0.00010000\n",
      "No improvement in f1. Patience: 13/500\n"
     ]
    },
    {
     "name": "stderr",
     "output_type": "stream",
     "text": [
      "Epoch 28/30: 100%|████████████████████████████████████████████████████████████████████████████████████████████████████████████████████████████████████| 88/88 [00:48<00:00,  1.82it/s, loss=0.0001, lr=0.000100]\n"
     ]
    },
    {
     "name": "stdout",
     "output_type": "stream",
     "text": [
      "Epoch 28/30:\n",
      "  Training   - Loss: 0.0001, Accuracy: 1.0000, F1: 1.0000\n",
      "  Validation - Loss: 1.4422, Accuracy: 0.8807, F1: 0.3824\n",
      "  Learning Rate: 0.00010000\n",
      "No improvement in f1. Patience: 14/500\n"
     ]
    },
    {
     "name": "stderr",
     "output_type": "stream",
     "text": [
      "Epoch 29/30: 100%|████████████████████████████████████████████████████████████████████████████████████████████████████████████████████████████████████| 88/88 [00:48<00:00,  1.82it/s, loss=0.0005, lr=0.000100]\n"
     ]
    },
    {
     "name": "stdout",
     "output_type": "stream",
     "text": [
      "Epoch 29/30:\n",
      "  Training   - Loss: 0.0001, Accuracy: 1.0000, F1: 1.0000\n",
      "  Validation - Loss: 1.5068, Accuracy: 0.8807, F1: 0.3824\n",
      "  Learning Rate: 0.00010000\n",
      "No improvement in f1. Patience: 15/500\n"
     ]
    },
    {
     "name": "stderr",
     "output_type": "stream",
     "text": [
      "Epoch 30/30: 100%|████████████████████████████████████████████████████████████████████████████████████████████████████████████████████████████████████| 88/88 [00:48<00:00,  1.83it/s, loss=0.0000, lr=0.000100]\n"
     ]
    },
    {
     "name": "stdout",
     "output_type": "stream",
     "text": [
      "Epoch 30/30:\n",
      "  Training   - Loss: 0.0001, Accuracy: 1.0000, F1: 1.0000\n",
      "  Validation - Loss: 1.5573, Accuracy: 0.8807, F1: 0.3824\n",
      "  Learning Rate: 0.00010000\n",
      "No improvement in f1. Patience: 16/500\n",
      "\n",
      "Final model evaluation...\n",
      "\n",
      "TRAINING COMPLETE\n",
      "Best validation loss: 0.8819\n",
      "Best validation accuracy: 0.8807\n",
      "Best validation F1: 0.4000\n",
      "Best f1: 0.4000\n"
     ]
    },
    {
     "data": {
      "text/html": [],
      "text/plain": [
       "<IPython.core.display.HTML object>"
      ]
     },
     "metadata": {},
     "output_type": "display_data"
    },
    {
     "data": {
      "text/html": [
       "<br>    <style><br>        .wandb-row {<br>            display: flex;<br>            flex-direction: row;<br>            flex-wrap: wrap;<br>            justify-content: flex-start;<br>            width: 100%;<br>        }<br>        .wandb-col {<br>            display: flex;<br>            flex-direction: column;<br>            flex-basis: 100%;<br>            flex: 1;<br>            padding: 10px;<br>        }<br>    </style><br><div class=\"wandb-row\"><div class=\"wandb-col\"><h3>Run history:</h3><br/><table class=\"wandb\"><tr><td>best_f1</td><td>▁▅▆▇█</td></tr><tr><td>best_valid_accuracy</td><td>▇▃▁██</td></tr><tr><td>best_valid_f1</td><td>▁▅▆▇█</td></tr><tr><td>best_valid_loss</td><td>▁▃▇██</td></tr><tr><td>epoch</td><td>▁▁▁▂▂▂▂▃▃▃▃▄▄▄▄▅▅▅▅▅▆▆▆▆▇▇▇▇███</td></tr><tr><td>epochs_trained</td><td>▁</td></tr><tr><td>final_valid_accuracy</td><td>▁</td></tr><tr><td>final_valid_f1</td><td>▁</td></tr><tr><td>final_valid_loss</td><td>▁</td></tr><tr><td>learning_rate</td><td>▁▁▁▁▁▁▁▁▁▁▁▁▁▁▁▁▁▁▁▁▁▁▁▁▁▁▁▁▁▁</td></tr><tr><td>train_accuracy</td><td>▁▂▃▄▅▆▇▇▇█████████████████████</td></tr><tr><td>train_f1</td><td>▁▂▄▆▆▇▇███████████████████████</td></tr><tr><td>train_loss</td><td>█▇▆▅▅▄▃▂▂▂▂▂▁▁▁▁▁▁▁▁▁▁▁▁▁▁▁▁▁▁</td></tr><tr><td>valid_accuracy</td><td>▁██████████████████████████████</td></tr><tr><td>valid_f1</td><td>▅▁▆▅▅▄▇▇▅▇▇▇▇███▅▇█████████████</td></tr><tr><td>valid_loss</td><td>▃▁▁▁▂▁▂▄▃▄▅▄▄▄▄▅▄▇▇▆▅▅▅▆▆▆▆▇▇██</td></tr></table><br/></div><div class=\"wandb-col\"><h3>Run summary:</h3><br/><table class=\"wandb\"><tr><td>best_f1</td><td>0.4</td></tr><tr><td>best_valid_accuracy</td><td>0.88068</td></tr><tr><td>best_valid_f1</td><td>0.4</td></tr><tr><td>best_valid_loss</td><td>0.88189</td></tr><tr><td>early_stopped</td><td>False</td></tr><tr><td>epoch</td><td>30</td></tr><tr><td>epochs_trained</td><td>30</td></tr><tr><td>final_valid_accuracy</td><td>0.88068</td></tr><tr><td>final_valid_f1</td><td>0.4</td></tr><tr><td>final_valid_loss</td><td>0.88189</td></tr><tr><td>learning_rate</td><td>0.0001</td></tr><tr><td>train_accuracy</td><td>1</td></tr><tr><td>train_f1</td><td>1</td></tr><tr><td>train_loss</td><td>7e-05</td></tr><tr><td>training_completed</td><td>True</td></tr><tr><td>valid_accuracy</td><td>0.88068</td></tr><tr><td>valid_f1</td><td>0.38235</td></tr><tr><td>valid_loss</td><td>1.55725</td></tr></table><br/></div></div>"
      ],
      "text/plain": [
       "<IPython.core.display.HTML object>"
      ]
     },
     "metadata": {},
     "output_type": "display_data"
    },
    {
     "data": {
      "text/html": [
       " View run <strong style=\"color:#cdcd00\">dropout70wd01_20250813_161447</strong> at: <a href='https://wandb.ai/shubhamjune-vilnius-university/router_rated/runs/7b2lufkc' target=\"_blank\">https://wandb.ai/shubhamjune-vilnius-university/router_rated/runs/7b2lufkc</a><br> View project at: <a href='https://wandb.ai/shubhamjune-vilnius-university/router_rated' target=\"_blank\">https://wandb.ai/shubhamjune-vilnius-university/router_rated</a><br>Synced 5 W&B file(s), 1 media file(s), 2 artifact file(s) and 0 other file(s)"
      ],
      "text/plain": [
       "<IPython.core.display.HTML object>"
      ]
     },
     "metadata": {},
     "output_type": "display_data"
    },
    {
     "data": {
      "text/html": [
       "Find logs at: <code>.\\wandb\\run-20250813_161447-7b2lufkc\\logs</code>"
      ],
      "text/plain": [
       "<IPython.core.display.HTML object>"
      ]
     },
     "metadata": {},
     "output_type": "display_data"
    }
   ],
   "source": [
    "do70 = train_router_quality_classifier(\n",
    "    # Model configuration\n",
    "    dropout_rate=0.3,\n",
    "    \n",
    "    # Training hyperparameters\n",
    "    learning_rate=0.0001,\n",
    "    n_epochs=30,\n",
    "    weight_decay=0.01,\n",
    "    \n",
    "    # Learning rate scheduling\n",
    "    enable_lr_annealing=True,\n",
    "    \n",
    "    # Experiment settings\n",
    "    experiment_name=\"dropout70wd01\",\n",
    "    use_wandb=True  # Enable wandb logging\n",
    ")"
   ]
  },
  {
   "cell_type": "code",
   "execution_count": 11,
   "id": "2e285fee-ea1e-40d1-9286-3546b5a6b6d8",
   "metadata": {
    "scrolled": true
   },
   "outputs": [
    {
     "name": "stdout",
     "output_type": "stream",
     "text": [
      "Reproducible environment set with seed: 9999\n"
     ]
    },
    {
     "data": {
      "text/html": [
       "Tracking run with wandb version 0.21.1"
      ],
      "text/plain": [
       "<IPython.core.display.HTML object>"
      ]
     },
     "metadata": {},
     "output_type": "display_data"
    },
    {
     "data": {
      "text/html": [
       "Run data is saved locally in <code>C:\\Users\\sj_x3\\Desktop\\code\\git\\smart_routing\\wandb\\run-20250813_164111-1fxaxatr</code>"
      ],
      "text/plain": [
       "<IPython.core.display.HTML object>"
      ]
     },
     "metadata": {},
     "output_type": "display_data"
    },
    {
     "data": {
      "text/html": [
       "Syncing run <strong><a href='https://wandb.ai/shubhamjune-vilnius-university/router_rated/runs/1fxaxatr' target=\"_blank\">do50wdlow_20250813_164111</a></strong> to <a href='https://wandb.ai/shubhamjune-vilnius-university/router_rated' target=\"_blank\">Weights & Biases</a> (<a href='https://wandb.me/developer-guide' target=\"_blank\">docs</a>)<br>"
      ],
      "text/plain": [
       "<IPython.core.display.HTML object>"
      ]
     },
     "metadata": {},
     "output_type": "display_data"
    },
    {
     "data": {
      "text/html": [
       " View project at <a href='https://wandb.ai/shubhamjune-vilnius-university/router_rated' target=\"_blank\">https://wandb.ai/shubhamjune-vilnius-university/router_rated</a>"
      ],
      "text/plain": [
       "<IPython.core.display.HTML object>"
      ]
     },
     "metadata": {},
     "output_type": "display_data"
    },
    {
     "data": {
      "text/html": [
       " View run at <a href='https://wandb.ai/shubhamjune-vilnius-university/router_rated/runs/1fxaxatr' target=\"_blank\">https://wandb.ai/shubhamjune-vilnius-university/router_rated/runs/1fxaxatr</a>"
      ],
      "text/plain": [
       "<IPython.core.display.HTML object>"
      ]
     },
     "metadata": {},
     "output_type": "display_data"
    },
    {
     "name": "stdout",
     "output_type": "stream",
     "text": [
      "\n",
      "Starting training run: do50wdlow_20250813_164111\n",
      "Using dataset: rated_enhanced_dataset_meta_llama_llama_3.1_8b_instruct_20250811_140130_20250811_151904.jsonl\n",
      "\n",
      "Loading rated dataset...\n",
      "Loaded 1756 items with ratings\n",
      "Dataset after filtering: 1756 items\n",
      "\n",
      "=== DATASET ANALYSIS ===\n",
      "Total samples: 1756\n",
      "Label 0 (Good quality, rating >= 4): 1526 (86.9%)\n",
      "Label 1 (Poor quality, rating < 4): 230 (13.1%)\n",
      "Class balance ratio (0:1): 6.63:1\n",
      "\n",
      "=== RATING DISTRIBUTION ===\n",
      "Rating 1: 37 (2.1%)\n",
      "Rating 2: 107 (6.1%)\n",
      "Rating 3: 86 (4.9%)\n",
      "Rating 4: 329 (18.7%)\n",
      "Rating 5: 1197 (68.2%)\n",
      "========================================\n",
      "\n",
      "Training samples: 1404\n",
      "Validation samples: 352\n",
      "DataLoaders created successfully\n",
      "\n",
      "Initializing model: distilbert-base-uncased\n",
      "All transformer layers will be fine-tuned\n",
      "📱 Model moved to device: cuda\n",
      "\n",
      "=== MODEL PARAMETER ANALYSIS ===\n",
      "Total parameters: 66,576,257\n",
      "Trainable parameters: 66,576,257\n",
      "Frozen parameters: 0\n",
      "Percentage trainable: 100.0%\n",
      "========================================\n",
      "LR Annealing enabled: factor=0.5, patience=5\n",
      "\n",
      "Starting initial validation...\n",
      "Initial - Loss: 0.7383, Accuracy: 0.2358, F1: 0.2018\n",
      "\n",
      "Starting training for 30 epochs...\n"
     ]
    },
    {
     "name": "stderr",
     "output_type": "stream",
     "text": [
      "Epoch 1/30: 100%|█████████████████████████████████████████████████████████████████████████████████████████████████████████████████████████████████████| 88/88 [00:48<00:00,  1.82it/s, loss=0.2890, lr=0.000100]\n"
     ]
    },
    {
     "name": "stdout",
     "output_type": "stream",
     "text": [
      "Epoch 1/30:\n",
      "  Training   - Loss: 0.4226, Accuracy: 0.8462, F1: 0.0442\n",
      "  Validation - Loss: 0.3588, Accuracy: 0.8693, F1: 0.0000\n",
      "  Learning Rate: 0.00010000\n",
      "No improvement in f1. Patience: 1/500\n"
     ]
    },
    {
     "name": "stderr",
     "output_type": "stream",
     "text": [
      "Epoch 2/30: 100%|█████████████████████████████████████████████████████████████████████████████████████████████████████████████████████████████████████| 88/88 [00:48<00:00,  1.83it/s, loss=0.1378, lr=0.000100]\n"
     ]
    },
    {
     "name": "stdout",
     "output_type": "stream",
     "text": [
      "Epoch 2/30:\n",
      "  Training   - Loss: 0.3876, Accuracy: 0.8668, F1: 0.1382\n",
      "  Validation - Loss: 0.3742, Accuracy: 0.8778, F1: 0.1887\n",
      "  Learning Rate: 0.00010000\n",
      "New best model saved with f1: 0.1887\n"
     ]
    },
    {
     "name": "stderr",
     "output_type": "stream",
     "text": [
      "Epoch 3/30: 100%|█████████████████████████████████████████████████████████████████████████████████████████████████████████████████████████████████████| 88/88 [00:48<00:00,  1.82it/s, loss=0.7245, lr=0.000100]\n"
     ]
    },
    {
     "name": "stdout",
     "output_type": "stream",
     "text": [
      "Epoch 3/30:\n",
      "  Training   - Loss: 0.3398, Accuracy: 0.8825, F1: 0.3529\n",
      "  Validation - Loss: 0.3762, Accuracy: 0.8807, F1: 0.2500\n",
      "  Learning Rate: 0.00010000\n",
      "New best model saved with f1: 0.2500\n"
     ]
    },
    {
     "name": "stderr",
     "output_type": "stream",
     "text": [
      "Epoch 4/30: 100%|█████████████████████████████████████████████████████████████████████████████████████████████████████████████████████████████████████| 88/88 [00:48<00:00,  1.81it/s, loss=0.0551, lr=0.000100]\n"
     ]
    },
    {
     "name": "stdout",
     "output_type": "stream",
     "text": [
      "Epoch 4/30:\n",
      "  Training   - Loss: 0.2737, Accuracy: 0.9245, F1: 0.6443\n",
      "  Validation - Loss: 0.4953, Accuracy: 0.8778, F1: 0.3175\n",
      "  Learning Rate: 0.00010000\n",
      "New best model saved with f1: 0.3175\n"
     ]
    },
    {
     "name": "stderr",
     "output_type": "stream",
     "text": [
      "Epoch 5/30: 100%|█████████████████████████████████████████████████████████████████████████████████████████████████████████████████████████████████████| 88/88 [00:48<00:00,  1.81it/s, loss=0.0828, lr=0.000100]\n"
     ]
    },
    {
     "name": "stdout",
     "output_type": "stream",
     "text": [
      "Epoch 5/30:\n",
      "  Training   - Loss: 0.1967, Accuracy: 0.9509, F1: 0.7890\n",
      "  Validation - Loss: 0.4953, Accuracy: 0.8636, F1: 0.3684\n",
      "  Learning Rate: 0.00010000\n",
      "New best model saved with f1: 0.3684\n"
     ]
    },
    {
     "name": "stderr",
     "output_type": "stream",
     "text": [
      "Epoch 6/30: 100%|█████████████████████████████████████████████████████████████████████████████████████████████████████████████████████████████████████| 88/88 [00:48<00:00,  1.82it/s, loss=0.1525, lr=0.000100]\n"
     ]
    },
    {
     "name": "stdout",
     "output_type": "stream",
     "text": [
      "Epoch 6/30:\n",
      "  Training   - Loss: 0.1095, Accuracy: 0.9701, F1: 0.8807\n",
      "  Validation - Loss: 0.6580, Accuracy: 0.8466, F1: 0.3864\n",
      "  Learning Rate: 0.00010000\n",
      "New best model saved with f1: 0.3864\n"
     ]
    },
    {
     "name": "stderr",
     "output_type": "stream",
     "text": [
      "Epoch 7/30: 100%|█████████████████████████████████████████████████████████████████████████████████████████████████████████████████████████████████████| 88/88 [00:48<00:00,  1.82it/s, loss=0.0002, lr=0.000100]\n"
     ]
    },
    {
     "name": "stdout",
     "output_type": "stream",
     "text": [
      "Epoch 7/30:\n",
      "  Training   - Loss: 0.0483, Accuracy: 0.9872, F1: 0.9503\n",
      "  Validation - Loss: 1.1038, Accuracy: 0.8608, F1: 0.2687\n",
      "  Learning Rate: 0.00010000\n",
      "No improvement in f1. Patience: 1/500\n"
     ]
    },
    {
     "name": "stderr",
     "output_type": "stream",
     "text": [
      "Epoch 8/30: 100%|█████████████████████████████████████████████████████████████████████████████████████████████████████████████████████████████████████| 88/88 [00:48<00:00,  1.80it/s, loss=0.0002, lr=0.000100]\n"
     ]
    },
    {
     "name": "stdout",
     "output_type": "stream",
     "text": [
      "Epoch 8/30:\n",
      "  Training   - Loss: 0.0172, Accuracy: 0.9957, F1: 0.9835\n",
      "  Validation - Loss: 1.2247, Accuracy: 0.8665, F1: 0.2985\n",
      "  Learning Rate: 0.00010000\n",
      "No improvement in f1. Patience: 2/500\n"
     ]
    },
    {
     "name": "stderr",
     "output_type": "stream",
     "text": [
      "Epoch 9/30: 100%|█████████████████████████████████████████████████████████████████████████████████████████████████████████████████████████████████████| 88/88 [00:48<00:00,  1.81it/s, loss=0.0002, lr=0.000100]\n"
     ]
    },
    {
     "name": "stdout",
     "output_type": "stream",
     "text": [
      "Epoch 9/30:\n",
      "  Training   - Loss: 0.0105, Accuracy: 0.9986, F1: 0.9945\n",
      "  Validation - Loss: 1.5269, Accuracy: 0.8466, F1: 0.3415\n",
      "  Learning Rate: 0.00010000\n",
      "No improvement in f1. Patience: 3/500\n"
     ]
    },
    {
     "name": "stderr",
     "output_type": "stream",
     "text": [
      "Epoch 10/30: 100%|████████████████████████████████████████████████████████████████████████████████████████████████████████████████████████████████████| 88/88 [00:48<00:00,  1.83it/s, loss=0.0004, lr=0.000100]\n"
     ]
    },
    {
     "name": "stdout",
     "output_type": "stream",
     "text": [
      "Epoch 10/30:\n",
      "  Training   - Loss: 0.0002, Accuracy: 1.0000, F1: 1.0000\n",
      "  Validation - Loss: 1.3900, Accuracy: 0.8778, F1: 0.3944\n",
      "  Learning Rate: 0.00010000\n",
      "New best model saved with f1: 0.3944\n"
     ]
    },
    {
     "name": "stderr",
     "output_type": "stream",
     "text": [
      "Epoch 11/30: 100%|████████████████████████████████████████████████████████████████████████████████████████████████████████████████████████████████████| 88/88 [00:50<00:00,  1.76it/s, loss=0.0000, lr=0.000100]\n"
     ]
    },
    {
     "name": "stdout",
     "output_type": "stream",
     "text": [
      "Epoch 11/30:\n",
      "  Training   - Loss: 0.0028, Accuracy: 0.9993, F1: 0.9973\n",
      "  Validation - Loss: 1.5387, Accuracy: 0.8608, F1: 0.3636\n",
      "  Learning Rate: 0.00010000\n",
      "No improvement in f1. Patience: 1/500\n"
     ]
    },
    {
     "name": "stderr",
     "output_type": "stream",
     "text": [
      "Epoch 12/30: 100%|████████████████████████████████████████████████████████████████████████████████████████████████████████████████████████████████████| 88/88 [00:50<00:00,  1.75it/s, loss=0.0000, lr=0.000100]\n"
     ]
    },
    {
     "name": "stdout",
     "output_type": "stream",
     "text": [
      "Epoch 12/30:\n",
      "  Training   - Loss: 0.0001, Accuracy: 1.0000, F1: 1.0000\n",
      "  Validation - Loss: 1.5740, Accuracy: 0.8693, F1: 0.3784\n",
      "  Learning Rate: 0.00010000\n",
      "No improvement in f1. Patience: 2/500\n"
     ]
    },
    {
     "name": "stderr",
     "output_type": "stream",
     "text": [
      "Epoch 13/30: 100%|████████████████████████████████████████████████████████████████████████████████████████████████████████████████████████████████████| 88/88 [00:50<00:00,  1.75it/s, loss=0.0000, lr=0.000100]\n"
     ]
    },
    {
     "name": "stdout",
     "output_type": "stream",
     "text": [
      "Epoch 13/30:\n",
      "  Training   - Loss: 0.0001, Accuracy: 1.0000, F1: 1.0000\n",
      "  Validation - Loss: 1.6129, Accuracy: 0.8693, F1: 0.3784\n",
      "  Learning Rate: 0.00010000\n",
      "No improvement in f1. Patience: 3/500\n"
     ]
    },
    {
     "name": "stderr",
     "output_type": "stream",
     "text": [
      "Epoch 14/30: 100%|████████████████████████████████████████████████████████████████████████████████████████████████████████████████████████████████████| 88/88 [00:47<00:00,  1.83it/s, loss=0.0000, lr=0.000100]\n"
     ]
    },
    {
     "name": "stdout",
     "output_type": "stream",
     "text": [
      "Epoch 14/30:\n",
      "  Training   - Loss: 0.0000, Accuracy: 1.0000, F1: 1.0000\n",
      "  Validation - Loss: 1.6372, Accuracy: 0.8693, F1: 0.3784\n",
      "  Learning Rate: 0.00010000\n",
      "No improvement in f1. Patience: 4/500\n"
     ]
    },
    {
     "name": "stderr",
     "output_type": "stream",
     "text": [
      "Epoch 15/30: 100%|████████████████████████████████████████████████████████████████████████████████████████████████████████████████████████████████████| 88/88 [00:47<00:00,  1.84it/s, loss=0.0000, lr=0.000100]\n"
     ]
    },
    {
     "name": "stdout",
     "output_type": "stream",
     "text": [
      "Epoch 15/30:\n",
      "  Training   - Loss: 0.0000, Accuracy: 1.0000, F1: 1.0000\n",
      "  Validation - Loss: 1.6600, Accuracy: 0.8693, F1: 0.3784\n",
      "  Learning Rate: 0.00010000\n",
      "No improvement in f1. Patience: 5/500\n"
     ]
    },
    {
     "name": "stderr",
     "output_type": "stream",
     "text": [
      "Epoch 16/30: 100%|████████████████████████████████████████████████████████████████████████████████████████████████████████████████████████████████████| 88/88 [00:47<00:00,  1.84it/s, loss=0.0000, lr=0.000100]\n"
     ]
    },
    {
     "name": "stdout",
     "output_type": "stream",
     "text": [
      "Epoch 16/30:\n",
      "  Training   - Loss: 0.0000, Accuracy: 1.0000, F1: 1.0000\n",
      "  Validation - Loss: 1.6688, Accuracy: 0.8693, F1: 0.3784\n",
      "  Learning Rate: 0.00010000\n",
      "No improvement in f1. Patience: 6/500\n"
     ]
    },
    {
     "name": "stderr",
     "output_type": "stream",
     "text": [
      "Epoch 17/30: 100%|████████████████████████████████████████████████████████████████████████████████████████████████████████████████████████████████████| 88/88 [00:47<00:00,  1.84it/s, loss=0.0000, lr=0.000100]\n"
     ]
    },
    {
     "name": "stdout",
     "output_type": "stream",
     "text": [
      "Epoch 17/30:\n",
      "  Training   - Loss: 0.0000, Accuracy: 1.0000, F1: 1.0000\n",
      "  Validation - Loss: 1.7005, Accuracy: 0.8693, F1: 0.3784\n",
      "  Learning Rate: 0.00010000\n",
      "No improvement in f1. Patience: 7/500\n"
     ]
    },
    {
     "name": "stderr",
     "output_type": "stream",
     "text": [
      "Epoch 18/30: 100%|████████████████████████████████████████████████████████████████████████████████████████████████████████████████████████████████████| 88/88 [00:47<00:00,  1.84it/s, loss=0.0000, lr=0.000100]\n"
     ]
    },
    {
     "name": "stdout",
     "output_type": "stream",
     "text": [
      "Epoch 18/30:\n",
      "  Training   - Loss: 0.0001, Accuracy: 1.0000, F1: 1.0000\n",
      "  Validation - Loss: 1.6783, Accuracy: 0.8693, F1: 0.3784\n",
      "  Learning Rate: 0.00010000\n",
      "No improvement in f1. Patience: 8/500\n"
     ]
    },
    {
     "name": "stderr",
     "output_type": "stream",
     "text": [
      "Epoch 19/30: 100%|████████████████████████████████████████████████████████████████████████████████████████████████████████████████████████████████████| 88/88 [00:47<00:00,  1.84it/s, loss=0.0000, lr=0.000100]\n"
     ]
    },
    {
     "name": "stdout",
     "output_type": "stream",
     "text": [
      "Epoch 19/30:\n",
      "  Training   - Loss: 0.0001, Accuracy: 1.0000, F1: 1.0000\n",
      "  Validation - Loss: 1.6872, Accuracy: 0.8750, F1: 0.3889\n",
      "  Learning Rate: 0.00010000\n",
      "No improvement in f1. Patience: 9/500\n"
     ]
    },
    {
     "name": "stderr",
     "output_type": "stream",
     "text": [
      "Epoch 20/30: 100%|████████████████████████████████████████████████████████████████████████████████████████████████████████████████████████████████████| 88/88 [00:47<00:00,  1.84it/s, loss=0.0000, lr=0.000100]\n"
     ]
    },
    {
     "name": "stdout",
     "output_type": "stream",
     "text": [
      "Epoch 20/30:\n",
      "  Training   - Loss: 0.0000, Accuracy: 1.0000, F1: 1.0000\n",
      "  Validation - Loss: 1.7473, Accuracy: 0.8722, F1: 0.3836\n",
      "  Learning Rate: 0.00010000\n",
      "No improvement in f1. Patience: 10/500\n"
     ]
    },
    {
     "name": "stderr",
     "output_type": "stream",
     "text": [
      "Epoch 21/30: 100%|████████████████████████████████████████████████████████████████████████████████████████████████████████████████████████████████████| 88/88 [00:48<00:00,  1.81it/s, loss=0.0000, lr=0.000100]\n"
     ]
    },
    {
     "name": "stdout",
     "output_type": "stream",
     "text": [
      "Epoch 21/30:\n",
      "  Training   - Loss: 0.0000, Accuracy: 1.0000, F1: 1.0000\n",
      "  Validation - Loss: 1.7841, Accuracy: 0.8722, F1: 0.3836\n",
      "  Learning Rate: 0.00010000\n",
      "No improvement in f1. Patience: 11/500\n"
     ]
    },
    {
     "name": "stderr",
     "output_type": "stream",
     "text": [
      "Epoch 22/30: 100%|████████████████████████████████████████████████████████████████████████████████████████████████████████████████████████████████████| 88/88 [00:48<00:00,  1.83it/s, loss=0.0000, lr=0.000100]\n"
     ]
    },
    {
     "name": "stdout",
     "output_type": "stream",
     "text": [
      "Epoch 22/30:\n",
      "  Training   - Loss: 0.0000, Accuracy: 1.0000, F1: 1.0000\n",
      "  Validation - Loss: 1.8001, Accuracy: 0.8750, F1: 0.3889\n",
      "  Learning Rate: 0.00010000\n",
      "No improvement in f1. Patience: 12/500\n"
     ]
    },
    {
     "name": "stderr",
     "output_type": "stream",
     "text": [
      "Epoch 23/30: 100%|████████████████████████████████████████████████████████████████████████████████████████████████████████████████████████████████████| 88/88 [00:48<00:00,  1.83it/s, loss=0.0000, lr=0.000100]\n"
     ]
    },
    {
     "name": "stdout",
     "output_type": "stream",
     "text": [
      "Epoch 23/30:\n",
      "  Training   - Loss: 0.0000, Accuracy: 1.0000, F1: 1.0000\n",
      "  Validation - Loss: 1.8288, Accuracy: 0.8750, F1: 0.3889\n",
      "  Learning Rate: 0.00010000\n",
      "No improvement in f1. Patience: 13/500\n"
     ]
    },
    {
     "name": "stderr",
     "output_type": "stream",
     "text": [
      "Epoch 24/30: 100%|████████████████████████████████████████████████████████████████████████████████████████████████████████████████████████████████████| 88/88 [00:48<00:00,  1.82it/s, loss=0.0000, lr=0.000100]\n"
     ]
    },
    {
     "name": "stdout",
     "output_type": "stream",
     "text": [
      "Epoch 24/30:\n",
      "  Training   - Loss: 0.0000, Accuracy: 1.0000, F1: 1.0000\n",
      "  Validation - Loss: 1.8458, Accuracy: 0.8750, F1: 0.3889\n",
      "  Learning Rate: 0.00010000\n",
      "No improvement in f1. Patience: 14/500\n"
     ]
    },
    {
     "name": "stderr",
     "output_type": "stream",
     "text": [
      "Epoch 25/30: 100%|████████████████████████████████████████████████████████████████████████████████████████████████████████████████████████████████████| 88/88 [00:48<00:00,  1.81it/s, loss=0.0000, lr=0.000100]\n"
     ]
    },
    {
     "name": "stdout",
     "output_type": "stream",
     "text": [
      "Epoch 25/30:\n",
      "  Training   - Loss: 0.0000, Accuracy: 1.0000, F1: 1.0000\n",
      "  Validation - Loss: 1.8631, Accuracy: 0.8750, F1: 0.3889\n",
      "  Learning Rate: 0.00010000\n",
      "No improvement in f1. Patience: 15/500\n"
     ]
    },
    {
     "name": "stderr",
     "output_type": "stream",
     "text": [
      "Epoch 26/30: 100%|████████████████████████████████████████████████████████████████████████████████████████████████████████████████████████████████████| 88/88 [00:48<00:00,  1.82it/s, loss=0.0000, lr=0.000100]\n"
     ]
    },
    {
     "name": "stdout",
     "output_type": "stream",
     "text": [
      "Epoch 26/30:\n",
      "  Training   - Loss: 0.0000, Accuracy: 1.0000, F1: 1.0000\n",
      "  Validation - Loss: 1.8774, Accuracy: 0.8750, F1: 0.3889\n",
      "  Learning Rate: 0.00010000\n",
      "No improvement in f1. Patience: 16/500\n"
     ]
    },
    {
     "name": "stderr",
     "output_type": "stream",
     "text": [
      "Epoch 27/30: 100%|████████████████████████████████████████████████████████████████████████████████████████████████████████████████████████████████████| 88/88 [00:48<00:00,  1.82it/s, loss=0.0000, lr=0.000100]\n"
     ]
    },
    {
     "name": "stdout",
     "output_type": "stream",
     "text": [
      "Epoch 27/30:\n",
      "  Training   - Loss: 0.0000, Accuracy: 1.0000, F1: 1.0000\n",
      "  Validation - Loss: 1.8912, Accuracy: 0.8750, F1: 0.3889\n",
      "  Learning Rate: 0.00010000\n",
      "No improvement in f1. Patience: 17/500\n"
     ]
    },
    {
     "name": "stderr",
     "output_type": "stream",
     "text": [
      "Epoch 28/30: 100%|████████████████████████████████████████████████████████████████████████████████████████████████████████████████████████████████████| 88/88 [00:48<00:00,  1.83it/s, loss=0.0000, lr=0.000100]\n"
     ]
    },
    {
     "name": "stdout",
     "output_type": "stream",
     "text": [
      "Epoch 28/30:\n",
      "  Training   - Loss: 0.0000, Accuracy: 1.0000, F1: 1.0000\n",
      "  Validation - Loss: 1.9141, Accuracy: 0.8750, F1: 0.3889\n",
      "  Learning Rate: 0.00010000\n",
      "No improvement in f1. Patience: 18/500\n"
     ]
    },
    {
     "name": "stderr",
     "output_type": "stream",
     "text": [
      "Epoch 29/30: 100%|████████████████████████████████████████████████████████████████████████████████████████████████████████████████████████████████████| 88/88 [00:47<00:00,  1.84it/s, loss=0.0000, lr=0.000100]\n"
     ]
    },
    {
     "name": "stdout",
     "output_type": "stream",
     "text": [
      "Epoch 29/30:\n",
      "  Training   - Loss: 0.0000, Accuracy: 1.0000, F1: 1.0000\n",
      "  Validation - Loss: 1.9221, Accuracy: 0.8750, F1: 0.3889\n",
      "  Learning Rate: 0.00010000\n",
      "No improvement in f1. Patience: 19/500\n"
     ]
    },
    {
     "name": "stderr",
     "output_type": "stream",
     "text": [
      "Epoch 30/30: 100%|████████████████████████████████████████████████████████████████████████████████████████████████████████████████████████████████████| 88/88 [00:47<00:00,  1.84it/s, loss=0.0000, lr=0.000100]\n"
     ]
    },
    {
     "name": "stdout",
     "output_type": "stream",
     "text": [
      "Epoch 30/30:\n",
      "  Training   - Loss: 0.0000, Accuracy: 1.0000, F1: 1.0000\n",
      "  Validation - Loss: 1.9324, Accuracy: 0.8750, F1: 0.3889\n",
      "  Learning Rate: 0.00010000\n",
      "No improvement in f1. Patience: 20/500\n",
      "\n",
      "Final model evaluation...\n",
      "\n",
      "TRAINING COMPLETE\n",
      "Best validation loss: 1.3900\n",
      "Best validation accuracy: 0.8778\n",
      "Best validation F1: 0.3944\n",
      "Best f1: 0.3944\n"
     ]
    },
    {
     "data": {
      "text/html": [],
      "text/plain": [
       "<IPython.core.display.HTML object>"
      ]
     },
     "metadata": {},
     "output_type": "display_data"
    },
    {
     "data": {
      "text/html": [
       "<br>    <style><br>        .wandb-row {<br>            display: flex;<br>            flex-direction: row;<br>            flex-wrap: wrap;<br>            justify-content: flex-start;<br>            width: 100%;<br>        }<br>        .wandb-col {<br>            display: flex;<br>            flex-direction: column;<br>            flex-basis: 100%;<br>            flex: 1;<br>            padding: 10px;<br>        }<br>    </style><br><div class=\"wandb-row\"><div class=\"wandb-col\"><h3>Run history:</h3><br/><table class=\"wandb\"><tr><td>best_f1</td><td>▁▃▅▇██</td></tr><tr><td>best_valid_accuracy</td><td>▇█▇▅▁▇</td></tr><tr><td>best_valid_f1</td><td>▁▃▅▇██</td></tr><tr><td>best_valid_loss</td><td>▁▁▂▂▃█</td></tr><tr><td>epoch</td><td>▁▁▁▂▂▂▂▃▃▃▃▄▄▄▄▅▅▅▅▅▆▆▆▆▇▇▇▇███</td></tr><tr><td>epochs_trained</td><td>▁</td></tr><tr><td>final_valid_accuracy</td><td>▁</td></tr><tr><td>final_valid_f1</td><td>▁</td></tr><tr><td>final_valid_loss</td><td>▁</td></tr><tr><td>learning_rate</td><td>▁▁▁▁▁▁▁▁▁▁▁▁▁▁▁▁▁▁▁▁▁▁▁▁▁▁▁▁▁▁</td></tr><tr><td>train_accuracy</td><td>▁▂▃▅▆▇▇███████████████████████</td></tr><tr><td>train_f1</td><td>▁▂▃▅▆▇████████████████████████</td></tr><tr><td>train_loss</td><td>█▇▇▆▄▃▂▁▁▁▁▁▁▁▁▁▁▁▁▁▁▁▁▁▁▁▁▁▁▁</td></tr><tr><td>valid_accuracy</td><td>▁██████████████████████████████</td></tr><tr><td>valid_f1</td><td>▅▁▄▅▇██▆▆▇█▇███████████████████</td></tr><tr><td>valid_loss</td><td>▃▁▁▁▂▂▂▄▅▆▆▆▆▇▇▇▇▇▇▇▇▇▇████████</td></tr></table><br/></div><div class=\"wandb-col\"><h3>Run summary:</h3><br/><table class=\"wandb\"><tr><td>best_f1</td><td>0.39437</td></tr><tr><td>best_valid_accuracy</td><td>0.87784</td></tr><tr><td>best_valid_f1</td><td>0.39437</td></tr><tr><td>best_valid_loss</td><td>1.38996</td></tr><tr><td>early_stopped</td><td>False</td></tr><tr><td>epoch</td><td>30</td></tr><tr><td>epochs_trained</td><td>30</td></tr><tr><td>final_valid_accuracy</td><td>0.87784</td></tr><tr><td>final_valid_f1</td><td>0.39437</td></tr><tr><td>final_valid_loss</td><td>1.38996</td></tr><tr><td>learning_rate</td><td>0.0001</td></tr><tr><td>train_accuracy</td><td>1</td></tr><tr><td>train_f1</td><td>1</td></tr><tr><td>train_loss</td><td>1e-05</td></tr><tr><td>training_completed</td><td>True</td></tr><tr><td>valid_accuracy</td><td>0.875</td></tr><tr><td>valid_f1</td><td>0.38889</td></tr><tr><td>valid_loss</td><td>1.93241</td></tr></table><br/></div></div>"
      ],
      "text/plain": [
       "<IPython.core.display.HTML object>"
      ]
     },
     "metadata": {},
     "output_type": "display_data"
    },
    {
     "data": {
      "text/html": [
       " View run <strong style=\"color:#cdcd00\">do50wdlow_20250813_164111</strong> at: <a href='https://wandb.ai/shubhamjune-vilnius-university/router_rated/runs/1fxaxatr' target=\"_blank\">https://wandb.ai/shubhamjune-vilnius-university/router_rated/runs/1fxaxatr</a><br> View project at: <a href='https://wandb.ai/shubhamjune-vilnius-university/router_rated' target=\"_blank\">https://wandb.ai/shubhamjune-vilnius-university/router_rated</a><br>Synced 5 W&B file(s), 1 media file(s), 2 artifact file(s) and 0 other file(s)"
      ],
      "text/plain": [
       "<IPython.core.display.HTML object>"
      ]
     },
     "metadata": {},
     "output_type": "display_data"
    },
    {
     "data": {
      "text/html": [
       "Find logs at: <code>.\\wandb\\run-20250813_164111-1fxaxatr\\logs</code>"
      ],
      "text/plain": [
       "<IPython.core.display.HTML object>"
      ]
     },
     "metadata": {},
     "output_type": "display_data"
    }
   ],
   "source": [
    "do50wdlow = train_router_quality_classifier(\n",
    "    # Model configuration\n",
    "    dropout_rate=0.3,\n",
    "    \n",
    "    # Training hyperparameters\n",
    "    learning_rate=0.0001,\n",
    "    n_epochs=30,\n",
    "    weight_decay=0.0001,\n",
    "    \n",
    "    # Learning rate scheduling\n",
    "    enable_lr_annealing=True,\n",
    "    \n",
    "    # Experiment settings\n",
    "    experiment_name=\"do50wdlow\",\n",
    "    use_wandb=True  # Enable wandb logging\n",
    ")"
   ]
  },
  {
   "cell_type": "code",
   "execution_count": 12,
   "id": "b57456f4-5ca4-4a0f-a856-cd16cbb12ea5",
   "metadata": {
    "scrolled": true
   },
   "outputs": [
    {
     "name": "stdout",
     "output_type": "stream",
     "text": [
      "Reproducible environment set with seed: 9999\n"
     ]
    },
    {
     "data": {
      "text/html": [
       "Tracking run with wandb version 0.21.1"
      ],
      "text/plain": [
       "<IPython.core.display.HTML object>"
      ]
     },
     "metadata": {},
     "output_type": "display_data"
    },
    {
     "data": {
      "text/html": [
       "Run data is saved locally in <code>C:\\Users\\sj_x3\\Desktop\\code\\git\\smart_routing\\wandb\\run-20250813_170739-wzmcusi2</code>"
      ],
      "text/plain": [
       "<IPython.core.display.HTML object>"
      ]
     },
     "metadata": {},
     "output_type": "display_data"
    },
    {
     "data": {
      "text/html": [
       "Syncing run <strong><a href='https://wandb.ai/shubhamjune-vilnius-university/router_rated/runs/wzmcusi2' target=\"_blank\">slow_lr_20250813_170739</a></strong> to <a href='https://wandb.ai/shubhamjune-vilnius-university/router_rated' target=\"_blank\">Weights & Biases</a> (<a href='https://wandb.me/developer-guide' target=\"_blank\">docs</a>)<br>"
      ],
      "text/plain": [
       "<IPython.core.display.HTML object>"
      ]
     },
     "metadata": {},
     "output_type": "display_data"
    },
    {
     "data": {
      "text/html": [
       " View project at <a href='https://wandb.ai/shubhamjune-vilnius-university/router_rated' target=\"_blank\">https://wandb.ai/shubhamjune-vilnius-university/router_rated</a>"
      ],
      "text/plain": [
       "<IPython.core.display.HTML object>"
      ]
     },
     "metadata": {},
     "output_type": "display_data"
    },
    {
     "data": {
      "text/html": [
       " View run at <a href='https://wandb.ai/shubhamjune-vilnius-university/router_rated/runs/wzmcusi2' target=\"_blank\">https://wandb.ai/shubhamjune-vilnius-university/router_rated/runs/wzmcusi2</a>"
      ],
      "text/plain": [
       "<IPython.core.display.HTML object>"
      ]
     },
     "metadata": {},
     "output_type": "display_data"
    },
    {
     "name": "stdout",
     "output_type": "stream",
     "text": [
      "\n",
      "Starting training run: slow_lr_20250813_170739\n",
      "Using dataset: rated_enhanced_dataset_meta_llama_llama_3.1_8b_instruct_20250811_140130_20250811_151904.jsonl\n",
      "\n",
      "Loading rated dataset...\n",
      "Loaded 1756 items with ratings\n",
      "Dataset after filtering: 1756 items\n",
      "\n",
      "=== DATASET ANALYSIS ===\n",
      "Total samples: 1756\n",
      "Label 0 (Good quality, rating >= 4): 1526 (86.9%)\n",
      "Label 1 (Poor quality, rating < 4): 230 (13.1%)\n",
      "Class balance ratio (0:1): 6.63:1\n",
      "\n",
      "=== RATING DISTRIBUTION ===\n",
      "Rating 1: 37 (2.1%)\n",
      "Rating 2: 107 (6.1%)\n",
      "Rating 3: 86 (4.9%)\n",
      "Rating 4: 329 (18.7%)\n",
      "Rating 5: 1197 (68.2%)\n",
      "========================================\n",
      "\n",
      "Training samples: 1404\n",
      "Validation samples: 352\n",
      "DataLoaders created successfully\n",
      "\n",
      "Initializing model: distilbert-base-uncased\n",
      "All transformer layers will be fine-tuned\n",
      "📱 Model moved to device: cuda\n",
      "\n",
      "=== MODEL PARAMETER ANALYSIS ===\n",
      "Total parameters: 66,576,257\n",
      "Trainable parameters: 66,576,257\n",
      "Frozen parameters: 0\n",
      "Percentage trainable: 100.0%\n",
      "========================================\n",
      "LR Annealing enabled: factor=0.5, patience=5\n",
      "\n",
      "Starting initial validation...\n",
      "Initial - Loss: 0.7383, Accuracy: 0.2358, F1: 0.2018\n",
      "\n",
      "Starting training for 30 epochs...\n"
     ]
    },
    {
     "name": "stderr",
     "output_type": "stream",
     "text": [
      "Epoch 1/30: 100%|█████████████████████████████████████████████████████████████████████████████████████████████████████████████████████████████████████| 88/88 [00:47<00:00,  1.84it/s, loss=0.3044, lr=0.000050]\n"
     ]
    },
    {
     "name": "stdout",
     "output_type": "stream",
     "text": [
      "Epoch 1/30:\n",
      "  Training   - Loss: 0.4266, Accuracy: 0.8355, F1: 0.0494\n",
      "  Validation - Loss: 0.3692, Accuracy: 0.8693, F1: 0.0000\n",
      "  Learning Rate: 0.00005000\n",
      "No improvement in f1. Patience: 1/500\n"
     ]
    },
    {
     "name": "stderr",
     "output_type": "stream",
     "text": [
      "Epoch 2/30: 100%|█████████████████████████████████████████████████████████████████████████████████████████████████████████████████████████████████████| 88/88 [00:47<00:00,  1.84it/s, loss=0.0939, lr=0.000050]\n"
     ]
    },
    {
     "name": "stdout",
     "output_type": "stream",
     "text": [
      "Epoch 2/30:\n",
      "  Training   - Loss: 0.3749, Accuracy: 0.8761, F1: 0.1386\n",
      "  Validation - Loss: 0.3294, Accuracy: 0.8835, F1: 0.2264\n",
      "  Learning Rate: 0.00005000\n",
      "New best model saved with f1: 0.2264\n"
     ]
    },
    {
     "name": "stderr",
     "output_type": "stream",
     "text": [
      "Epoch 3/30: 100%|█████████████████████████████████████████████████████████████████████████████████████████████████████████████████████████████████████| 88/88 [00:49<00:00,  1.78it/s, loss=0.8220, lr=0.000050]\n"
     ]
    },
    {
     "name": "stdout",
     "output_type": "stream",
     "text": [
      "Epoch 3/30:\n",
      "  Training   - Loss: 0.3337, Accuracy: 0.8910, F1: 0.4047\n",
      "  Validation - Loss: 0.3704, Accuracy: 0.8807, F1: 0.2759\n",
      "  Learning Rate: 0.00005000\n",
      "New best model saved with f1: 0.2759\n"
     ]
    },
    {
     "name": "stderr",
     "output_type": "stream",
     "text": [
      "Epoch 4/30: 100%|█████████████████████████████████████████████████████████████████████████████████████████████████████████████████████████████████████| 88/88 [00:49<00:00,  1.79it/s, loss=0.0246, lr=0.000050]\n"
     ]
    },
    {
     "name": "stdout",
     "output_type": "stream",
     "text": [
      "Epoch 4/30:\n",
      "  Training   - Loss: 0.2418, Accuracy: 0.9259, F1: 0.6623\n",
      "  Validation - Loss: 0.4840, Accuracy: 0.8778, F1: 0.3175\n",
      "  Learning Rate: 0.00005000\n",
      "New best model saved with f1: 0.3175\n"
     ]
    },
    {
     "name": "stderr",
     "output_type": "stream",
     "text": [
      "Epoch 5/30: 100%|█████████████████████████████████████████████████████████████████████████████████████████████████████████████████████████████████████| 88/88 [00:48<00:00,  1.81it/s, loss=0.1016, lr=0.000050]\n"
     ]
    },
    {
     "name": "stdout",
     "output_type": "stream",
     "text": [
      "Epoch 5/30:\n",
      "  Training   - Loss: 0.1829, Accuracy: 0.9516, F1: 0.7976\n",
      "  Validation - Loss: 0.6189, Accuracy: 0.8665, F1: 0.4051\n",
      "  Learning Rate: 0.00005000\n",
      "New best model saved with f1: 0.4051\n"
     ]
    },
    {
     "name": "stderr",
     "output_type": "stream",
     "text": [
      "Epoch 6/30: 100%|█████████████████████████████████████████████████████████████████████████████████████████████████████████████████████████████████████| 88/88 [00:48<00:00,  1.80it/s, loss=0.0381, lr=0.000050]\n"
     ]
    },
    {
     "name": "stdout",
     "output_type": "stream",
     "text": [
      "Epoch 6/30:\n",
      "  Training   - Loss: 0.1097, Accuracy: 0.9758, F1: 0.9056\n",
      "  Validation - Loss: 0.6738, Accuracy: 0.8693, F1: 0.3784\n",
      "  Learning Rate: 0.00005000\n",
      "No improvement in f1. Patience: 1/500\n"
     ]
    },
    {
     "name": "stderr",
     "output_type": "stream",
     "text": [
      "Epoch 7/30: 100%|█████████████████████████████████████████████████████████████████████████████████████████████████████████████████████████████████████| 88/88 [00:48<00:00,  1.82it/s, loss=0.0020, lr=0.000050]\n"
     ]
    },
    {
     "name": "stdout",
     "output_type": "stream",
     "text": [
      "Epoch 7/30:\n",
      "  Training   - Loss: 0.0716, Accuracy: 0.9836, F1: 0.9352\n",
      "  Validation - Loss: 0.7870, Accuracy: 0.8807, F1: 0.2759\n",
      "  Learning Rate: 0.00005000\n",
      "No improvement in f1. Patience: 2/500\n"
     ]
    },
    {
     "name": "stderr",
     "output_type": "stream",
     "text": [
      "Epoch 8/30: 100%|█████████████████████████████████████████████████████████████████████████████████████████████████████████████████████████████████████| 88/88 [00:48<00:00,  1.81it/s, loss=0.5839, lr=0.000050]\n"
     ]
    },
    {
     "name": "stdout",
     "output_type": "stream",
     "text": [
      "Epoch 8/30:\n",
      "  Training   - Loss: 0.0379, Accuracy: 0.9943, F1: 0.9778\n",
      "  Validation - Loss: 0.8366, Accuracy: 0.8778, F1: 0.2951\n",
      "  Learning Rate: 0.00005000\n",
      "No improvement in f1. Patience: 3/500\n"
     ]
    },
    {
     "name": "stderr",
     "output_type": "stream",
     "text": [
      "Epoch 9/30: 100%|█████████████████████████████████████████████████████████████████████████████████████████████████████████████████████████████████████| 88/88 [00:48<00:00,  1.80it/s, loss=0.0005, lr=0.000050]\n"
     ]
    },
    {
     "name": "stdout",
     "output_type": "stream",
     "text": [
      "Epoch 9/30:\n",
      "  Training   - Loss: 0.0456, Accuracy: 0.9907, F1: 0.9648\n",
      "  Validation - Loss: 1.0278, Accuracy: 0.8665, F1: 0.2295\n",
      "  Learning Rate: 0.00005000\n",
      "No improvement in f1. Patience: 4/500\n"
     ]
    },
    {
     "name": "stderr",
     "output_type": "stream",
     "text": [
      "Epoch 10/30: 100%|████████████████████████████████████████████████████████████████████████████████████████████████████████████████████████████████████| 88/88 [00:49<00:00,  1.78it/s, loss=0.0008, lr=0.000050]\n"
     ]
    },
    {
     "name": "stdout",
     "output_type": "stream",
     "text": [
      "Epoch 10/30:\n",
      "  Training   - Loss: 0.0161, Accuracy: 0.9972, F1: 0.9891\n",
      "  Validation - Loss: 1.1307, Accuracy: 0.8807, F1: 0.3824\n",
      "  Learning Rate: 0.00005000\n",
      "No improvement in f1. Patience: 5/500\n"
     ]
    },
    {
     "name": "stderr",
     "output_type": "stream",
     "text": [
      "Epoch 11/30: 100%|████████████████████████████████████████████████████████████████████████████████████████████████████████████████████████████████████| 88/88 [00:48<00:00,  1.80it/s, loss=0.0005, lr=0.000050]\n"
     ]
    },
    {
     "name": "stdout",
     "output_type": "stream",
     "text": [
      "Epoch 11/30:\n",
      "  Training   - Loss: 0.0050, Accuracy: 0.9993, F1: 0.9973\n",
      "  Validation - Loss: 1.2329, Accuracy: 0.8778, F1: 0.2182\n",
      "  Learning Rate: 0.00005000\n",
      "No improvement in f1. Patience: 6/500\n"
     ]
    },
    {
     "name": "stderr",
     "output_type": "stream",
     "text": [
      "Epoch 12/30: 100%|████████████████████████████████████████████████████████████████████████████████████████████████████████████████████████████████████| 88/88 [00:48<00:00,  1.82it/s, loss=0.0001, lr=0.000050]\n"
     ]
    },
    {
     "name": "stdout",
     "output_type": "stream",
     "text": [
      "Epoch 12/30:\n",
      "  Training   - Loss: 0.0113, Accuracy: 0.9979, F1: 0.9918\n",
      "  Validation - Loss: 1.2842, Accuracy: 0.8693, F1: 0.3611\n",
      "  Learning Rate: 0.00005000\n",
      "No improvement in f1. Patience: 7/500\n"
     ]
    },
    {
     "name": "stderr",
     "output_type": "stream",
     "text": [
      "Epoch 13/30: 100%|████████████████████████████████████████████████████████████████████████████████████████████████████████████████████████████████████| 88/88 [00:47<00:00,  1.84it/s, loss=0.0000, lr=0.000050]\n"
     ]
    },
    {
     "name": "stdout",
     "output_type": "stream",
     "text": [
      "Epoch 13/30:\n",
      "  Training   - Loss: 0.0241, Accuracy: 0.9964, F1: 0.9864\n",
      "  Validation - Loss: 1.1222, Accuracy: 0.8835, F1: 0.3492\n",
      "  Learning Rate: 0.00005000\n",
      "No improvement in f1. Patience: 8/500\n"
     ]
    },
    {
     "name": "stderr",
     "output_type": "stream",
     "text": [
      "Epoch 14/30: 100%|████████████████████████████████████████████████████████████████████████████████████████████████████████████████████████████████████| 88/88 [00:47<00:00,  1.84it/s, loss=0.0001, lr=0.000050]\n"
     ]
    },
    {
     "name": "stdout",
     "output_type": "stream",
     "text": [
      "Epoch 14/30:\n",
      "  Training   - Loss: 0.0056, Accuracy: 0.9986, F1: 0.9945\n",
      "  Validation - Loss: 1.4006, Accuracy: 0.8665, F1: 0.4471\n",
      "  Learning Rate: 0.00005000\n",
      "New best model saved with f1: 0.4471\n"
     ]
    },
    {
     "name": "stderr",
     "output_type": "stream",
     "text": [
      "Epoch 15/30: 100%|████████████████████████████████████████████████████████████████████████████████████████████████████████████████████████████████████| 88/88 [00:47<00:00,  1.84it/s, loss=0.0000, lr=0.000050]\n"
     ]
    },
    {
     "name": "stdout",
     "output_type": "stream",
     "text": [
      "Epoch 15/30:\n",
      "  Training   - Loss: 0.0064, Accuracy: 0.9986, F1: 0.9946\n",
      "  Validation - Loss: 1.2542, Accuracy: 0.8750, F1: 0.2903\n",
      "  Learning Rate: 0.00005000\n",
      "No improvement in f1. Patience: 1/500\n"
     ]
    },
    {
     "name": "stderr",
     "output_type": "stream",
     "text": [
      "Epoch 16/30: 100%|████████████████████████████████████████████████████████████████████████████████████████████████████████████████████████████████████| 88/88 [00:47<00:00,  1.84it/s, loss=0.0001, lr=0.000050]\n"
     ]
    },
    {
     "name": "stdout",
     "output_type": "stream",
     "text": [
      "Epoch 16/30:\n",
      "  Training   - Loss: 0.0026, Accuracy: 0.9993, F1: 0.9973\n",
      "  Validation - Loss: 1.3121, Accuracy: 0.8722, F1: 0.3836\n",
      "  Learning Rate: 0.00005000\n",
      "No improvement in f1. Patience: 2/500\n"
     ]
    },
    {
     "name": "stderr",
     "output_type": "stream",
     "text": [
      "Epoch 17/30: 100%|████████████████████████████████████████████████████████████████████████████████████████████████████████████████████████████████████| 88/88 [00:48<00:00,  1.81it/s, loss=0.0002, lr=0.000050]\n"
     ]
    },
    {
     "name": "stdout",
     "output_type": "stream",
     "text": [
      "Epoch 17/30:\n",
      "  Training   - Loss: 0.0034, Accuracy: 0.9986, F1: 0.9946\n",
      "  Validation - Loss: 1.5075, Accuracy: 0.8665, F1: 0.4471\n",
      "  Learning Rate: 0.00005000\n",
      "No improvement in f1. Patience: 3/500\n"
     ]
    },
    {
     "name": "stderr",
     "output_type": "stream",
     "text": [
      "Epoch 18/30: 100%|████████████████████████████████████████████████████████████████████████████████████████████████████████████████████████████████████| 88/88 [00:47<00:00,  1.83it/s, loss=0.0012, lr=0.000050]\n"
     ]
    },
    {
     "name": "stdout",
     "output_type": "stream",
     "text": [
      "Epoch 18/30:\n",
      "  Training   - Loss: 0.0144, Accuracy: 0.9986, F1: 0.9945\n",
      "  Validation - Loss: 1.2747, Accuracy: 0.8807, F1: 0.2759\n",
      "  Learning Rate: 0.00005000\n",
      "No improvement in f1. Patience: 4/500\n"
     ]
    },
    {
     "name": "stderr",
     "output_type": "stream",
     "text": [
      "Epoch 19/30: 100%|████████████████████████████████████████████████████████████████████████████████████████████████████████████████████████████████████| 88/88 [00:49<00:00,  1.77it/s, loss=0.0000, lr=0.000050]\n"
     ]
    },
    {
     "name": "stdout",
     "output_type": "stream",
     "text": [
      "Epoch 19/30:\n",
      "  Training   - Loss: 0.0004, Accuracy: 1.0000, F1: 1.0000\n",
      "  Validation - Loss: 1.3726, Accuracy: 0.8835, F1: 0.2807\n",
      "  Learning Rate: 0.00005000\n",
      "No improvement in f1. Patience: 5/500\n"
     ]
    },
    {
     "name": "stderr",
     "output_type": "stream",
     "text": [
      "Epoch 20/30: 100%|████████████████████████████████████████████████████████████████████████████████████████████████████████████████████████████████████| 88/88 [00:48<00:00,  1.80it/s, loss=0.0000, lr=0.000050]\n"
     ]
    },
    {
     "name": "stdout",
     "output_type": "stream",
     "text": [
      "Epoch 20/30:\n",
      "  Training   - Loss: 0.0404, Accuracy: 0.9936, F1: 0.9756\n",
      "  Validation - Loss: 1.2523, Accuracy: 0.8835, F1: 0.3051\n",
      "  Learning Rate: 0.00005000\n",
      "No improvement in f1. Patience: 6/500\n"
     ]
    },
    {
     "name": "stderr",
     "output_type": "stream",
     "text": [
      "Epoch 21/30: 100%|████████████████████████████████████████████████████████████████████████████████████████████████████████████████████████████████████| 88/88 [00:48<00:00,  1.83it/s, loss=0.0000, lr=0.000050]\n"
     ]
    },
    {
     "name": "stdout",
     "output_type": "stream",
     "text": [
      "Epoch 21/30:\n",
      "  Training   - Loss: 0.0149, Accuracy: 0.9972, F1: 0.9892\n",
      "  Validation - Loss: 1.3436, Accuracy: 0.8835, F1: 0.2807\n",
      "  Learning Rate: 0.00005000\n",
      "No improvement in f1. Patience: 7/500\n"
     ]
    },
    {
     "name": "stderr",
     "output_type": "stream",
     "text": [
      "Epoch 22/30: 100%|████████████████████████████████████████████████████████████████████████████████████████████████████████████████████████████████████| 88/88 [00:47<00:00,  1.84it/s, loss=1.0103, lr=0.000050]\n"
     ]
    },
    {
     "name": "stdout",
     "output_type": "stream",
     "text": [
      "Epoch 22/30:\n",
      "  Training   - Loss: 0.0258, Accuracy: 0.9957, F1: 0.9837\n",
      "  Validation - Loss: 1.3454, Accuracy: 0.8693, F1: 0.3030\n",
      "  Learning Rate: 0.00005000\n",
      "No improvement in f1. Patience: 8/500\n"
     ]
    },
    {
     "name": "stderr",
     "output_type": "stream",
     "text": [
      "Epoch 23/30: 100%|████████████████████████████████████████████████████████████████████████████████████████████████████████████████████████████████████| 88/88 [00:47<00:00,  1.83it/s, loss=0.0000, lr=0.000050]\n"
     ]
    },
    {
     "name": "stdout",
     "output_type": "stream",
     "text": [
      "Epoch 23/30:\n",
      "  Training   - Loss: 0.0102, Accuracy: 0.9986, F1: 0.9945\n",
      "  Validation - Loss: 1.5004, Accuracy: 0.8551, F1: 0.3544\n",
      "  Learning Rate: 0.00005000\n",
      "No improvement in f1. Patience: 9/500\n"
     ]
    },
    {
     "name": "stderr",
     "output_type": "stream",
     "text": [
      "Epoch 24/30: 100%|████████████████████████████████████████████████████████████████████████████████████████████████████████████████████████████████████| 88/88 [00:48<00:00,  1.80it/s, loss=0.0000, lr=0.000050]\n"
     ]
    },
    {
     "name": "stdout",
     "output_type": "stream",
     "text": [
      "Epoch 24/30:\n",
      "  Training   - Loss: 0.0110, Accuracy: 0.9986, F1: 0.9946\n",
      "  Validation - Loss: 1.5071, Accuracy: 0.8636, F1: 0.2727\n",
      "  Learning Rate: 0.00005000\n",
      "No improvement in f1. Patience: 10/500\n"
     ]
    },
    {
     "name": "stderr",
     "output_type": "stream",
     "text": [
      "Epoch 25/30: 100%|████████████████████████████████████████████████████████████████████████████████████████████████████████████████████████████████████| 88/88 [00:48<00:00,  1.82it/s, loss=0.0000, lr=0.000050]\n"
     ]
    },
    {
     "name": "stdout",
     "output_type": "stream",
     "text": [
      "Epoch 25/30:\n",
      "  Training   - Loss: 0.0085, Accuracy: 0.9993, F1: 0.9973\n",
      "  Validation - Loss: 1.5799, Accuracy: 0.8750, F1: 0.2667\n",
      "  Learning Rate: 0.00002500\n",
      "No improvement in f1. Patience: 11/500\n"
     ]
    },
    {
     "name": "stderr",
     "output_type": "stream",
     "text": [
      "Epoch 26/30: 100%|████████████████████████████████████████████████████████████████████████████████████████████████████████████████████████████████████| 88/88 [00:48<00:00,  1.82it/s, loss=0.0000, lr=0.000025]\n"
     ]
    },
    {
     "name": "stdout",
     "output_type": "stream",
     "text": [
      "Epoch 26/30:\n",
      "  Training   - Loss: 0.0177, Accuracy: 0.9979, F1: 0.9918\n",
      "  Validation - Loss: 1.3630, Accuracy: 0.8750, F1: 0.2903\n",
      "  Learning Rate: 0.00002500\n",
      "No improvement in f1. Patience: 12/500\n"
     ]
    },
    {
     "name": "stderr",
     "output_type": "stream",
     "text": [
      "Epoch 27/30: 100%|████████████████████████████████████████████████████████████████████████████████████████████████████████████████████████████████████| 88/88 [00:48<00:00,  1.82it/s, loss=0.0001, lr=0.000025]\n"
     ]
    },
    {
     "name": "stdout",
     "output_type": "stream",
     "text": [
      "Epoch 27/30:\n",
      "  Training   - Loss: 0.0099, Accuracy: 0.9993, F1: 0.9973\n",
      "  Validation - Loss: 1.2396, Accuracy: 0.8807, F1: 0.3000\n",
      "  Learning Rate: 0.00002500\n",
      "No improvement in f1. Patience: 13/500\n"
     ]
    },
    {
     "name": "stderr",
     "output_type": "stream",
     "text": [
      "Epoch 28/30: 100%|████████████████████████████████████████████████████████████████████████████████████████████████████████████████████████████████████| 88/88 [00:48<00:00,  1.82it/s, loss=0.0002, lr=0.000025]\n"
     ]
    },
    {
     "name": "stdout",
     "output_type": "stream",
     "text": [
      "Epoch 28/30:\n",
      "  Training   - Loss: 0.0002, Accuracy: 1.0000, F1: 1.0000\n",
      "  Validation - Loss: 1.3123, Accuracy: 0.8778, F1: 0.2951\n",
      "  Learning Rate: 0.00002500\n",
      "No improvement in f1. Patience: 14/500\n"
     ]
    },
    {
     "name": "stderr",
     "output_type": "stream",
     "text": [
      "Epoch 29/30: 100%|████████████████████████████████████████████████████████████████████████████████████████████████████████████████████████████████████| 88/88 [00:48<00:00,  1.81it/s, loss=0.0006, lr=0.000025]\n"
     ]
    },
    {
     "name": "stdout",
     "output_type": "stream",
     "text": [
      "Epoch 29/30:\n",
      "  Training   - Loss: 0.0001, Accuracy: 1.0000, F1: 1.0000\n",
      "  Validation - Loss: 1.3615, Accuracy: 0.8778, F1: 0.2951\n",
      "  Learning Rate: 0.00002500\n",
      "No improvement in f1. Patience: 15/500\n"
     ]
    },
    {
     "name": "stderr",
     "output_type": "stream",
     "text": [
      "Epoch 30/30: 100%|████████████████████████████████████████████████████████████████████████████████████████████████████████████████████████████████████| 88/88 [00:48<00:00,  1.82it/s, loss=0.0000, lr=0.000025]\n"
     ]
    },
    {
     "name": "stdout",
     "output_type": "stream",
     "text": [
      "Epoch 30/30:\n",
      "  Training   - Loss: 0.0001, Accuracy: 1.0000, F1: 1.0000\n",
      "  Validation - Loss: 1.4002, Accuracy: 0.8778, F1: 0.2951\n",
      "  Learning Rate: 0.00002500\n",
      "No improvement in f1. Patience: 16/500\n",
      "\n",
      "Final model evaluation...\n",
      "\n",
      "TRAINING COMPLETE\n",
      "Best validation loss: 1.4006\n",
      "Best validation accuracy: 0.8665\n",
      "Best validation F1: 0.4471\n",
      "Best f1: 0.4471\n"
     ]
    },
    {
     "data": {
      "text/html": [],
      "text/plain": [
       "<IPython.core.display.HTML object>"
      ]
     },
     "metadata": {},
     "output_type": "display_data"
    },
    {
     "data": {
      "text/html": [
       "<br>    <style><br>        .wandb-row {<br>            display: flex;<br>            flex-direction: row;<br>            flex-wrap: wrap;<br>            justify-content: flex-start;<br>            width: 100%;<br>        }<br>        .wandb-col {<br>            display: flex;<br>            flex-direction: column;<br>            flex-basis: 100%;<br>            flex: 1;<br>            padding: 10px;<br>        }<br>    </style><br><div class=\"wandb-row\"><div class=\"wandb-col\"><h3>Run history:</h3><br/><table class=\"wandb\"><tr><td>best_f1</td><td>▁▃▄▇█</td></tr><tr><td>best_valid_accuracy</td><td>█▇▆▁▁</td></tr><tr><td>best_valid_f1</td><td>▁▃▄▇█</td></tr><tr><td>best_valid_loss</td><td>▁▁▂▃█</td></tr><tr><td>epoch</td><td>▁▁▁▂▂▂▂▃▃▃▃▄▄▄▄▅▅▅▅▅▆▆▆▆▇▇▇▇███</td></tr><tr><td>epochs_trained</td><td>▁</td></tr><tr><td>final_valid_accuracy</td><td>▁</td></tr><tr><td>final_valid_f1</td><td>▁</td></tr><tr><td>final_valid_loss</td><td>▁</td></tr><tr><td>learning_rate</td><td>████████████████████████▁▁▁▁▁▁</td></tr><tr><td>train_accuracy</td><td>▁▃▃▅▆▇▇███████████████████████</td></tr><tr><td>train_f1</td><td>▁▂▄▆▇▇████████████████████████</td></tr><tr><td>train_loss</td><td>█▇▆▅▄▃▂▂▂▁▁▁▁▁▁▁▁▁▁▂▁▁▁▁▁▁▁▁▁▁</td></tr><tr><td>valid_accuracy</td><td>▁██████████████████████████████</td></tr><tr><td>valid_f1</td><td>▄▁▅▅▆▇▇▅▆▅▇▄▇▆█▆▇█▅▅▆▅▆▇▅▅▆▆▆▆▆</td></tr><tr><td>valid_loss</td><td>▃▁▁▁▂▃▃▄▄▅▅▆▆▅▇▆▇█▆▇▆▇▇███▇▆▇▇▇</td></tr></table><br/></div><div class=\"wandb-col\"><h3>Run summary:</h3><br/><table class=\"wandb\"><tr><td>best_f1</td><td>0.44706</td></tr><tr><td>best_valid_accuracy</td><td>0.86648</td></tr><tr><td>best_valid_f1</td><td>0.44706</td></tr><tr><td>best_valid_loss</td><td>1.40063</td></tr><tr><td>early_stopped</td><td>False</td></tr><tr><td>epoch</td><td>30</td></tr><tr><td>epochs_trained</td><td>30</td></tr><tr><td>final_valid_accuracy</td><td>0.86648</td></tr><tr><td>final_valid_f1</td><td>0.44706</td></tr><tr><td>final_valid_loss</td><td>1.40063</td></tr><tr><td>learning_rate</td><td>2e-05</td></tr><tr><td>train_accuracy</td><td>1</td></tr><tr><td>train_f1</td><td>1</td></tr><tr><td>train_loss</td><td>8e-05</td></tr><tr><td>training_completed</td><td>True</td></tr><tr><td>valid_accuracy</td><td>0.87784</td></tr><tr><td>valid_f1</td><td>0.29508</td></tr><tr><td>valid_loss</td><td>1.40018</td></tr></table><br/></div></div>"
      ],
      "text/plain": [
       "<IPython.core.display.HTML object>"
      ]
     },
     "metadata": {},
     "output_type": "display_data"
    },
    {
     "data": {
      "text/html": [
       " View run <strong style=\"color:#cdcd00\">slow_lr_20250813_170739</strong> at: <a href='https://wandb.ai/shubhamjune-vilnius-university/router_rated/runs/wzmcusi2' target=\"_blank\">https://wandb.ai/shubhamjune-vilnius-university/router_rated/runs/wzmcusi2</a><br> View project at: <a href='https://wandb.ai/shubhamjune-vilnius-university/router_rated' target=\"_blank\">https://wandb.ai/shubhamjune-vilnius-university/router_rated</a><br>Synced 5 W&B file(s), 1 media file(s), 2 artifact file(s) and 0 other file(s)"
      ],
      "text/plain": [
       "<IPython.core.display.HTML object>"
      ]
     },
     "metadata": {},
     "output_type": "display_data"
    },
    {
     "data": {
      "text/html": [
       "Find logs at: <code>.\\wandb\\run-20250813_170739-wzmcusi2\\logs</code>"
      ],
      "text/plain": [
       "<IPython.core.display.HTML object>"
      ]
     },
     "metadata": {},
     "output_type": "display_data"
    }
   ],
   "source": [
    "slow_lr = train_router_quality_classifier(\n",
    "    # Model configuration\n",
    "    dropout_rate=0.3,\n",
    "    \n",
    "    # Training hyperparameters\n",
    "    learning_rate=0.00005,\n",
    "    n_epochs=30,\n",
    "    weight_decay=0.0001,\n",
    "    \n",
    "    # Learning rate scheduling\n",
    "    enable_lr_annealing=True,\n",
    "    \n",
    "    # Experiment settings\n",
    "    experiment_name=\"slow_lr\",\n",
    "    use_wandb=True  # Enable wandb logging\n",
    ")"
   ]
  },
  {
   "cell_type": "code",
   "execution_count": 13,
   "id": "2fa454e8-dabb-45e8-b0e9-b7a95482cd44",
   "metadata": {
    "scrolled": true
   },
   "outputs": [
    {
     "name": "stdout",
     "output_type": "stream",
     "text": [
      "Reproducible environment set with seed: 9999\n"
     ]
    },
    {
     "data": {
      "text/html": [
       "Tracking run with wandb version 0.21.1"
      ],
      "text/plain": [
       "<IPython.core.display.HTML object>"
      ]
     },
     "metadata": {},
     "output_type": "display_data"
    },
    {
     "data": {
      "text/html": [
       "Run data is saved locally in <code>C:\\Users\\sj_x3\\Desktop\\code\\git\\smart_routing\\wandb\\run-20250813_180851-xxb1w30u</code>"
      ],
      "text/plain": [
       "<IPython.core.display.HTML object>"
      ]
     },
     "metadata": {},
     "output_type": "display_data"
    },
    {
     "data": {
      "text/html": [
       "Syncing run <strong><a href='https://wandb.ai/shubhamjune-vilnius-university/router_rated/runs/xxb1w30u' target=\"_blank\">very_slow_lr_20250813_180851</a></strong> to <a href='https://wandb.ai/shubhamjune-vilnius-university/router_rated' target=\"_blank\">Weights & Biases</a> (<a href='https://wandb.me/developer-guide' target=\"_blank\">docs</a>)<br>"
      ],
      "text/plain": [
       "<IPython.core.display.HTML object>"
      ]
     },
     "metadata": {},
     "output_type": "display_data"
    },
    {
     "data": {
      "text/html": [
       " View project at <a href='https://wandb.ai/shubhamjune-vilnius-university/router_rated' target=\"_blank\">https://wandb.ai/shubhamjune-vilnius-university/router_rated</a>"
      ],
      "text/plain": [
       "<IPython.core.display.HTML object>"
      ]
     },
     "metadata": {},
     "output_type": "display_data"
    },
    {
     "data": {
      "text/html": [
       " View run at <a href='https://wandb.ai/shubhamjune-vilnius-university/router_rated/runs/xxb1w30u' target=\"_blank\">https://wandb.ai/shubhamjune-vilnius-university/router_rated/runs/xxb1w30u</a>"
      ],
      "text/plain": [
       "<IPython.core.display.HTML object>"
      ]
     },
     "metadata": {},
     "output_type": "display_data"
    },
    {
     "name": "stdout",
     "output_type": "stream",
     "text": [
      "\n",
      "Starting training run: very_slow_lr_20250813_180851\n",
      "Using dataset: rated_enhanced_dataset_meta_llama_llama_3.1_8b_instruct_20250811_140130_20250811_151904.jsonl\n",
      "\n",
      "Loading rated dataset...\n",
      "Loaded 1756 items with ratings\n",
      "Dataset after filtering: 1756 items\n",
      "\n",
      "=== DATASET ANALYSIS ===\n",
      "Total samples: 1756\n",
      "Label 0 (Good quality, rating >= 4): 1526 (86.9%)\n",
      "Label 1 (Poor quality, rating < 4): 230 (13.1%)\n",
      "Class balance ratio (0:1): 6.63:1\n",
      "\n",
      "=== RATING DISTRIBUTION ===\n",
      "Rating 1: 37 (2.1%)\n",
      "Rating 2: 107 (6.1%)\n",
      "Rating 3: 86 (4.9%)\n",
      "Rating 4: 329 (18.7%)\n",
      "Rating 5: 1197 (68.2%)\n",
      "========================================\n",
      "\n",
      "Training samples: 1404\n",
      "Validation samples: 352\n",
      "DataLoaders created successfully\n",
      "\n",
      "Initializing model: distilbert-base-uncased\n",
      "All transformer layers will be fine-tuned\n",
      "📱 Model moved to device: cuda\n",
      "\n",
      "=== MODEL PARAMETER ANALYSIS ===\n",
      "Total parameters: 66,576,257\n",
      "Trainable parameters: 66,576,257\n",
      "Frozen parameters: 0\n",
      "Percentage trainable: 100.0%\n",
      "========================================\n",
      "\n",
      "Starting initial validation...\n",
      "Initial - Loss: 0.7383, Accuracy: 0.2358, F1: 0.2018\n",
      "\n",
      "Starting training for 30 epochs...\n"
     ]
    },
    {
     "name": "stderr",
     "output_type": "stream",
     "text": [
      "Epoch 1/30: 100%|█████████████████████████████████████████████████████████████████████████████████████████████████████████████████████████████████████| 88/88 [00:47<00:00,  1.85it/s, loss=0.3129, lr=0.000007]\n"
     ]
    },
    {
     "name": "stdout",
     "output_type": "stream",
     "text": [
      "Epoch 1/30:\n",
      "  Training   - Loss: 0.5000, Accuracy: 0.7678, F1: 0.1641\n",
      "  Validation - Loss: 0.3890, Accuracy: 0.8693, F1: 0.0000\n",
      "  Learning Rate: 0.00000700\n",
      "No improvement in f1. Patience: 1/500\n"
     ]
    },
    {
     "name": "stderr",
     "output_type": "stream",
     "text": [
      "Epoch 2/30: 100%|█████████████████████████████████████████████████████████████████████████████████████████████████████████████████████████████████████| 88/88 [00:47<00:00,  1.84it/s, loss=0.2049, lr=0.000007]\n"
     ]
    },
    {
     "name": "stdout",
     "output_type": "stream",
     "text": [
      "Epoch 2/30:\n",
      "  Training   - Loss: 0.3966, Accuracy: 0.8640, F1: 0.0402\n",
      "  Validation - Loss: 0.3656, Accuracy: 0.8693, F1: 0.0000\n",
      "  Learning Rate: 0.00000700\n",
      "No improvement in f1. Patience: 2/500\n"
     ]
    },
    {
     "name": "stderr",
     "output_type": "stream",
     "text": [
      "Epoch 3/30: 100%|█████████████████████████████████████████████████████████████████████████████████████████████████████████████████████████████████████| 88/88 [00:47<00:00,  1.86it/s, loss=0.5931, lr=0.000007]\n"
     ]
    },
    {
     "name": "stdout",
     "output_type": "stream",
     "text": [
      "Epoch 3/30:\n",
      "  Training   - Loss: 0.3802, Accuracy: 0.8654, F1: 0.0207\n",
      "  Validation - Loss: 0.3704, Accuracy: 0.8693, F1: 0.0000\n",
      "  Learning Rate: 0.00000700\n",
      "No improvement in f1. Patience: 3/500\n"
     ]
    },
    {
     "name": "stderr",
     "output_type": "stream",
     "text": [
      "Epoch 4/30: 100%|█████████████████████████████████████████████████████████████████████████████████████████████████████████████████████████████████████| 88/88 [00:48<00:00,  1.83it/s, loss=0.2410, lr=0.000007]\n"
     ]
    },
    {
     "name": "stdout",
     "output_type": "stream",
     "text": [
      "Epoch 4/30:\n",
      "  Training   - Loss: 0.3537, Accuracy: 0.8725, F1: 0.0725\n",
      "  Validation - Loss: 0.3402, Accuracy: 0.8693, F1: 0.0000\n",
      "  Learning Rate: 0.00000700\n",
      "No improvement in f1. Patience: 4/500\n"
     ]
    },
    {
     "name": "stderr",
     "output_type": "stream",
     "text": [
      "Epoch 5/30: 100%|█████████████████████████████████████████████████████████████████████████████████████████████████████████████████████████████████████| 88/88 [00:48<00:00,  1.83it/s, loss=0.5750, lr=0.000007]\n"
     ]
    },
    {
     "name": "stdout",
     "output_type": "stream",
     "text": [
      "Epoch 5/30:\n",
      "  Training   - Loss: 0.3369, Accuracy: 0.8732, F1: 0.1100\n",
      "  Validation - Loss: 0.3713, Accuracy: 0.8750, F1: 0.0833\n",
      "  Learning Rate: 0.00000700\n",
      "New best model saved with f1: 0.0833\n"
     ]
    },
    {
     "name": "stderr",
     "output_type": "stream",
     "text": [
      "Epoch 6/30: 100%|█████████████████████████████████████████████████████████████████████████████████████████████████████████████████████████████████████| 88/88 [00:48<00:00,  1.83it/s, loss=0.4883, lr=0.000007]\n"
     ]
    },
    {
     "name": "stdout",
     "output_type": "stream",
     "text": [
      "Epoch 6/30:\n",
      "  Training   - Loss: 0.3213, Accuracy: 0.8761, F1: 0.1714\n",
      "  Validation - Loss: 0.3309, Accuracy: 0.8864, F1: 0.2593\n",
      "  Learning Rate: 0.00000700\n",
      "New best model saved with f1: 0.2593\n"
     ]
    },
    {
     "name": "stderr",
     "output_type": "stream",
     "text": [
      "Epoch 7/30: 100%|█████████████████████████████████████████████████████████████████████████████████████████████████████████████████████████████████████| 88/88 [00:48<00:00,  1.83it/s, loss=0.4426, lr=0.000007]\n"
     ]
    },
    {
     "name": "stdout",
     "output_type": "stream",
     "text": [
      "Epoch 7/30:\n",
      "  Training   - Loss: 0.2804, Accuracy: 0.8925, F1: 0.3837\n",
      "  Validation - Loss: 0.4062, Accuracy: 0.8807, F1: 0.2500\n",
      "  Learning Rate: 0.00000700\n",
      "No improvement in f1. Patience: 1/500\n"
     ]
    },
    {
     "name": "stderr",
     "output_type": "stream",
     "text": [
      "Epoch 8/30: 100%|█████████████████████████████████████████████████████████████████████████████████████████████████████████████████████████████████████| 88/88 [00:48<00:00,  1.83it/s, loss=0.4330, lr=0.000007]\n"
     ]
    },
    {
     "name": "stdout",
     "output_type": "stream",
     "text": [
      "Epoch 8/30:\n",
      "  Training   - Loss: 0.2269, Accuracy: 0.8981, F1: 0.4521\n",
      "  Validation - Loss: 0.4011, Accuracy: 0.8807, F1: 0.3226\n",
      "  Learning Rate: 0.00000700\n",
      "New best model saved with f1: 0.3226\n"
     ]
    },
    {
     "name": "stderr",
     "output_type": "stream",
     "text": [
      "Epoch 9/30: 100%|█████████████████████████████████████████████████████████████████████████████████████████████████████████████████████████████████████| 88/88 [00:48<00:00,  1.83it/s, loss=0.1289, lr=0.000007]\n"
     ]
    },
    {
     "name": "stdout",
     "output_type": "stream",
     "text": [
      "Epoch 9/30:\n",
      "  Training   - Loss: 0.2004, Accuracy: 0.9274, F1: 0.6531\n",
      "  Validation - Loss: 0.4644, Accuracy: 0.8864, F1: 0.3333\n",
      "  Learning Rate: 0.00000700\n",
      "New best model saved with f1: 0.3333\n"
     ]
    },
    {
     "name": "stderr",
     "output_type": "stream",
     "text": [
      "Epoch 10/30: 100%|████████████████████████████████████████████████████████████████████████████████████████████████████████████████████████████████████| 88/88 [00:48<00:00,  1.83it/s, loss=0.1456, lr=0.000007]\n"
     ]
    },
    {
     "name": "stdout",
     "output_type": "stream",
     "text": [
      "Epoch 10/30:\n",
      "  Training   - Loss: 0.1578, Accuracy: 0.9509, F1: 0.7767\n",
      "  Validation - Loss: 0.5773, Accuracy: 0.8835, F1: 0.3051\n",
      "  Learning Rate: 0.00000700\n",
      "No improvement in f1. Patience: 1/500\n"
     ]
    },
    {
     "name": "stderr",
     "output_type": "stream",
     "text": [
      "Epoch 11/30: 100%|████████████████████████████████████████████████████████████████████████████████████████████████████████████████████████████████████| 88/88 [00:47<00:00,  1.85it/s, loss=0.0313, lr=0.000007]\n"
     ]
    },
    {
     "name": "stdout",
     "output_type": "stream",
     "text": [
      "Epoch 11/30:\n",
      "  Training   - Loss: 0.1013, Accuracy: 0.9672, F1: 0.8663\n",
      "  Validation - Loss: 0.6299, Accuracy: 0.8722, F1: 0.2857\n",
      "  Learning Rate: 0.00000700\n",
      "No improvement in f1. Patience: 2/500\n"
     ]
    },
    {
     "name": "stderr",
     "output_type": "stream",
     "text": [
      "Epoch 12/30: 100%|████████████████████████████████████████████████████████████████████████████████████████████████████████████████████████████████████| 88/88 [00:47<00:00,  1.85it/s, loss=0.0039, lr=0.000007]\n"
     ]
    },
    {
     "name": "stdout",
     "output_type": "stream",
     "text": [
      "Epoch 12/30:\n",
      "  Training   - Loss: 0.0554, Accuracy: 0.9850, F1: 0.9405\n",
      "  Validation - Loss: 0.7984, Accuracy: 0.8665, F1: 0.2769\n",
      "  Learning Rate: 0.00000700\n",
      "No improvement in f1. Patience: 3/500\n"
     ]
    },
    {
     "name": "stderr",
     "output_type": "stream",
     "text": [
      "Epoch 13/30: 100%|████████████████████████████████████████████████████████████████████████████████████████████████████████████████████████████████████| 88/88 [00:47<00:00,  1.84it/s, loss=0.0024, lr=0.000007]\n"
     ]
    },
    {
     "name": "stdout",
     "output_type": "stream",
     "text": [
      "Epoch 13/30:\n",
      "  Training   - Loss: 0.0386, Accuracy: 0.9886, F1: 0.9551\n",
      "  Validation - Loss: 0.9521, Accuracy: 0.8778, F1: 0.2951\n",
      "  Learning Rate: 0.00000700\n",
      "No improvement in f1. Patience: 4/500\n"
     ]
    },
    {
     "name": "stderr",
     "output_type": "stream",
     "text": [
      "Epoch 14/30: 100%|████████████████████████████████████████████████████████████████████████████████████████████████████████████████████████████████████| 88/88 [00:47<00:00,  1.84it/s, loss=0.0021, lr=0.000007]\n"
     ]
    },
    {
     "name": "stdout",
     "output_type": "stream",
     "text": [
      "Epoch 14/30:\n",
      "  Training   - Loss: 0.0217, Accuracy: 0.9957, F1: 0.9834\n",
      "  Validation - Loss: 0.9626, Accuracy: 0.8693, F1: 0.3235\n",
      "  Learning Rate: 0.00000700\n",
      "No improvement in f1. Patience: 5/500\n"
     ]
    },
    {
     "name": "stderr",
     "output_type": "stream",
     "text": [
      "Epoch 15/30: 100%|████████████████████████████████████████████████████████████████████████████████████████████████████████████████████████████████████| 88/88 [00:47<00:00,  1.84it/s, loss=0.0076, lr=0.000007]\n"
     ]
    },
    {
     "name": "stdout",
     "output_type": "stream",
     "text": [
      "Epoch 15/30:\n",
      "  Training   - Loss: 0.0151, Accuracy: 0.9957, F1: 0.9837\n",
      "  Validation - Loss: 1.0569, Accuracy: 0.8722, F1: 0.3478\n",
      "  Learning Rate: 0.00000700\n",
      "New best model saved with f1: 0.3478\n"
     ]
    },
    {
     "name": "stderr",
     "output_type": "stream",
     "text": [
      "Epoch 16/30: 100%|████████████████████████████████████████████████████████████████████████████████████████████████████████████████████████████████████| 88/88 [00:47<00:00,  1.85it/s, loss=0.0006, lr=0.000007]\n"
     ]
    },
    {
     "name": "stdout",
     "output_type": "stream",
     "text": [
      "Epoch 16/30:\n",
      "  Training   - Loss: 0.0242, Accuracy: 0.9957, F1: 0.9834\n",
      "  Validation - Loss: 1.1067, Accuracy: 0.8636, F1: 0.3143\n",
      "  Learning Rate: 0.00000700\n",
      "No improvement in f1. Patience: 1/500\n"
     ]
    },
    {
     "name": "stderr",
     "output_type": "stream",
     "text": [
      "Epoch 17/30: 100%|████████████████████████████████████████████████████████████████████████████████████████████████████████████████████████████████████| 88/88 [00:47<00:00,  1.84it/s, loss=0.0025, lr=0.000007]\n"
     ]
    },
    {
     "name": "stdout",
     "output_type": "stream",
     "text": [
      "Epoch 17/30:\n",
      "  Training   - Loss: 0.0065, Accuracy: 0.9986, F1: 0.9946\n",
      "  Validation - Loss: 1.1465, Accuracy: 0.8693, F1: 0.3030\n",
      "  Learning Rate: 0.00000700\n",
      "No improvement in f1. Patience: 2/500\n"
     ]
    },
    {
     "name": "stderr",
     "output_type": "stream",
     "text": [
      "Epoch 18/30: 100%|████████████████████████████████████████████████████████████████████████████████████████████████████████████████████████████████████| 88/88 [00:47<00:00,  1.84it/s, loss=0.0004, lr=0.000007]\n"
     ]
    },
    {
     "name": "stdout",
     "output_type": "stream",
     "text": [
      "Epoch 18/30:\n",
      "  Training   - Loss: 0.0052, Accuracy: 0.9993, F1: 0.9973\n",
      "  Validation - Loss: 1.2107, Accuracy: 0.8750, F1: 0.3125\n",
      "  Learning Rate: 0.00000700\n",
      "No improvement in f1. Patience: 3/500\n"
     ]
    },
    {
     "name": "stderr",
     "output_type": "stream",
     "text": [
      "Epoch 19/30: 100%|████████████████████████████████████████████████████████████████████████████████████████████████████████████████████████████████████| 88/88 [00:47<00:00,  1.84it/s, loss=0.0000, lr=0.000007]\n"
     ]
    },
    {
     "name": "stdout",
     "output_type": "stream",
     "text": [
      "Epoch 19/30:\n",
      "  Training   - Loss: 0.0021, Accuracy: 0.9993, F1: 0.9973\n",
      "  Validation - Loss: 1.2784, Accuracy: 0.8835, F1: 0.3051\n",
      "  Learning Rate: 0.00000700\n",
      "No improvement in f1. Patience: 4/500\n"
     ]
    },
    {
     "name": "stderr",
     "output_type": "stream",
     "text": [
      "Epoch 20/30: 100%|████████████████████████████████████████████████████████████████████████████████████████████████████████████████████████████████████| 88/88 [00:47<00:00,  1.84it/s, loss=0.0001, lr=0.000007]\n"
     ]
    },
    {
     "name": "stdout",
     "output_type": "stream",
     "text": [
      "Epoch 20/30:\n",
      "  Training   - Loss: 0.0122, Accuracy: 0.9972, F1: 0.9890\n",
      "  Validation - Loss: 1.3048, Accuracy: 0.8722, F1: 0.3077\n",
      "  Learning Rate: 0.00000700\n",
      "No improvement in f1. Patience: 5/500\n"
     ]
    },
    {
     "name": "stderr",
     "output_type": "stream",
     "text": [
      "Epoch 21/30: 100%|████████████████████████████████████████████████████████████████████████████████████████████████████████████████████████████████████| 88/88 [00:47<00:00,  1.84it/s, loss=0.0001, lr=0.000007]\n"
     ]
    },
    {
     "name": "stdout",
     "output_type": "stream",
     "text": [
      "Epoch 21/30:\n",
      "  Training   - Loss: 0.0022, Accuracy: 0.9993, F1: 0.9973\n",
      "  Validation - Loss: 1.3341, Accuracy: 0.8665, F1: 0.2985\n",
      "  Learning Rate: 0.00000700\n",
      "No improvement in f1. Patience: 6/500\n"
     ]
    },
    {
     "name": "stderr",
     "output_type": "stream",
     "text": [
      "Epoch 22/30: 100%|████████████████████████████████████████████████████████████████████████████████████████████████████████████████████████████████████| 88/88 [00:47<00:00,  1.84it/s, loss=0.0001, lr=0.000007]\n"
     ]
    },
    {
     "name": "stdout",
     "output_type": "stream",
     "text": [
      "Epoch 22/30:\n",
      "  Training   - Loss: 0.0076, Accuracy: 0.9993, F1: 0.9973\n",
      "  Validation - Loss: 1.3822, Accuracy: 0.8750, F1: 0.2903\n",
      "  Learning Rate: 0.00000700\n",
      "No improvement in f1. Patience: 7/500\n"
     ]
    },
    {
     "name": "stderr",
     "output_type": "stream",
     "text": [
      "Epoch 23/30: 100%|████████████████████████████████████████████████████████████████████████████████████████████████████████████████████████████████████| 88/88 [00:47<00:00,  1.84it/s, loss=0.0001, lr=0.000007]\n"
     ]
    },
    {
     "name": "stdout",
     "output_type": "stream",
     "text": [
      "Epoch 23/30:\n",
      "  Training   - Loss: 0.0031, Accuracy: 0.9993, F1: 0.9973\n",
      "  Validation - Loss: 1.3544, Accuracy: 0.8580, F1: 0.2857\n",
      "  Learning Rate: 0.00000700\n",
      "No improvement in f1. Patience: 8/500\n"
     ]
    },
    {
     "name": "stderr",
     "output_type": "stream",
     "text": [
      "Epoch 24/30: 100%|████████████████████████████████████████████████████████████████████████████████████████████████████████████████████████████████████| 88/88 [00:47<00:00,  1.84it/s, loss=0.0000, lr=0.000007]\n"
     ]
    },
    {
     "name": "stdout",
     "output_type": "stream",
     "text": [
      "Epoch 24/30:\n",
      "  Training   - Loss: 0.0015, Accuracy: 0.9993, F1: 0.9973\n",
      "  Validation - Loss: 1.3793, Accuracy: 0.8835, F1: 0.3051\n",
      "  Learning Rate: 0.00000700\n",
      "No improvement in f1. Patience: 9/500\n"
     ]
    },
    {
     "name": "stderr",
     "output_type": "stream",
     "text": [
      "Epoch 25/30: 100%|████████████████████████████████████████████████████████████████████████████████████████████████████████████████████████████████████| 88/88 [00:47<00:00,  1.84it/s, loss=0.0000, lr=0.000007]\n"
     ]
    },
    {
     "name": "stdout",
     "output_type": "stream",
     "text": [
      "Epoch 25/30:\n",
      "  Training   - Loss: 0.0004, Accuracy: 1.0000, F1: 1.0000\n",
      "  Validation - Loss: 1.3769, Accuracy: 0.8636, F1: 0.2941\n",
      "  Learning Rate: 0.00000700\n",
      "No improvement in f1. Patience: 10/500\n"
     ]
    },
    {
     "name": "stderr",
     "output_type": "stream",
     "text": [
      "Epoch 26/30: 100%|████████████████████████████████████████████████████████████████████████████████████████████████████████████████████████████████████| 88/88 [00:47<00:00,  1.84it/s, loss=0.0001, lr=0.000007]\n"
     ]
    },
    {
     "name": "stdout",
     "output_type": "stream",
     "text": [
      "Epoch 26/30:\n",
      "  Training   - Loss: 0.0002, Accuracy: 1.0000, F1: 1.0000\n",
      "  Validation - Loss: 1.4141, Accuracy: 0.8778, F1: 0.2951\n",
      "  Learning Rate: 0.00000700\n",
      "No improvement in f1. Patience: 11/500\n"
     ]
    },
    {
     "name": "stderr",
     "output_type": "stream",
     "text": [
      "Epoch 27/30: 100%|████████████████████████████████████████████████████████████████████████████████████████████████████████████████████████████████████| 88/88 [00:47<00:00,  1.84it/s, loss=0.0001, lr=0.000007]\n"
     ]
    },
    {
     "name": "stdout",
     "output_type": "stream",
     "text": [
      "Epoch 27/30:\n",
      "  Training   - Loss: 0.0003, Accuracy: 1.0000, F1: 1.0000\n",
      "  Validation - Loss: 1.4261, Accuracy: 0.8750, F1: 0.2903\n",
      "  Learning Rate: 0.00000700\n",
      "No improvement in f1. Patience: 12/500\n"
     ]
    },
    {
     "name": "stderr",
     "output_type": "stream",
     "text": [
      "Epoch 28/30: 100%|████████████████████████████████████████████████████████████████████████████████████████████████████████████████████████████████████| 88/88 [00:47<00:00,  1.84it/s, loss=0.0000, lr=0.000007]\n"
     ]
    },
    {
     "name": "stdout",
     "output_type": "stream",
     "text": [
      "Epoch 28/30:\n",
      "  Training   - Loss: 0.0069, Accuracy: 0.9972, F1: 0.9891\n",
      "  Validation - Loss: 1.4247, Accuracy: 0.8722, F1: 0.3284\n",
      "  Learning Rate: 0.00000700\n",
      "No improvement in f1. Patience: 13/500\n"
     ]
    },
    {
     "name": "stderr",
     "output_type": "stream",
     "text": [
      "Epoch 29/30: 100%|████████████████████████████████████████████████████████████████████████████████████████████████████████████████████████████████████| 88/88 [00:47<00:00,  1.84it/s, loss=0.0001, lr=0.000007]\n"
     ]
    },
    {
     "name": "stdout",
     "output_type": "stream",
     "text": [
      "Epoch 29/30:\n",
      "  Training   - Loss: 0.0004, Accuracy: 1.0000, F1: 1.0000\n",
      "  Validation - Loss: 1.5155, Accuracy: 0.8778, F1: 0.2712\n",
      "  Learning Rate: 0.00000700\n",
      "No improvement in f1. Patience: 14/500\n"
     ]
    },
    {
     "name": "stderr",
     "output_type": "stream",
     "text": [
      "Epoch 30/30: 100%|████████████████████████████████████████████████████████████████████████████████████████████████████████████████████████████████████| 88/88 [00:47<00:00,  1.84it/s, loss=0.0000, lr=0.000007]\n"
     ]
    },
    {
     "name": "stdout",
     "output_type": "stream",
     "text": [
      "Epoch 30/30:\n",
      "  Training   - Loss: 0.0032, Accuracy: 0.9986, F1: 0.9946\n",
      "  Validation - Loss: 1.4932, Accuracy: 0.8750, F1: 0.3125\n",
      "  Learning Rate: 0.00000700\n",
      "No improvement in f1. Patience: 15/500\n",
      "\n",
      "Final model evaluation...\n",
      "\n",
      "TRAINING COMPLETE\n",
      "Best validation loss: 1.0569\n",
      "Best validation accuracy: 0.8722\n",
      "Best validation F1: 0.3478\n",
      "Best f1: 0.3478\n"
     ]
    },
    {
     "data": {
      "text/html": [],
      "text/plain": [
       "<IPython.core.display.HTML object>"
      ]
     },
     "metadata": {},
     "output_type": "display_data"
    },
    {
     "data": {
      "text/html": [
       "<br>    <style><br>        .wandb-row {<br>            display: flex;<br>            flex-direction: row;<br>            flex-wrap: wrap;<br>            justify-content: flex-start;<br>            width: 100%;<br>        }<br>        .wandb-col {<br>            display: flex;<br>            flex-direction: column;<br>            flex-basis: 100%;<br>            flex: 1;<br>            padding: 10px;<br>        }<br>    </style><br><div class=\"wandb-row\"><div class=\"wandb-col\"><h3>Run history:</h3><br/><table class=\"wandb\"><tr><td>best_f1</td><td>▁▆▇██</td></tr><tr><td>best_valid_accuracy</td><td>▂█▅█▁</td></tr><tr><td>best_valid_f1</td><td>▁▆▇██</td></tr><tr><td>best_valid_loss</td><td>▁▁▂▂█</td></tr><tr><td>epoch</td><td>▁▁▁▂▂▂▂▃▃▃▃▄▄▄▄▅▅▅▅▅▆▆▆▆▇▇▇▇███</td></tr><tr><td>epochs_trained</td><td>▁</td></tr><tr><td>final_valid_accuracy</td><td>▁</td></tr><tr><td>final_valid_f1</td><td>▁</td></tr><tr><td>final_valid_loss</td><td>▁</td></tr><tr><td>learning_rate</td><td>▁▁▁▁▁▁▁▁▁▁▁▁▁▁▁▁▁▁▁▁▁▁▁▁▁▁▁▁▁▁</td></tr><tr><td>train_accuracy</td><td>▁▄▄▄▄▄▅▅▆▇▇███████████████████</td></tr><tr><td>train_f1</td><td>▂▁▁▁▂▂▄▄▆▆▇███████████████████</td></tr><tr><td>train_loss</td><td>█▇▆▆▆▅▅▄▄▃▂▂▂▁▁▁▁▁▁▁▁▁▁▁▁▁▁▁▁▁</td></tr><tr><td>valid_accuracy</td><td>▁██████████████████████████████</td></tr><tr><td>valid_f1</td><td>▅▁▁▁▁▃▆▆▇█▇▇▇▇██▇▇▇▇▇▇▇▇▇▇▇▇█▆▇</td></tr><tr><td>valid_loss</td><td>▃▁▁▁▁▁▁▁▁▂▂▃▄▅▅▅▆▆▆▇▇▇▇▇▇▇▇▇▇██</td></tr></table><br/></div><div class=\"wandb-col\"><h3>Run summary:</h3><br/><table class=\"wandb\"><tr><td>best_f1</td><td>0.34783</td></tr><tr><td>best_valid_accuracy</td><td>0.87216</td></tr><tr><td>best_valid_f1</td><td>0.34783</td></tr><tr><td>best_valid_loss</td><td>1.05691</td></tr><tr><td>early_stopped</td><td>False</td></tr><tr><td>epoch</td><td>30</td></tr><tr><td>epochs_trained</td><td>30</td></tr><tr><td>final_valid_accuracy</td><td>0.87216</td></tr><tr><td>final_valid_f1</td><td>0.34783</td></tr><tr><td>final_valid_loss</td><td>1.05691</td></tr><tr><td>learning_rate</td><td>1e-05</td></tr><tr><td>train_accuracy</td><td>0.99858</td></tr><tr><td>train_f1</td><td>0.99457</td></tr><tr><td>train_loss</td><td>0.0032</td></tr><tr><td>training_completed</td><td>True</td></tr><tr><td>valid_accuracy</td><td>0.875</td></tr><tr><td>valid_f1</td><td>0.3125</td></tr><tr><td>valid_loss</td><td>1.49324</td></tr></table><br/></div></div>"
      ],
      "text/plain": [
       "<IPython.core.display.HTML object>"
      ]
     },
     "metadata": {},
     "output_type": "display_data"
    },
    {
     "data": {
      "text/html": [
       " View run <strong style=\"color:#cdcd00\">very_slow_lr_20250813_180851</strong> at: <a href='https://wandb.ai/shubhamjune-vilnius-university/router_rated/runs/xxb1w30u' target=\"_blank\">https://wandb.ai/shubhamjune-vilnius-university/router_rated/runs/xxb1w30u</a><br> View project at: <a href='https://wandb.ai/shubhamjune-vilnius-university/router_rated' target=\"_blank\">https://wandb.ai/shubhamjune-vilnius-university/router_rated</a><br>Synced 5 W&B file(s), 1 media file(s), 2 artifact file(s) and 0 other file(s)"
      ],
      "text/plain": [
       "<IPython.core.display.HTML object>"
      ]
     },
     "metadata": {},
     "output_type": "display_data"
    },
    {
     "data": {
      "text/html": [
       "Find logs at: <code>.\\wandb\\run-20250813_180851-xxb1w30u\\logs</code>"
      ],
      "text/plain": [
       "<IPython.core.display.HTML object>"
      ]
     },
     "metadata": {},
     "output_type": "display_data"
    }
   ],
   "source": [
    "very_slow_lr = train_router_quality_classifier(\n",
    "    # Model configuration\n",
    "    dropout_rate=0.3,\n",
    "    \n",
    "    # Training hyperparameters\n",
    "    learning_rate=0.000007,\n",
    "    n_epochs=30,\n",
    "    weight_decay=0.0001,\n",
    "    \n",
    "    # Learning rate scheduling\n",
    "    enable_lr_annealing=False,\n",
    "    \n",
    "    # Experiment settings\n",
    "    experiment_name=\"very_slow_lr\",\n",
    "    use_wandb=True  # Enable wandb logging\n",
    ")"
   ]
  },
  {
   "cell_type": "code",
   "execution_count": 14,
   "id": "7db327b4-903e-4992-8587-b1c1fd83f72c",
   "metadata": {
    "scrolled": true
   },
   "outputs": [
    {
     "name": "stdout",
     "output_type": "stream",
     "text": [
      "Reproducible environment set with seed: 9999\n"
     ]
    },
    {
     "data": {
      "text/html": [
       "Tracking run with wandb version 0.21.1"
      ],
      "text/plain": [
       "<IPython.core.display.HTML object>"
      ]
     },
     "metadata": {},
     "output_type": "display_data"
    },
    {
     "data": {
      "text/html": [
       "Run data is saved locally in <code>C:\\Users\\sj_x3\\Desktop\\code\\git\\smart_routing\\wandb\\run-20250813_183459-yg6ta9sv</code>"
      ],
      "text/plain": [
       "<IPython.core.display.HTML object>"
      ]
     },
     "metadata": {},
     "output_type": "display_data"
    },
    {
     "data": {
      "text/html": [
       "Syncing run <strong><a href='https://wandb.ai/shubhamjune-vilnius-university/router_rated/runs/yg6ta9sv' target=\"_blank\">very_slow_lr_withA_20250813_183459</a></strong> to <a href='https://wandb.ai/shubhamjune-vilnius-university/router_rated' target=\"_blank\">Weights & Biases</a> (<a href='https://wandb.me/developer-guide' target=\"_blank\">docs</a>)<br>"
      ],
      "text/plain": [
       "<IPython.core.display.HTML object>"
      ]
     },
     "metadata": {},
     "output_type": "display_data"
    },
    {
     "data": {
      "text/html": [
       " View project at <a href='https://wandb.ai/shubhamjune-vilnius-university/router_rated' target=\"_blank\">https://wandb.ai/shubhamjune-vilnius-university/router_rated</a>"
      ],
      "text/plain": [
       "<IPython.core.display.HTML object>"
      ]
     },
     "metadata": {},
     "output_type": "display_data"
    },
    {
     "data": {
      "text/html": [
       " View run at <a href='https://wandb.ai/shubhamjune-vilnius-university/router_rated/runs/yg6ta9sv' target=\"_blank\">https://wandb.ai/shubhamjune-vilnius-university/router_rated/runs/yg6ta9sv</a>"
      ],
      "text/plain": [
       "<IPython.core.display.HTML object>"
      ]
     },
     "metadata": {},
     "output_type": "display_data"
    },
    {
     "name": "stdout",
     "output_type": "stream",
     "text": [
      "\n",
      "Starting training run: very_slow_lr_withA_20250813_183459\n",
      "Using dataset: rated_enhanced_dataset_meta_llama_llama_3.1_8b_instruct_20250811_140130_20250811_151904.jsonl\n",
      "\n",
      "Loading rated dataset...\n",
      "Loaded 1756 items with ratings\n",
      "Dataset after filtering: 1756 items\n",
      "\n",
      "=== DATASET ANALYSIS ===\n",
      "Total samples: 1756\n",
      "Label 0 (Good quality, rating >= 4): 1526 (86.9%)\n",
      "Label 1 (Poor quality, rating < 4): 230 (13.1%)\n",
      "Class balance ratio (0:1): 6.63:1\n",
      "\n",
      "=== RATING DISTRIBUTION ===\n",
      "Rating 1: 37 (2.1%)\n",
      "Rating 2: 107 (6.1%)\n",
      "Rating 3: 86 (4.9%)\n",
      "Rating 4: 329 (18.7%)\n",
      "Rating 5: 1197 (68.2%)\n",
      "========================================\n",
      "\n",
      "Training samples: 1404\n",
      "Validation samples: 352\n",
      "DataLoaders created successfully\n",
      "\n",
      "Initializing model: distilbert-base-uncased\n",
      "All transformer layers will be fine-tuned\n",
      "📱 Model moved to device: cuda\n",
      "\n",
      "=== MODEL PARAMETER ANALYSIS ===\n",
      "Total parameters: 66,576,257\n",
      "Trainable parameters: 66,576,257\n",
      "Frozen parameters: 0\n",
      "Percentage trainable: 100.0%\n",
      "========================================\n",
      "LR Annealing enabled: factor=0.5, patience=5\n",
      "\n",
      "Starting initial validation...\n",
      "Initial - Loss: 0.7383, Accuracy: 0.2358, F1: 0.2018\n",
      "\n",
      "Starting training for 30 epochs...\n"
     ]
    },
    {
     "name": "stderr",
     "output_type": "stream",
     "text": [
      "Epoch 1/30: 100%|█████████████████████████████████████████████████████████████████████████████████████████████████████████████████████████████████████| 88/88 [00:47<00:00,  1.84it/s, loss=0.3130, lr=0.000007]\n"
     ]
    },
    {
     "name": "stdout",
     "output_type": "stream",
     "text": [
      "Epoch 1/30:\n",
      "  Training   - Loss: 0.5000, Accuracy: 0.7678, F1: 0.1641\n",
      "  Validation - Loss: 0.3890, Accuracy: 0.8693, F1: 0.0000\n",
      "  Learning Rate: 0.00000700\n",
      "No improvement in f1. Patience: 1/500\n"
     ]
    },
    {
     "name": "stderr",
     "output_type": "stream",
     "text": [
      "Epoch 2/30: 100%|█████████████████████████████████████████████████████████████████████████████████████████████████████████████████████████████████████| 88/88 [00:47<00:00,  1.84it/s, loss=0.2053, lr=0.000007]\n"
     ]
    },
    {
     "name": "stdout",
     "output_type": "stream",
     "text": [
      "Epoch 2/30:\n",
      "  Training   - Loss: 0.3966, Accuracy: 0.8640, F1: 0.0402\n",
      "  Validation - Loss: 0.3654, Accuracy: 0.8693, F1: 0.0000\n",
      "  Learning Rate: 0.00000700\n",
      "No improvement in f1. Patience: 2/500\n"
     ]
    },
    {
     "name": "stderr",
     "output_type": "stream",
     "text": [
      "Epoch 3/30: 100%|█████████████████████████████████████████████████████████████████████████████████████████████████████████████████████████████████████| 88/88 [00:47<00:00,  1.84it/s, loss=0.5975, lr=0.000007]\n"
     ]
    },
    {
     "name": "stdout",
     "output_type": "stream",
     "text": [
      "Epoch 3/30:\n",
      "  Training   - Loss: 0.3803, Accuracy: 0.8654, F1: 0.0207\n",
      "  Validation - Loss: 0.3712, Accuracy: 0.8693, F1: 0.0000\n",
      "  Learning Rate: 0.00000700\n",
      "No improvement in f1. Patience: 3/500\n"
     ]
    },
    {
     "name": "stderr",
     "output_type": "stream",
     "text": [
      "Epoch 4/30: 100%|█████████████████████████████████████████████████████████████████████████████████████████████████████████████████████████████████████| 88/88 [00:47<00:00,  1.84it/s, loss=0.2433, lr=0.000007]\n"
     ]
    },
    {
     "name": "stdout",
     "output_type": "stream",
     "text": [
      "Epoch 4/30:\n",
      "  Training   - Loss: 0.3557, Accuracy: 0.8725, F1: 0.0725\n",
      "  Validation - Loss: 0.3424, Accuracy: 0.8693, F1: 0.0000\n",
      "  Learning Rate: 0.00000700\n",
      "No improvement in f1. Patience: 4/500\n"
     ]
    },
    {
     "name": "stderr",
     "output_type": "stream",
     "text": [
      "Epoch 5/30: 100%|█████████████████████████████████████████████████████████████████████████████████████████████████████████████████████████████████████| 88/88 [00:47<00:00,  1.84it/s, loss=0.5869, lr=0.000007]\n"
     ]
    },
    {
     "name": "stdout",
     "output_type": "stream",
     "text": [
      "Epoch 5/30:\n",
      "  Training   - Loss: 0.3375, Accuracy: 0.8732, F1: 0.1100\n",
      "  Validation - Loss: 0.3690, Accuracy: 0.8722, F1: 0.0426\n",
      "  Learning Rate: 0.00000700\n",
      "New best model saved with f1: 0.0426\n"
     ]
    },
    {
     "name": "stderr",
     "output_type": "stream",
     "text": [
      "Epoch 6/30: 100%|█████████████████████████████████████████████████████████████████████████████████████████████████████████████████████████████████████| 88/88 [00:47<00:00,  1.84it/s, loss=0.4736, lr=0.000007]\n"
     ]
    },
    {
     "name": "stdout",
     "output_type": "stream",
     "text": [
      "Epoch 6/30:\n",
      "  Training   - Loss: 0.3217, Accuracy: 0.8768, F1: 0.1722\n",
      "  Validation - Loss: 0.3336, Accuracy: 0.8864, F1: 0.2593\n",
      "  Learning Rate: 0.00000700\n",
      "New best model saved with f1: 0.2593\n"
     ]
    },
    {
     "name": "stderr",
     "output_type": "stream",
     "text": [
      "Epoch 7/30: 100%|█████████████████████████████████████████████████████████████████████████████████████████████████████████████████████████████████████| 88/88 [00:47<00:00,  1.84it/s, loss=0.4289, lr=0.000007]\n"
     ]
    },
    {
     "name": "stdout",
     "output_type": "stream",
     "text": [
      "Epoch 7/30:\n",
      "  Training   - Loss: 0.2840, Accuracy: 0.8917, F1: 0.3719\n",
      "  Validation - Loss: 0.3911, Accuracy: 0.8835, F1: 0.2807\n",
      "  Learning Rate: 0.00000700\n",
      "New best model saved with f1: 0.2807\n"
     ]
    },
    {
     "name": "stderr",
     "output_type": "stream",
     "text": [
      "Epoch 8/30: 100%|█████████████████████████████████████████████████████████████████████████████████████████████████████████████████████████████████████| 88/88 [00:47<00:00,  1.84it/s, loss=0.4588, lr=0.000007]\n"
     ]
    },
    {
     "name": "stdout",
     "output_type": "stream",
     "text": [
      "Epoch 8/30:\n",
      "  Training   - Loss: 0.2302, Accuracy: 0.8939, F1: 0.4157\n",
      "  Validation - Loss: 0.4045, Accuracy: 0.8864, F1: 0.3548\n",
      "  Learning Rate: 0.00000700\n",
      "New best model saved with f1: 0.3548\n"
     ]
    },
    {
     "name": "stderr",
     "output_type": "stream",
     "text": [
      "Epoch 9/30: 100%|█████████████████████████████████████████████████████████████████████████████████████████████████████████████████████████████████████| 88/88 [00:47<00:00,  1.84it/s, loss=0.1175, lr=0.000007]\n"
     ]
    },
    {
     "name": "stdout",
     "output_type": "stream",
     "text": [
      "Epoch 9/30:\n",
      "  Training   - Loss: 0.1987, Accuracy: 0.9252, F1: 0.6392\n",
      "  Validation - Loss: 0.4675, Accuracy: 0.8835, F1: 0.3051\n",
      "  Learning Rate: 0.00000700\n",
      "No improvement in f1. Patience: 1/500\n"
     ]
    },
    {
     "name": "stderr",
     "output_type": "stream",
     "text": [
      "Epoch 10/30: 100%|████████████████████████████████████████████████████████████████████████████████████████████████████████████████████████████████████| 88/88 [00:47<00:00,  1.84it/s, loss=0.1107, lr=0.000007]\n"
     ]
    },
    {
     "name": "stdout",
     "output_type": "stream",
     "text": [
      "Epoch 10/30:\n",
      "  Training   - Loss: 0.1603, Accuracy: 0.9494, F1: 0.7746\n",
      "  Validation - Loss: 0.5674, Accuracy: 0.8807, F1: 0.3000\n",
      "  Learning Rate: 0.00000700\n",
      "No improvement in f1. Patience: 2/500\n"
     ]
    },
    {
     "name": "stderr",
     "output_type": "stream",
     "text": [
      "Epoch 11/30: 100%|████████████████████████████████████████████████████████████████████████████████████████████████████████████████████████████████████| 88/88 [00:47<00:00,  1.84it/s, loss=0.0418, lr=0.000007]\n"
     ]
    },
    {
     "name": "stdout",
     "output_type": "stream",
     "text": [
      "Epoch 11/30:\n",
      "  Training   - Loss: 0.1016, Accuracy: 0.9679, F1: 0.8680\n",
      "  Validation - Loss: 0.6451, Accuracy: 0.8722, F1: 0.2857\n",
      "  Learning Rate: 0.00000700\n",
      "No improvement in f1. Patience: 3/500\n"
     ]
    },
    {
     "name": "stderr",
     "output_type": "stream",
     "text": [
      "Epoch 12/30: 100%|████████████████████████████████████████████████████████████████████████████████████████████████████████████████████████████████████| 88/88 [00:47<00:00,  1.84it/s, loss=0.0045, lr=0.000007]\n"
     ]
    },
    {
     "name": "stdout",
     "output_type": "stream",
     "text": [
      "Epoch 12/30:\n",
      "  Training   - Loss: 0.0516, Accuracy: 0.9865, F1: 0.9465\n",
      "  Validation - Loss: 0.7655, Accuracy: 0.8608, F1: 0.2687\n",
      "  Learning Rate: 0.00000700\n",
      "No improvement in f1. Patience: 4/500\n"
     ]
    },
    {
     "name": "stderr",
     "output_type": "stream",
     "text": [
      "Epoch 13/30: 100%|████████████████████████████████████████████████████████████████████████████████████████████████████████████████████████████████████| 88/88 [00:47<00:00,  1.84it/s, loss=0.0030, lr=0.000007]\n"
     ]
    },
    {
     "name": "stdout",
     "output_type": "stream",
     "text": [
      "Epoch 13/30:\n",
      "  Training   - Loss: 0.0402, Accuracy: 0.9900, F1: 0.9609\n",
      "  Validation - Loss: 0.9146, Accuracy: 0.8778, F1: 0.2951\n",
      "  Learning Rate: 0.00000700\n",
      "No improvement in f1. Patience: 5/500\n"
     ]
    },
    {
     "name": "stderr",
     "output_type": "stream",
     "text": [
      "Epoch 14/30: 100%|████████████████████████████████████████████████████████████████████████████████████████████████████████████████████████████████████| 88/88 [00:47<00:00,  1.84it/s, loss=0.0011, lr=0.000007]\n"
     ]
    },
    {
     "name": "stdout",
     "output_type": "stream",
     "text": [
      "Epoch 14/30:\n",
      "  Training   - Loss: 0.0281, Accuracy: 0.9950, F1: 0.9806\n",
      "  Validation - Loss: 0.9227, Accuracy: 0.8750, F1: 0.3125\n",
      "  Learning Rate: 0.00000700\n",
      "No improvement in f1. Patience: 6/500\n"
     ]
    },
    {
     "name": "stderr",
     "output_type": "stream",
     "text": [
      "Epoch 15/30: 100%|████████████████████████████████████████████████████████████████████████████████████████████████████████████████████████████████████| 88/88 [00:47<00:00,  1.84it/s, loss=0.0069, lr=0.000007]\n"
     ]
    },
    {
     "name": "stdout",
     "output_type": "stream",
     "text": [
      "Epoch 15/30:\n",
      "  Training   - Loss: 0.0185, Accuracy: 0.9964, F1: 0.9863\n",
      "  Validation - Loss: 1.0341, Accuracy: 0.8636, F1: 0.3143\n",
      "  Learning Rate: 0.00000700\n",
      "No improvement in f1. Patience: 7/500\n"
     ]
    },
    {
     "name": "stderr",
     "output_type": "stream",
     "text": [
      "Epoch 16/30: 100%|████████████████████████████████████████████████████████████████████████████████████████████████████████████████████████████████████| 88/88 [00:47<00:00,  1.84it/s, loss=0.0008, lr=0.000007]\n"
     ]
    },
    {
     "name": "stdout",
     "output_type": "stream",
     "text": [
      "Epoch 16/30:\n",
      "  Training   - Loss: 0.0241, Accuracy: 0.9943, F1: 0.9779\n",
      "  Validation - Loss: 1.0913, Accuracy: 0.8722, F1: 0.2857\n",
      "  Learning Rate: 0.00000700\n",
      "No improvement in f1. Patience: 8/500\n"
     ]
    },
    {
     "name": "stderr",
     "output_type": "stream",
     "text": [
      "Epoch 17/30: 100%|████████████████████████████████████████████████████████████████████████████████████████████████████████████████████████████████████| 88/88 [00:47<00:00,  1.84it/s, loss=0.0024, lr=0.000007]\n"
     ]
    },
    {
     "name": "stdout",
     "output_type": "stream",
     "text": [
      "Epoch 17/30:\n",
      "  Training   - Loss: 0.0110, Accuracy: 0.9979, F1: 0.9918\n",
      "  Validation - Loss: 1.1530, Accuracy: 0.8636, F1: 0.2727\n",
      "  Learning Rate: 0.00000700\n",
      "No improvement in f1. Patience: 9/500\n"
     ]
    },
    {
     "name": "stderr",
     "output_type": "stream",
     "text": [
      "Epoch 18/30: 100%|████████████████████████████████████████████████████████████████████████████████████████████████████████████████████████████████████| 88/88 [00:47<00:00,  1.84it/s, loss=0.0004, lr=0.000007]\n"
     ]
    },
    {
     "name": "stdout",
     "output_type": "stream",
     "text": [
      "Epoch 18/30:\n",
      "  Training   - Loss: 0.0031, Accuracy: 0.9993, F1: 0.9973\n",
      "  Validation - Loss: 1.2075, Accuracy: 0.8636, F1: 0.2727\n",
      "  Learning Rate: 0.00000700\n",
      "No improvement in f1. Patience: 10/500\n"
     ]
    },
    {
     "name": "stderr",
     "output_type": "stream",
     "text": [
      "Epoch 19/30: 100%|████████████████████████████████████████████████████████████████████████████████████████████████████████████████████████████████████| 88/88 [00:47<00:00,  1.84it/s, loss=0.0000, lr=0.000007]\n"
     ]
    },
    {
     "name": "stdout",
     "output_type": "stream",
     "text": [
      "Epoch 19/30:\n",
      "  Training   - Loss: 0.0029, Accuracy: 0.9986, F1: 0.9945\n",
      "  Validation - Loss: 1.2469, Accuracy: 0.8750, F1: 0.2903\n",
      "  Learning Rate: 0.00000700\n",
      "No improvement in f1. Patience: 11/500\n"
     ]
    },
    {
     "name": "stderr",
     "output_type": "stream",
     "text": [
      "Epoch 20/30: 100%|████████████████████████████████████████████████████████████████████████████████████████████████████████████████████████████████████| 88/88 [00:47<00:00,  1.84it/s, loss=0.0001, lr=0.000007]\n"
     ]
    },
    {
     "name": "stdout",
     "output_type": "stream",
     "text": [
      "Epoch 20/30:\n",
      "  Training   - Loss: 0.0051, Accuracy: 0.9986, F1: 0.9945\n",
      "  Validation - Loss: 1.2921, Accuracy: 0.8608, F1: 0.2687\n",
      "  Learning Rate: 0.00000700\n",
      "No improvement in f1. Patience: 12/500\n"
     ]
    },
    {
     "name": "stderr",
     "output_type": "stream",
     "text": [
      "Epoch 21/30: 100%|████████████████████████████████████████████████████████████████████████████████████████████████████████████████████████████████████| 88/88 [00:47<00:00,  1.84it/s, loss=0.0000, lr=0.000007]\n"
     ]
    },
    {
     "name": "stdout",
     "output_type": "stream",
     "text": [
      "Epoch 21/30:\n",
      "  Training   - Loss: 0.0027, Accuracy: 0.9993, F1: 0.9973\n",
      "  Validation - Loss: 1.3241, Accuracy: 0.8750, F1: 0.2903\n",
      "  Learning Rate: 0.00000700\n",
      "No improvement in f1. Patience: 13/500\n"
     ]
    },
    {
     "name": "stderr",
     "output_type": "stream",
     "text": [
      "Epoch 22/30: 100%|████████████████████████████████████████████████████████████████████████████████████████████████████████████████████████████████████| 88/88 [00:47<00:00,  1.84it/s, loss=0.0001, lr=0.000007]\n"
     ]
    },
    {
     "name": "stdout",
     "output_type": "stream",
     "text": [
      "Epoch 22/30:\n",
      "  Training   - Loss: 0.0076, Accuracy: 0.9986, F1: 0.9946\n",
      "  Validation - Loss: 1.3283, Accuracy: 0.8778, F1: 0.2951\n",
      "  Learning Rate: 0.00000700\n",
      "No improvement in f1. Patience: 14/500\n"
     ]
    },
    {
     "name": "stderr",
     "output_type": "stream",
     "text": [
      "Epoch 23/30: 100%|████████████████████████████████████████████████████████████████████████████████████████████████████████████████████████████████████| 88/88 [00:47<00:00,  1.84it/s, loss=0.0001, lr=0.000007]\n"
     ]
    },
    {
     "name": "stdout",
     "output_type": "stream",
     "text": [
      "Epoch 23/30:\n",
      "  Training   - Loss: 0.0037, Accuracy: 0.9993, F1: 0.9973\n",
      "  Validation - Loss: 1.3322, Accuracy: 0.8693, F1: 0.3030\n",
      "  Learning Rate: 0.00000700\n",
      "No improvement in f1. Patience: 15/500\n"
     ]
    },
    {
     "name": "stderr",
     "output_type": "stream",
     "text": [
      "Epoch 24/30: 100%|████████████████████████████████████████████████████████████████████████████████████████████████████████████████████████████████████| 88/88 [00:47<00:00,  1.84it/s, loss=0.0000, lr=0.000007]\n"
     ]
    },
    {
     "name": "stdout",
     "output_type": "stream",
     "text": [
      "Epoch 24/30:\n",
      "  Training   - Loss: 0.0022, Accuracy: 0.9993, F1: 0.9973\n",
      "  Validation - Loss: 1.3623, Accuracy: 0.8750, F1: 0.2903\n",
      "  Learning Rate: 0.00000700\n",
      "No improvement in f1. Patience: 16/500\n"
     ]
    },
    {
     "name": "stderr",
     "output_type": "stream",
     "text": [
      "Epoch 25/30: 100%|████████████████████████████████████████████████████████████████████████████████████████████████████████████████████████████████████| 88/88 [00:47<00:00,  1.84it/s, loss=0.0000, lr=0.000007]\n"
     ]
    },
    {
     "name": "stdout",
     "output_type": "stream",
     "text": [
      "Epoch 25/30:\n",
      "  Training   - Loss: 0.0004, Accuracy: 1.0000, F1: 1.0000\n",
      "  Validation - Loss: 1.3259, Accuracy: 0.8693, F1: 0.3030\n",
      "  Learning Rate: 0.00000700\n",
      "No improvement in f1. Patience: 17/500\n"
     ]
    },
    {
     "name": "stderr",
     "output_type": "stream",
     "text": [
      "Epoch 26/30: 100%|████████████████████████████████████████████████████████████████████████████████████████████████████████████████████████████████████| 88/88 [00:47<00:00,  1.84it/s, loss=0.0002, lr=0.000007]\n"
     ]
    },
    {
     "name": "stdout",
     "output_type": "stream",
     "text": [
      "Epoch 26/30:\n",
      "  Training   - Loss: 0.0003, Accuracy: 1.0000, F1: 1.0000\n",
      "  Validation - Loss: 1.4059, Accuracy: 0.8722, F1: 0.2857\n",
      "  Learning Rate: 0.00000700\n",
      "No improvement in f1. Patience: 18/500\n"
     ]
    },
    {
     "name": "stderr",
     "output_type": "stream",
     "text": [
      "Epoch 27/30: 100%|████████████████████████████████████████████████████████████████████████████████████████████████████████████████████████████████████| 88/88 [00:47<00:00,  1.84it/s, loss=0.0000, lr=0.000007]\n"
     ]
    },
    {
     "name": "stdout",
     "output_type": "stream",
     "text": [
      "Epoch 27/30:\n",
      "  Training   - Loss: 0.0003, Accuracy: 1.0000, F1: 1.0000\n",
      "  Validation - Loss: 1.3957, Accuracy: 0.8778, F1: 0.2951\n",
      "  Learning Rate: 0.00000700\n",
      "No improvement in f1. Patience: 19/500\n"
     ]
    },
    {
     "name": "stderr",
     "output_type": "stream",
     "text": [
      "Epoch 28/30: 100%|████████████████████████████████████████████████████████████████████████████████████████████████████████████████████████████████████| 88/88 [00:47<00:00,  1.84it/s, loss=0.0000, lr=0.000007]\n"
     ]
    },
    {
     "name": "stdout",
     "output_type": "stream",
     "text": [
      "Epoch 28/30:\n",
      "  Training   - Loss: 0.0033, Accuracy: 0.9993, F1: 0.9973\n",
      "  Validation - Loss: 1.4000, Accuracy: 0.8778, F1: 0.3385\n",
      "  Learning Rate: 0.00000700\n",
      "No improvement in f1. Patience: 20/500\n"
     ]
    },
    {
     "name": "stderr",
     "output_type": "stream",
     "text": [
      "Epoch 29/30: 100%|████████████████████████████████████████████████████████████████████████████████████████████████████████████████████████████████████| 88/88 [00:47<00:00,  1.84it/s, loss=0.0001, lr=0.000007]\n"
     ]
    },
    {
     "name": "stdout",
     "output_type": "stream",
     "text": [
      "Epoch 29/30:\n",
      "  Training   - Loss: 0.0007, Accuracy: 1.0000, F1: 1.0000\n",
      "  Validation - Loss: 1.4321, Accuracy: 0.8722, F1: 0.3284\n",
      "  Learning Rate: 0.00000700\n",
      "No improvement in f1. Patience: 21/500\n"
     ]
    },
    {
     "name": "stderr",
     "output_type": "stream",
     "text": [
      "Epoch 30/30: 100%|████████████████████████████████████████████████████████████████████████████████████████████████████████████████████████████████████| 88/88 [00:47<00:00,  1.84it/s, loss=0.0000, lr=0.000007]\n"
     ]
    },
    {
     "name": "stdout",
     "output_type": "stream",
     "text": [
      "Epoch 30/30:\n",
      "  Training   - Loss: 0.0057, Accuracy: 0.9993, F1: 0.9973\n",
      "  Validation - Loss: 1.4559, Accuracy: 0.8807, F1: 0.3438\n",
      "  Learning Rate: 0.00000700\n",
      "No improvement in f1. Patience: 22/500\n",
      "\n",
      "Final model evaluation...\n",
      "\n",
      "TRAINING COMPLETE\n",
      "Best validation loss: 0.4045\n",
      "Best validation accuracy: 0.8864\n",
      "Best validation F1: 0.3548\n",
      "Best f1: 0.3548\n"
     ]
    },
    {
     "data": {
      "text/html": [],
      "text/plain": [
       "<IPython.core.display.HTML object>"
      ]
     },
     "metadata": {},
     "output_type": "display_data"
    },
    {
     "data": {
      "text/html": [
       "<br>    <style><br>        .wandb-row {<br>            display: flex;<br>            flex-direction: row;<br>            flex-wrap: wrap;<br>            justify-content: flex-start;<br>            width: 100%;<br>        }<br>        .wandb-col {<br>            display: flex;<br>            flex-direction: column;<br>            flex-basis: 100%;<br>            flex: 1;<br>            padding: 10px;<br>        }<br>    </style><br><div class=\"wandb-row\"><div class=\"wandb-col\"><h3>Run history:</h3><br/><table class=\"wandb\"><tr><td>best_f1</td><td>▁▆▆█</td></tr><tr><td>best_valid_accuracy</td><td>▁█▇█</td></tr><tr><td>best_valid_f1</td><td>▁▆▆█</td></tr><tr><td>best_valid_loss</td><td>▄▁▇█</td></tr><tr><td>epoch</td><td>▁▁▁▂▂▂▂▃▃▃▃▄▄▄▄▅▅▅▅▅▆▆▆▆▇▇▇▇███</td></tr><tr><td>epochs_trained</td><td>▁</td></tr><tr><td>final_valid_accuracy</td><td>▁</td></tr><tr><td>final_valid_f1</td><td>▁</td></tr><tr><td>final_valid_loss</td><td>▁</td></tr><tr><td>learning_rate</td><td>▁▁▁▁▁▁▁▁▁▁▁▁▁▁▁▁▁▁▁▁▁▁▁▁▁▁▁▁▁▁</td></tr><tr><td>train_accuracy</td><td>▁▄▄▄▄▄▅▅▆▆▇███████████████████</td></tr><tr><td>train_f1</td><td>▂▁▁▁▂▂▄▄▅▆▇███████████████████</td></tr><tr><td>train_loss</td><td>█▇▆▆▆▆▅▄▄▃▂▂▂▁▁▁▁▁▁▁▁▁▁▁▁▁▁▁▁▁</td></tr><tr><td>valid_accuracy</td><td>▁██████████████████████████████</td></tr><tr><td>valid_f1</td><td>▅▁▁▁▁▂▆▇█▇▇▇▆▇▇▇▇▆▆▇▆▇▇▇▇▇▇▇█▇█</td></tr><tr><td>valid_loss</td><td>▄▁▁▁▁▁▁▁▁▂▂▃▄▅▅▅▆▆▆▇▇▇▇▇▇▇█████</td></tr></table><br/></div><div class=\"wandb-col\"><h3>Run summary:</h3><br/><table class=\"wandb\"><tr><td>best_f1</td><td>0.35484</td></tr><tr><td>best_valid_accuracy</td><td>0.88636</td></tr><tr><td>best_valid_f1</td><td>0.35484</td></tr><tr><td>best_valid_loss</td><td>0.40445</td></tr><tr><td>early_stopped</td><td>False</td></tr><tr><td>epoch</td><td>30</td></tr><tr><td>epochs_trained</td><td>30</td></tr><tr><td>final_valid_accuracy</td><td>0.88636</td></tr><tr><td>final_valid_f1</td><td>0.35484</td></tr><tr><td>final_valid_loss</td><td>0.40445</td></tr><tr><td>learning_rate</td><td>1e-05</td></tr><tr><td>train_accuracy</td><td>0.99929</td></tr><tr><td>train_f1</td><td>0.99729</td></tr><tr><td>train_loss</td><td>0.00572</td></tr><tr><td>training_completed</td><td>True</td></tr><tr><td>valid_accuracy</td><td>0.88068</td></tr><tr><td>valid_f1</td><td>0.34375</td></tr><tr><td>valid_loss</td><td>1.45587</td></tr></table><br/></div></div>"
      ],
      "text/plain": [
       "<IPython.core.display.HTML object>"
      ]
     },
     "metadata": {},
     "output_type": "display_data"
    },
    {
     "data": {
      "text/html": [
       " View run <strong style=\"color:#cdcd00\">very_slow_lr_withA_20250813_183459</strong> at: <a href='https://wandb.ai/shubhamjune-vilnius-university/router_rated/runs/yg6ta9sv' target=\"_blank\">https://wandb.ai/shubhamjune-vilnius-university/router_rated/runs/yg6ta9sv</a><br> View project at: <a href='https://wandb.ai/shubhamjune-vilnius-university/router_rated' target=\"_blank\">https://wandb.ai/shubhamjune-vilnius-university/router_rated</a><br>Synced 5 W&B file(s), 1 media file(s), 2 artifact file(s) and 0 other file(s)"
      ],
      "text/plain": [
       "<IPython.core.display.HTML object>"
      ]
     },
     "metadata": {},
     "output_type": "display_data"
    },
    {
     "data": {
      "text/html": [
       "Find logs at: <code>.\\wandb\\run-20250813_183459-yg6ta9sv\\logs</code>"
      ],
      "text/plain": [
       "<IPython.core.display.HTML object>"
      ]
     },
     "metadata": {},
     "output_type": "display_data"
    }
   ],
   "source": [
    "very_slow_lr_withA = train_router_quality_classifier(\n",
    "    # Model configuration\n",
    "    dropout_rate=0.3,\n",
    "    \n",
    "    # Training hyperparameters\n",
    "    learning_rate=0.000007,\n",
    "    n_epochs=30,\n",
    "    weight_decay=0.0001,\n",
    "    \n",
    "    # Learning rate scheduling\n",
    "    enable_lr_annealing=True,\n",
    "    \n",
    "    # Experiment settings\n",
    "    experiment_name=\"very_slow_lr_withA\",\n",
    "    use_wandb=True  # Enable wandb logging\n",
    ")"
   ]
  },
  {
   "cell_type": "markdown",
   "id": "7d590aba",
   "metadata": {},
   "source": [
    "### Hyperparameter Comparison"
   ]
  },
  {
   "cell_type": "code",
   "execution_count": 10,
   "id": "2823b1c3",
   "metadata": {
    "scrolled": true
   },
   "outputs": [
    {
     "name": "stdout",
     "output_type": "stream",
     "text": [
      "\n",
      "Testing configuration: low_dropout\n",
      "Reproducible environment set with seed: 9999\n"
     ]
    },
    {
     "data": {
      "text/html": [
       "Tracking run with wandb version 0.21.1"
      ],
      "text/plain": [
       "<IPython.core.display.HTML object>"
      ]
     },
     "metadata": {},
     "output_type": "display_data"
    },
    {
     "data": {
      "text/html": [
       "Run data is saved locally in <code>c:\\Users\\sj_x3\\Desktop\\code\\git\\smart_routing\\wandb\\run-20250813_015447-gch5ezje</code>"
      ],
      "text/plain": [
       "<IPython.core.display.HTML object>"
      ]
     },
     "metadata": {},
     "output_type": "display_data"
    },
    {
     "data": {
      "text/html": [
       "Syncing run <strong><a href='https://wandb.ai/shubhamjune-vilnius-university/router_rated/runs/gch5ezje' target=\"_blank\">comparison_low_dropout_20250813_015447</a></strong> to <a href='https://wandb.ai/shubhamjune-vilnius-university/router_rated' target=\"_blank\">Weights & Biases</a> (<a href='https://wandb.me/developer-guide' target=\"_blank\">docs</a>)<br>"
      ],
      "text/plain": [
       "<IPython.core.display.HTML object>"
      ]
     },
     "metadata": {},
     "output_type": "display_data"
    },
    {
     "data": {
      "text/html": [
       " View project at <a href='https://wandb.ai/shubhamjune-vilnius-university/router_rated' target=\"_blank\">https://wandb.ai/shubhamjune-vilnius-university/router_rated</a>"
      ],
      "text/plain": [
       "<IPython.core.display.HTML object>"
      ]
     },
     "metadata": {},
     "output_type": "display_data"
    },
    {
     "data": {
      "text/html": [
       " View run at <a href='https://wandb.ai/shubhamjune-vilnius-university/router_rated/runs/gch5ezje' target=\"_blank\">https://wandb.ai/shubhamjune-vilnius-university/router_rated/runs/gch5ezje</a>"
      ],
      "text/plain": [
       "<IPython.core.display.HTML object>"
      ]
     },
     "metadata": {},
     "output_type": "display_data"
    },
    {
     "name": "stdout",
     "output_type": "stream",
     "text": [
      "\n",
      "Starting training run: comparison_low_dropout_20250813_015447\n",
      "Using dataset: rated_enhanced_dataset_meta_llama_llama_3.1_8b_instruct_20250811_140130_20250811_151904.jsonl\n",
      "\n",
      "Loading rated dataset...\n",
      "Loaded 1756 items with ratings\n",
      "Dataset after filtering: 1756 items\n",
      "\n",
      "=== DATASET ANALYSIS ===\n",
      "Total samples: 1756\n",
      "Label 0 (Good quality, rating >= 4): 1526 (86.9%)\n",
      "Label 1 (Poor quality, rating < 4): 230 (13.1%)\n",
      "Class balance ratio (0:1): 6.63:1\n",
      "\n",
      "=== RATING DISTRIBUTION ===\n",
      "Rating 1: 37 (2.1%)\n",
      "Rating 2: 107 (6.1%)\n",
      "Rating 3: 86 (4.9%)\n",
      "Rating 4: 329 (18.7%)\n",
      "Rating 5: 1197 (68.2%)\n",
      "========================================\n",
      "\n",
      "Training samples: 1404\n",
      "Validation samples: 352\n",
      "DataLoaders created successfully\n",
      "\n",
      "Initializing model: distilbert-base-uncased\n",
      "All transformer layers will be fine-tuned\n",
      "📱 Model moved to device: cuda\n",
      "\n",
      "=== MODEL PARAMETER ANALYSIS ===\n",
      "Total parameters: 66,576,257\n",
      "Trainable parameters: 66,576,257\n",
      "Frozen parameters: 0\n",
      "Percentage trainable: 100.0%\n",
      "========================================\n",
      "LR Annealing enabled: factor=0.5, patience=5\n",
      "\n",
      "Starting initial validation...\n",
      "All transformer layers will be fine-tuned\n",
      "📱 Model moved to device: cuda\n",
      "\n",
      "=== MODEL PARAMETER ANALYSIS ===\n",
      "Total parameters: 66,576,257\n",
      "Trainable parameters: 66,576,257\n",
      "Frozen parameters: 0\n",
      "Percentage trainable: 100.0%\n",
      "========================================\n",
      "LR Annealing enabled: factor=0.5, patience=5\n",
      "\n",
      "Starting initial validation...\n",
      "Initial - Loss: 0.7383, Accuracy: 0.2358, F1: 0.2018\n",
      "\n",
      "Starting training for 30 epochs...\n",
      "Initial - Loss: 0.7383, Accuracy: 0.2358, F1: 0.2018\n",
      "\n",
      "Starting training for 30 epochs...\n"
     ]
    },
    {
     "name": "stderr",
     "output_type": "stream",
     "text": [
      "Epoch 1/30: 100%|██████████| 88/88 [00:47<00:00,  1.85it/s, loss=0.3028, lr=0.000100]\n",
      "\n"
     ]
    },
    {
     "name": "stdout",
     "output_type": "stream",
     "text": [
      "Epoch 1/30:\n",
      "  Training   - Loss: 0.4040, Accuracy: 0.8583, F1: 0.0569\n",
      "  Validation - Loss: 0.3556, Accuracy: 0.8693, F1: 0.0000\n",
      "  Learning Rate: 0.00010000\n",
      "No improvement in f1. Patience: 1/500\n"
     ]
    },
    {
     "name": "stderr",
     "output_type": "stream",
     "text": [
      "Epoch 2/30: 100%|██████████| 88/88 [00:47<00:00,  1.84it/s, loss=0.0791, lr=0.000100]\n",
      "\n"
     ]
    },
    {
     "name": "stdout",
     "output_type": "stream",
     "text": [
      "Epoch 2/30:\n",
      "  Training   - Loss: 0.3604, Accuracy: 0.8796, F1: 0.2283\n",
      "  Validation - Loss: 0.3600, Accuracy: 0.8778, F1: 0.1569\n",
      "  Learning Rate: 0.00010000\n",
      "New best model saved with f1: 0.1569\n",
      "New best model saved with f1: 0.1569\n"
     ]
    },
    {
     "name": "stderr",
     "output_type": "stream",
     "text": [
      "Epoch 3/30: 100%|██████████| 88/88 [00:49<00:00,  1.79it/s, loss=0.7775, lr=0.000100]\n",
      "\n"
     ]
    },
    {
     "name": "stdout",
     "output_type": "stream",
     "text": [
      "Epoch 3/30:\n",
      "  Training   - Loss: 0.3220, Accuracy: 0.8960, F1: 0.4632\n",
      "  Validation - Loss: 0.3815, Accuracy: 0.8778, F1: 0.2951\n",
      "  Learning Rate: 0.00010000\n",
      "New best model saved with f1: 0.2951\n",
      "New best model saved with f1: 0.2951\n"
     ]
    },
    {
     "name": "stderr",
     "output_type": "stream",
     "text": [
      "Epoch 4/30: 100%|██████████| 88/88 [00:47<00:00,  1.86it/s, loss=0.0164, lr=0.000100]\n",
      "\n"
     ]
    },
    {
     "name": "stdout",
     "output_type": "stream",
     "text": [
      "Epoch 4/30:\n",
      "  Training   - Loss: 0.2222, Accuracy: 0.9366, F1: 0.7157\n",
      "  Validation - Loss: 0.4694, Accuracy: 0.8778, F1: 0.3385\n",
      "  Learning Rate: 0.00010000\n",
      "New best model saved with f1: 0.3385\n",
      "New best model saved with f1: 0.3385\n"
     ]
    },
    {
     "name": "stderr",
     "output_type": "stream",
     "text": [
      "Epoch 5/30: 100%|██████████| 88/88 [00:47<00:00,  1.86it/s, loss=0.0325, lr=0.000100]\n",
      "\n"
     ]
    },
    {
     "name": "stdout",
     "output_type": "stream",
     "text": [
      "Epoch 5/30:\n",
      "  Training   - Loss: 0.1361, Accuracy: 0.9608, F1: 0.8358\n",
      "  Validation - Loss: 0.7425, Accuracy: 0.8097, F1: 0.3619\n",
      "  Learning Rate: 0.00010000\n",
      "New best model saved with f1: 0.3619\n",
      "New best model saved with f1: 0.3619\n"
     ]
    },
    {
     "name": "stderr",
     "output_type": "stream",
     "text": [
      "Epoch 6/30: 100%|██████████| 88/88 [00:47<00:00,  1.84it/s, loss=0.0007, lr=0.000100]\n",
      "\n"
     ]
    },
    {
     "name": "stdout",
     "output_type": "stream",
     "text": [
      "Epoch 6/30:\n",
      "  Training   - Loss: 0.0583, Accuracy: 0.9900, F1: 0.9609\n",
      "  Validation - Loss: 0.8418, Accuracy: 0.8636, F1: 0.3684\n",
      "  Learning Rate: 0.00010000\n",
      "New best model saved with f1: 0.3684\n",
      "New best model saved with f1: 0.3684\n"
     ]
    },
    {
     "name": "stderr",
     "output_type": "stream",
     "text": [
      "Epoch 7/30: 100%|██████████| 88/88 [00:48<00:00,  1.83it/s, loss=0.5804, lr=0.000100]\n",
      "\n"
     ]
    },
    {
     "name": "stdout",
     "output_type": "stream",
     "text": [
      "Epoch 7/30:\n",
      "  Training   - Loss: 0.0356, Accuracy: 0.9936, F1: 0.9752\n",
      "  Validation - Loss: 0.9089, Accuracy: 0.8608, F1: 0.4096\n",
      "  Learning Rate: 0.00010000\n",
      "New best model saved with f1: 0.4096\n",
      "New best model saved with f1: 0.4096\n"
     ]
    },
    {
     "name": "stderr",
     "output_type": "stream",
     "text": [
      "Epoch 8/30: 100%|██████████| 88/88 [00:50<00:00,  1.75it/s, loss=0.0113, lr=0.000100]\n",
      "\n"
     ]
    },
    {
     "name": "stdout",
     "output_type": "stream",
     "text": [
      "Epoch 8/30:\n",
      "  Training   - Loss: 0.0415, Accuracy: 0.9907, F1: 0.9642\n",
      "  Validation - Loss: 0.9906, Accuracy: 0.8267, F1: 0.3711\n",
      "  Learning Rate: 0.00010000\n",
      "No improvement in f1. Patience: 1/500\n"
     ]
    },
    {
     "name": "stderr",
     "output_type": "stream",
     "text": [
      "Epoch 9/30: 100%|██████████| 88/88 [00:49<00:00,  1.79it/s, loss=0.0003, lr=0.000100]\n",
      "\n"
     ]
    },
    {
     "name": "stdout",
     "output_type": "stream",
     "text": [
      "Epoch 9/30:\n",
      "  Training   - Loss: 0.0145, Accuracy: 0.9972, F1: 0.9891\n",
      "  Validation - Loss: 0.9749, Accuracy: 0.8750, F1: 0.3714\n",
      "  Learning Rate: 0.00010000\n",
      "No improvement in f1. Patience: 2/500\n"
     ]
    },
    {
     "name": "stderr",
     "output_type": "stream",
     "text": [
      "Epoch 10/30: 100%|██████████| 88/88 [00:49<00:00,  1.79it/s, loss=0.0006, lr=0.000100]\n",
      "\n"
     ]
    },
    {
     "name": "stdout",
     "output_type": "stream",
     "text": [
      "Epoch 10/30:\n",
      "  Training   - Loss: 0.0267, Accuracy: 0.9957, F1: 0.9835\n",
      "  Validation - Loss: 0.8646, Accuracy: 0.8636, F1: 0.3684\n",
      "  Learning Rate: 0.00010000\n",
      "No improvement in f1. Patience: 3/500\n"
     ]
    },
    {
     "name": "stderr",
     "output_type": "stream",
     "text": [
      "Epoch 11/30: 100%|██████████| 88/88 [00:48<00:00,  1.83it/s, loss=0.0003, lr=0.000100]\n",
      "\n"
     ]
    },
    {
     "name": "stdout",
     "output_type": "stream",
     "text": [
      "Epoch 11/30:\n",
      "  Training   - Loss: 0.0233, Accuracy: 0.9943, F1: 0.9783\n",
      "  Validation - Loss: 1.0654, Accuracy: 0.8636, F1: 0.4000\n",
      "  Learning Rate: 0.00010000\n",
      "No improvement in f1. Patience: 4/500\n"
     ]
    },
    {
     "name": "stderr",
     "output_type": "stream",
     "text": [
      "Epoch 12/30: 100%|██████████| 88/88 [00:49<00:00,  1.80it/s, loss=0.0001, lr=0.000100]\n",
      "\n"
     ]
    },
    {
     "name": "stdout",
     "output_type": "stream",
     "text": [
      "Epoch 12/30:\n",
      "  Training   - Loss: 0.0056, Accuracy: 0.9972, F1: 0.9891\n",
      "  Validation - Loss: 1.1748, Accuracy: 0.8750, F1: 0.3125\n",
      "  Learning Rate: 0.00010000\n",
      "No improvement in f1. Patience: 5/500\n"
     ]
    },
    {
     "name": "stderr",
     "output_type": "stream",
     "text": [
      "Epoch 13/30: 100%|██████████| 88/88 [00:49<00:00,  1.77it/s, loss=0.0007, lr=0.000100]\n",
      "\n"
     ]
    },
    {
     "name": "stdout",
     "output_type": "stream",
     "text": [
      "Epoch 13/30:\n",
      "  Training   - Loss: 0.0106, Accuracy: 0.9986, F1: 0.9946\n",
      "  Validation - Loss: 1.2468, Accuracy: 0.8778, F1: 0.2182\n",
      "  Learning Rate: 0.00010000\n",
      "No improvement in f1. Patience: 6/500\n"
     ]
    },
    {
     "name": "stderr",
     "output_type": "stream",
     "text": [
      "Epoch 14/30: 100%|██████████| 88/88 [00:48<00:00,  1.82it/s, loss=0.0003, lr=0.000100]\n",
      "\n"
     ]
    },
    {
     "name": "stdout",
     "output_type": "stream",
     "text": [
      "Epoch 14/30:\n",
      "  Training   - Loss: 0.0164, Accuracy: 0.9972, F1: 0.9892\n",
      "  Validation - Loss: 1.1727, Accuracy: 0.8750, F1: 0.3125\n",
      "  Learning Rate: 0.00010000\n",
      "No improvement in f1. Patience: 7/500\n"
     ]
    },
    {
     "name": "stderr",
     "output_type": "stream",
     "text": [
      "Epoch 15/30: 100%|██████████| 88/88 [00:48<00:00,  1.82it/s, loss=0.0000, lr=0.000100]\n",
      "\n"
     ]
    },
    {
     "name": "stdout",
     "output_type": "stream",
     "text": [
      "Epoch 15/30:\n",
      "  Training   - Loss: 0.0002, Accuracy: 1.0000, F1: 1.0000\n",
      "  Validation - Loss: 1.2682, Accuracy: 0.8580, F1: 0.3243\n",
      "  Learning Rate: 0.00010000\n",
      "No improvement in f1. Patience: 8/500\n"
     ]
    },
    {
     "name": "stderr",
     "output_type": "stream",
     "text": [
      "Epoch 16/30: 100%|██████████| 88/88 [00:48<00:00,  1.82it/s, loss=0.0001, lr=0.000100]\n",
      "\n"
     ]
    },
    {
     "name": "stdout",
     "output_type": "stream",
     "text": [
      "Epoch 16/30:\n",
      "  Training   - Loss: 0.0001, Accuracy: 1.0000, F1: 1.0000\n",
      "  Validation - Loss: 1.3486, Accuracy: 0.8608, F1: 0.3288\n",
      "  Learning Rate: 0.00010000\n",
      "No improvement in f1. Patience: 9/500\n"
     ]
    },
    {
     "name": "stderr",
     "output_type": "stream",
     "text": [
      "Epoch 17/30: 100%|██████████| 88/88 [00:48<00:00,  1.81it/s, loss=0.0003, lr=0.000100]\n",
      "\n"
     ]
    },
    {
     "name": "stdout",
     "output_type": "stream",
     "text": [
      "Epoch 17/30:\n",
      "  Training   - Loss: 0.0001, Accuracy: 1.0000, F1: 1.0000\n",
      "  Validation - Loss: 1.3895, Accuracy: 0.8608, F1: 0.3288\n",
      "  Learning Rate: 0.00010000\n",
      "No improvement in f1. Patience: 10/500\n"
     ]
    },
    {
     "name": "stderr",
     "output_type": "stream",
     "text": [
      "Epoch 18/30: 100%|██████████| 88/88 [00:48<00:00,  1.81it/s, loss=0.0000, lr=0.000100]\n",
      "\n"
     ]
    },
    {
     "name": "stdout",
     "output_type": "stream",
     "text": [
      "Epoch 18/30:\n",
      "  Training   - Loss: 0.0000, Accuracy: 1.0000, F1: 1.0000\n",
      "  Validation - Loss: 1.4215, Accuracy: 0.8608, F1: 0.3288\n",
      "  Learning Rate: 0.00010000\n",
      "No improvement in f1. Patience: 11/500\n"
     ]
    },
    {
     "name": "stderr",
     "output_type": "stream",
     "text": [
      "Epoch 19/30: 100%|██████████| 88/88 [00:48<00:00,  1.81it/s, loss=0.0000, lr=0.000100]\n",
      "\n"
     ]
    },
    {
     "name": "stdout",
     "output_type": "stream",
     "text": [
      "Epoch 19/30:\n",
      "  Training   - Loss: 0.0000, Accuracy: 1.0000, F1: 1.0000\n",
      "  Validation - Loss: 1.4417, Accuracy: 0.8636, F1: 0.3333\n",
      "  Learning Rate: 0.00010000\n",
      "No improvement in f1. Patience: 12/500\n"
     ]
    },
    {
     "name": "stderr",
     "output_type": "stream",
     "text": [
      "Epoch 20/30: 100%|██████████| 88/88 [00:48<00:00,  1.80it/s, loss=0.0000, lr=0.000100]\n",
      "\n"
     ]
    },
    {
     "name": "stdout",
     "output_type": "stream",
     "text": [
      "Epoch 20/30:\n",
      "  Training   - Loss: 0.0000, Accuracy: 1.0000, F1: 1.0000\n",
      "  Validation - Loss: 1.4628, Accuracy: 0.8636, F1: 0.3333\n",
      "  Learning Rate: 0.00010000\n",
      "No improvement in f1. Patience: 13/500\n"
     ]
    },
    {
     "name": "stderr",
     "output_type": "stream",
     "text": [
      "Epoch 21/30: 100%|██████████| 88/88 [00:48<00:00,  1.81it/s, loss=0.0000, lr=0.000100]\n",
      "\n"
     ]
    },
    {
     "name": "stdout",
     "output_type": "stream",
     "text": [
      "Epoch 21/30:\n",
      "  Training   - Loss: 0.0000, Accuracy: 1.0000, F1: 1.0000\n",
      "  Validation - Loss: 1.4816, Accuracy: 0.8636, F1: 0.3333\n",
      "  Learning Rate: 0.00010000\n",
      "No improvement in f1. Patience: 14/500\n"
     ]
    },
    {
     "name": "stderr",
     "output_type": "stream",
     "text": [
      "Epoch 22/30: 100%|██████████| 88/88 [00:48<00:00,  1.81it/s, loss=0.0000, lr=0.000100]\n",
      "\n"
     ]
    },
    {
     "name": "stdout",
     "output_type": "stream",
     "text": [
      "Epoch 22/30:\n",
      "  Training   - Loss: 0.0000, Accuracy: 1.0000, F1: 1.0000\n",
      "  Validation - Loss: 1.4986, Accuracy: 0.8665, F1: 0.3380\n",
      "  Learning Rate: 0.00010000\n",
      "No improvement in f1. Patience: 15/500\n"
     ]
    },
    {
     "name": "stderr",
     "output_type": "stream",
     "text": [
      "Epoch 23/30: 100%|██████████| 88/88 [00:48<00:00,  1.80it/s, loss=0.0000, lr=0.000100]\n",
      "\n"
     ]
    },
    {
     "name": "stdout",
     "output_type": "stream",
     "text": [
      "Epoch 23/30:\n",
      "  Training   - Loss: 0.0000, Accuracy: 1.0000, F1: 1.0000\n",
      "  Validation - Loss: 1.5168, Accuracy: 0.8636, F1: 0.3143\n",
      "  Learning Rate: 0.00010000\n",
      "No improvement in f1. Patience: 16/500\n"
     ]
    },
    {
     "name": "stderr",
     "output_type": "stream",
     "text": [
      "Epoch 24/30: 100%|██████████| 88/88 [00:48<00:00,  1.82it/s, loss=0.0000, lr=0.000100]\n",
      "\n"
     ]
    },
    {
     "name": "stdout",
     "output_type": "stream",
     "text": [
      "Epoch 24/30:\n",
      "  Training   - Loss: 0.0000, Accuracy: 1.0000, F1: 1.0000\n",
      "  Validation - Loss: 1.5324, Accuracy: 0.8636, F1: 0.3143\n",
      "  Learning Rate: 0.00010000\n",
      "No improvement in f1. Patience: 17/500\n"
     ]
    },
    {
     "name": "stderr",
     "output_type": "stream",
     "text": [
      "Epoch 25/30: 100%|██████████| 88/88 [00:48<00:00,  1.82it/s, loss=0.0000, lr=0.000100]\n",
      "\n"
     ]
    },
    {
     "name": "stdout",
     "output_type": "stream",
     "text": [
      "Epoch 25/30:\n",
      "  Training   - Loss: 0.0000, Accuracy: 1.0000, F1: 1.0000\n",
      "  Validation - Loss: 1.5477, Accuracy: 0.8636, F1: 0.3143\n",
      "  Learning Rate: 0.00010000\n",
      "No improvement in f1. Patience: 18/500\n"
     ]
    },
    {
     "name": "stderr",
     "output_type": "stream",
     "text": [
      "Epoch 26/30: 100%|██████████| 88/88 [00:48<00:00,  1.82it/s, loss=0.0000, lr=0.000100]\n",
      "\n"
     ]
    },
    {
     "name": "stdout",
     "output_type": "stream",
     "text": [
      "Epoch 26/30:\n",
      "  Training   - Loss: 0.0000, Accuracy: 1.0000, F1: 1.0000\n",
      "  Validation - Loss: 1.5651, Accuracy: 0.8636, F1: 0.3143\n",
      "  Learning Rate: 0.00010000\n",
      "No improvement in f1. Patience: 19/500\n"
     ]
    },
    {
     "name": "stderr",
     "output_type": "stream",
     "text": [
      "Epoch 27/30: 100%|██████████| 88/88 [00:47<00:00,  1.83it/s, loss=0.0000, lr=0.000100]\n",
      "\n"
     ]
    },
    {
     "name": "stdout",
     "output_type": "stream",
     "text": [
      "Epoch 27/30:\n",
      "  Training   - Loss: 0.0000, Accuracy: 1.0000, F1: 1.0000\n",
      "  Validation - Loss: 1.5852, Accuracy: 0.8636, F1: 0.3143\n",
      "  Learning Rate: 0.00010000\n",
      "No improvement in f1. Patience: 20/500\n"
     ]
    },
    {
     "name": "stderr",
     "output_type": "stream",
     "text": [
      "Epoch 28/30: 100%|██████████| 88/88 [00:47<00:00,  1.83it/s, loss=0.0000, lr=0.000100]\n",
      "\n"
     ]
    },
    {
     "name": "stdout",
     "output_type": "stream",
     "text": [
      "Epoch 28/30:\n",
      "  Training   - Loss: 0.0000, Accuracy: 1.0000, F1: 1.0000\n",
      "  Validation - Loss: 1.6000, Accuracy: 0.8636, F1: 0.3143\n",
      "  Learning Rate: 0.00010000\n",
      "No improvement in f1. Patience: 21/500\n"
     ]
    },
    {
     "name": "stderr",
     "output_type": "stream",
     "text": [
      "Epoch 29/30: 100%|██████████| 88/88 [00:47<00:00,  1.84it/s, loss=0.0000, lr=0.000100]\n",
      "\n"
     ]
    },
    {
     "name": "stdout",
     "output_type": "stream",
     "text": [
      "Epoch 29/30:\n",
      "  Training   - Loss: 0.0000, Accuracy: 1.0000, F1: 1.0000\n",
      "  Validation - Loss: 1.6091, Accuracy: 0.8722, F1: 0.3077\n",
      "  Learning Rate: 0.00010000\n",
      "No improvement in f1. Patience: 22/500\n"
     ]
    },
    {
     "name": "stderr",
     "output_type": "stream",
     "text": [
      "Epoch 30/30: 100%|██████████| 88/88 [00:47<00:00,  1.83it/s, loss=0.0000, lr=0.000100]\n",
      "\n"
     ]
    },
    {
     "name": "stdout",
     "output_type": "stream",
     "text": [
      "Epoch 30/30:\n",
      "  Training   - Loss: 0.0000, Accuracy: 1.0000, F1: 1.0000\n",
      "  Validation - Loss: 1.6247, Accuracy: 0.8722, F1: 0.3077\n",
      "  Learning Rate: 0.00010000\n",
      "No improvement in f1. Patience: 23/500\n",
      "\n",
      "Final model evaluation...\n",
      "\n",
      "TRAINING COMPLETE\n",
      "Best validation loss: 0.9089\n",
      "Best validation accuracy: 0.8608\n",
      "Best validation F1: 0.4096\n",
      "Best f1: 0.4096\n",
      "\n",
      "TRAINING COMPLETE\n",
      "Best validation loss: 0.9089\n",
      "Best validation accuracy: 0.8608\n",
      "Best validation F1: 0.4096\n",
      "Best f1: 0.4096\n"
     ]
    },
    {
     "name": "stderr",
     "output_type": "stream",
     "text": [
      "\u001b[34m\u001b[1mwandb\u001b[0m: \u001b[32m\u001b[41mERROR\u001b[0m The nbformat package was not found. It is required to save notebook history.\n"
     ]
    },
    {
     "data": {
      "text/html": [],
      "text/plain": [
       "<IPython.core.display.HTML object>"
      ]
     },
     "metadata": {},
     "output_type": "display_data"
    },
    {
     "data": {
      "text/html": [
       "<br>    <style><br>        .wandb-row {<br>            display: flex;<br>            flex-direction: row;<br>            flex-wrap: wrap;<br>            justify-content: flex-start;<br>            width: 100%;<br>        }<br>        .wandb-col {<br>            display: flex;<br>            flex-direction: column;<br>            flex-basis: 100%;<br>            flex: 1;<br>            padding: 10px;<br>        }<br>    </style><br><div class=\"wandb-row\"><div class=\"wandb-col\"><h3>Run history:</h3><br/><table class=\"wandb\"><tr><td>best_f1</td><td>▁▅▆▇▇█</td></tr><tr><td>best_valid_accuracy</td><td>███▁▇▆</td></tr><tr><td>best_valid_f1</td><td>▁▅▆▇▇█</td></tr><tr><td>best_valid_loss</td><td>▁▁▂▆▇█</td></tr><tr><td>epoch</td><td>▁▁▁▂▂▂▂▃▃▃▃▄▄▄▄▅▅▅▅▅▆▆▆▆▇▇▇▇███</td></tr><tr><td>epochs_trained</td><td>▁</td></tr><tr><td>final_valid_accuracy</td><td>▁</td></tr><tr><td>final_valid_f1</td><td>▁</td></tr><tr><td>final_valid_loss</td><td>▁</td></tr><tr><td>learning_rate</td><td>▁▁▁▁▁▁▁▁▁▁▁▁▁▁▁▁▁▁▁▁▁▁▁▁▁▁▁▁▁▁</td></tr><tr><td>train_accuracy</td><td>▁▂▃▅▆█████████████████████████</td></tr><tr><td>train_f1</td><td>▁▂▄▆▇█████████████████████████</td></tr><tr><td>train_loss</td><td>█▇▇▅▃▂▂▂▁▁▁▁▁▁▁▁▁▁▁▁▁▁▁▁▁▁▁▁▁▁</td></tr><tr><td>valid_accuracy</td><td>▁████▇██▇██████████████████████</td></tr><tr><td>valid_f1</td><td>▄▁▄▆▇▇▇█▇▇▇█▆▅▆▇▇▇▇▇▇▇▇▆▆▆▆▆▆▆▆</td></tr><tr><td>valid_loss</td><td>▃▁▁▁▂▃▄▄▅▄▄▅▆▆▆▆▆▇▇▇▇▇▇▇▇██████</td></tr></table><br/></div><div class=\"wandb-col\"><h3>Run summary:</h3><br/><table class=\"wandb\"><tr><td>best_f1</td><td>0.40964</td></tr><tr><td>best_valid_accuracy</td><td>0.8608</td></tr><tr><td>best_valid_f1</td><td>0.40964</td></tr><tr><td>best_valid_loss</td><td>0.90886</td></tr><tr><td>early_stopped</td><td>False</td></tr><tr><td>epoch</td><td>30</td></tr><tr><td>epochs_trained</td><td>30</td></tr><tr><td>final_valid_accuracy</td><td>0.8608</td></tr><tr><td>final_valid_f1</td><td>0.40964</td></tr><tr><td>final_valid_loss</td><td>0.90886</td></tr><tr><td>learning_rate</td><td>0.0001</td></tr><tr><td>train_accuracy</td><td>1</td></tr><tr><td>train_f1</td><td>1</td></tr><tr><td>train_loss</td><td>1e-05</td></tr><tr><td>training_completed</td><td>True</td></tr><tr><td>valid_accuracy</td><td>0.87216</td></tr><tr><td>valid_f1</td><td>0.30769</td></tr><tr><td>valid_loss</td><td>1.6247</td></tr></table><br/></div></div>"
      ],
      "text/plain": [
       "<IPython.core.display.HTML object>"
      ]
     },
     "metadata": {},
     "output_type": "display_data"
    },
    {
     "data": {
      "text/html": [
       " View run <strong style=\"color:#cdcd00\">comparison_low_dropout_20250813_015447</strong> at: <a href='https://wandb.ai/shubhamjune-vilnius-university/router_rated/runs/gch5ezje' target=\"_blank\">https://wandb.ai/shubhamjune-vilnius-university/router_rated/runs/gch5ezje</a><br> View project at: <a href='https://wandb.ai/shubhamjune-vilnius-university/router_rated' target=\"_blank\">https://wandb.ai/shubhamjune-vilnius-university/router_rated</a><br>Synced 5 W&B file(s), 1 media file(s), 2 artifact file(s) and 0 other file(s)"
      ],
      "text/plain": [
       "<IPython.core.display.HTML object>"
      ]
     },
     "metadata": {},
     "output_type": "display_data"
    },
    {
     "data": {
      "text/html": [
       "Find logs at: <code>.\\wandb\\run-20250813_015447-gch5ezje\\logs</code>"
      ],
      "text/plain": [
       "<IPython.core.display.HTML object>"
      ]
     },
     "metadata": {},
     "output_type": "display_data"
    },
    {
     "name": "stdout",
     "output_type": "stream",
     "text": [
      "\n",
      "Testing configuration: high_dropout\n",
      "Reproducible environment set with seed: 9999\n"
     ]
    },
    {
     "data": {
      "text/html": [
       "Tracking run with wandb version 0.21.1"
      ],
      "text/plain": [
       "<IPython.core.display.HTML object>"
      ]
     },
     "metadata": {},
     "output_type": "display_data"
    },
    {
     "data": {
      "text/html": [
       "Run data is saved locally in <code>c:\\Users\\sj_x3\\Desktop\\code\\git\\smart_routing\\wandb\\run-20250813_022115-n9zwzw8w</code>"
      ],
      "text/plain": [
       "<IPython.core.display.HTML object>"
      ]
     },
     "metadata": {},
     "output_type": "display_data"
    },
    {
     "data": {
      "text/html": [
       "Syncing run <strong><a href='https://wandb.ai/shubhamjune-vilnius-university/router_rated/runs/n9zwzw8w' target=\"_blank\">comparison_high_dropout_20250813_022115</a></strong> to <a href='https://wandb.ai/shubhamjune-vilnius-university/router_rated' target=\"_blank\">Weights & Biases</a> (<a href='https://wandb.me/developer-guide' target=\"_blank\">docs</a>)<br>"
      ],
      "text/plain": [
       "<IPython.core.display.HTML object>"
      ]
     },
     "metadata": {},
     "output_type": "display_data"
    },
    {
     "data": {
      "text/html": [
       " View project at <a href='https://wandb.ai/shubhamjune-vilnius-university/router_rated' target=\"_blank\">https://wandb.ai/shubhamjune-vilnius-university/router_rated</a>"
      ],
      "text/plain": [
       "<IPython.core.display.HTML object>"
      ]
     },
     "metadata": {},
     "output_type": "display_data"
    },
    {
     "data": {
      "text/html": [
       " View run at <a href='https://wandb.ai/shubhamjune-vilnius-university/router_rated/runs/n9zwzw8w' target=\"_blank\">https://wandb.ai/shubhamjune-vilnius-university/router_rated/runs/n9zwzw8w</a>"
      ],
      "text/plain": [
       "<IPython.core.display.HTML object>"
      ]
     },
     "metadata": {},
     "output_type": "display_data"
    },
    {
     "name": "stdout",
     "output_type": "stream",
     "text": [
      "\n",
      "Starting training run: comparison_high_dropout_20250813_022115\n",
      "Using dataset: rated_enhanced_dataset_meta_llama_llama_3.1_8b_instruct_20250811_140130_20250811_151904.jsonl\n",
      "\n",
      "Loading rated dataset...\n",
      "Loaded 1756 items with ratings\n",
      "Dataset after filtering: 1756 items\n",
      "\n",
      "=== DATASET ANALYSIS ===\n",
      "Total samples: 1756\n",
      "Label 0 (Good quality, rating >= 4): 1526 (86.9%)\n",
      "Label 1 (Poor quality, rating < 4): 230 (13.1%)\n",
      "Class balance ratio (0:1): 6.63:1\n",
      "\n",
      "=== RATING DISTRIBUTION ===\n",
      "Rating 1: 37 (2.1%)\n",
      "Rating 2: 107 (6.1%)\n",
      "Rating 3: 86 (4.9%)\n",
      "Rating 4: 329 (18.7%)\n",
      "Rating 5: 1197 (68.2%)\n",
      "========================================\n",
      "\n",
      "Training samples: 1404\n",
      "Validation samples: 352\n",
      "DataLoaders created successfully\n",
      "\n",
      "Initializing model: distilbert-base-uncased\n",
      "All transformer layers will be fine-tuned\n",
      "📱 Model moved to device: cuda\n",
      "\n",
      "=== MODEL PARAMETER ANALYSIS ===\n",
      "Total parameters: 66,576,257\n",
      "Trainable parameters: 66,576,257\n",
      "Frozen parameters: 0\n",
      "Percentage trainable: 100.0%\n",
      "========================================\n",
      "LR Annealing enabled: factor=0.5, patience=5\n",
      "\n",
      "Starting initial validation...\n",
      "All transformer layers will be fine-tuned\n",
      "📱 Model moved to device: cuda\n",
      "\n",
      "=== MODEL PARAMETER ANALYSIS ===\n",
      "Total parameters: 66,576,257\n",
      "Trainable parameters: 66,576,257\n",
      "Frozen parameters: 0\n",
      "Percentage trainable: 100.0%\n",
      "========================================\n",
      "LR Annealing enabled: factor=0.5, patience=5\n",
      "\n",
      "Starting initial validation...\n",
      "Initial - Loss: 0.7383, Accuracy: 0.2358, F1: 0.2018\n",
      "\n",
      "Starting training for 30 epochs...\n",
      "Initial - Loss: 0.7383, Accuracy: 0.2358, F1: 0.2018\n",
      "\n",
      "Starting training for 30 epochs...\n"
     ]
    },
    {
     "name": "stderr",
     "output_type": "stream",
     "text": [
      "Epoch 1/30: 100%|██████████| 88/88 [00:48<00:00,  1.83it/s, loss=0.3468, lr=0.000100]\n",
      "\n"
     ]
    },
    {
     "name": "stdout",
     "output_type": "stream",
     "text": [
      "Epoch 1/30:\n",
      "  Training   - Loss: 0.4883, Accuracy: 0.8105, F1: 0.1014\n",
      "  Validation - Loss: 0.3791, Accuracy: 0.8693, F1: 0.0000\n",
      "  Learning Rate: 0.00010000\n",
      "No improvement in f1. Patience: 1/500\n"
     ]
    },
    {
     "name": "stderr",
     "output_type": "stream",
     "text": [
      "Epoch 2/30: 100%|██████████| 88/88 [00:47<00:00,  1.83it/s, loss=0.1592, lr=0.000100]\n",
      "\n"
     ]
    },
    {
     "name": "stdout",
     "output_type": "stream",
     "text": [
      "Epoch 2/30:\n",
      "  Training   - Loss: 0.4484, Accuracy: 0.8640, F1: 0.0683\n",
      "  Validation - Loss: 0.3606, Accuracy: 0.8693, F1: 0.0000\n",
      "  Learning Rate: 0.00010000\n",
      "No improvement in f1. Patience: 2/500\n"
     ]
    },
    {
     "name": "stderr",
     "output_type": "stream",
     "text": [
      "Epoch 3/30: 100%|██████████| 88/88 [00:47<00:00,  1.84it/s, loss=1.0691, lr=0.000100]\n",
      "\n"
     ]
    },
    {
     "name": "stdout",
     "output_type": "stream",
     "text": [
      "Epoch 3/30:\n",
      "  Training   - Loss: 0.4384, Accuracy: 0.8554, F1: 0.1847\n",
      "  Validation - Loss: 0.3666, Accuracy: 0.8693, F1: 0.0000\n",
      "  Learning Rate: 0.00010000\n",
      "No improvement in f1. Patience: 3/500\n"
     ]
    },
    {
     "name": "stderr",
     "output_type": "stream",
     "text": [
      "Epoch 4/30: 100%|██████████| 88/88 [00:47<00:00,  1.84it/s, loss=0.8913, lr=0.000100]\n",
      "\n"
     ]
    },
    {
     "name": "stdout",
     "output_type": "stream",
     "text": [
      "Epoch 4/30:\n",
      "  Training   - Loss: 0.4351, Accuracy: 0.8754, F1: 0.3682\n",
      "  Validation - Loss: 0.3693, Accuracy: 0.8864, F1: 0.2857\n",
      "  Learning Rate: 0.00010000\n",
      "New best model saved with f1: 0.2857\n",
      "New best model saved with f1: 0.2857\n"
     ]
    },
    {
     "name": "stderr",
     "output_type": "stream",
     "text": [
      "Epoch 5/30: 100%|██████████| 88/88 [00:47<00:00,  1.84it/s, loss=0.5384, lr=0.000100]\n",
      "\n"
     ]
    },
    {
     "name": "stdout",
     "output_type": "stream",
     "text": [
      "Epoch 5/30:\n",
      "  Training   - Loss: 0.3764, Accuracy: 0.8868, F1: 0.4133\n",
      "  Validation - Loss: 0.3578, Accuracy: 0.8807, F1: 0.1600\n",
      "  Learning Rate: 0.00010000\n",
      "No improvement in f1. Patience: 1/500\n"
     ]
    },
    {
     "name": "stderr",
     "output_type": "stream",
     "text": [
      "Epoch 6/30: 100%|██████████| 88/88 [00:47<00:00,  1.84it/s, loss=0.4754, lr=0.000100]\n",
      "\n"
     ]
    },
    {
     "name": "stdout",
     "output_type": "stream",
     "text": [
      "Epoch 6/30:\n",
      "  Training   - Loss: 0.3452, Accuracy: 0.9117, F1: 0.5724\n",
      "  Validation - Loss: 0.4536, Accuracy: 0.8438, F1: 0.2857\n",
      "  Learning Rate: 0.00010000\n",
      "No improvement in f1. Patience: 2/500\n"
     ]
    },
    {
     "name": "stderr",
     "output_type": "stream",
     "text": [
      "Epoch 7/30: 100%|██████████| 88/88 [00:48<00:00,  1.83it/s, loss=0.3468, lr=0.000100]\n",
      "\n"
     ]
    },
    {
     "name": "stdout",
     "output_type": "stream",
     "text": [
      "Epoch 7/30:\n",
      "  Training   - Loss: 0.3410, Accuracy: 0.9067, F1: 0.5467\n",
      "  Validation - Loss: 0.4979, Accuracy: 0.8835, F1: 0.2545\n",
      "  Learning Rate: 0.00010000\n",
      "No improvement in f1. Patience: 3/500\n"
     ]
    },
    {
     "name": "stderr",
     "output_type": "stream",
     "text": [
      "Epoch 8/30: 100%|██████████| 88/88 [00:47<00:00,  1.84it/s, loss=0.3190, lr=0.000100]\n",
      "\n"
     ]
    },
    {
     "name": "stdout",
     "output_type": "stream",
     "text": [
      "Epoch 8/30:\n",
      "  Training   - Loss: 0.2772, Accuracy: 0.9338, F1: 0.7085\n",
      "  Validation - Loss: 0.5124, Accuracy: 0.8523, F1: 0.2778\n",
      "  Learning Rate: 0.00010000\n",
      "No improvement in f1. Patience: 4/500\n"
     ]
    },
    {
     "name": "stderr",
     "output_type": "stream",
     "text": [
      "Epoch 9/30: 100%|██████████| 88/88 [00:47<00:00,  1.84it/s, loss=0.0540, lr=0.000100]\n",
      "\n"
     ]
    },
    {
     "name": "stdout",
     "output_type": "stream",
     "text": [
      "Epoch 9/30:\n",
      "  Training   - Loss: 0.2757, Accuracy: 0.9387, F1: 0.7362\n",
      "  Validation - Loss: 0.4997, Accuracy: 0.8523, F1: 0.1333\n",
      "  Learning Rate: 0.00010000\n",
      "No improvement in f1. Patience: 5/500\n"
     ]
    },
    {
     "name": "stderr",
     "output_type": "stream",
     "text": [
      "Epoch 10/30: 100%|██████████| 88/88 [00:49<00:00,  1.80it/s, loss=0.8909, lr=0.000100]\n",
      "\n"
     ]
    },
    {
     "name": "stdout",
     "output_type": "stream",
     "text": [
      "Epoch 10/30:\n",
      "  Training   - Loss: 0.2729, Accuracy: 0.9409, F1: 0.7398\n",
      "  Validation - Loss: 0.4362, Accuracy: 0.8665, F1: 0.2540\n",
      "  Learning Rate: 0.00010000\n",
      "No improvement in f1. Patience: 6/500\n"
     ]
    },
    {
     "name": "stderr",
     "output_type": "stream",
     "text": [
      "Epoch 11/30: 100%|██████████| 88/88 [00:48<00:00,  1.80it/s, loss=0.2220, lr=0.000100]\n",
      "\n"
     ]
    },
    {
     "name": "stdout",
     "output_type": "stream",
     "text": [
      "Epoch 11/30:\n",
      "  Training   - Loss: 0.2306, Accuracy: 0.9452, F1: 0.7688\n",
      "  Validation - Loss: 0.6042, Accuracy: 0.8750, F1: 0.1852\n",
      "  Learning Rate: 0.00010000\n",
      "No improvement in f1. Patience: 7/500\n"
     ]
    },
    {
     "name": "stderr",
     "output_type": "stream",
     "text": [
      "Epoch 12/30: 100%|██████████| 88/88 [00:49<00:00,  1.79it/s, loss=0.0145, lr=0.000100]\n",
      "\n"
     ]
    },
    {
     "name": "stdout",
     "output_type": "stream",
     "text": [
      "Epoch 12/30:\n",
      "  Training   - Loss: 0.1745, Accuracy: 0.9623, F1: 0.8427\n",
      "  Validation - Loss: 0.6959, Accuracy: 0.8523, F1: 0.3158\n",
      "  Learning Rate: 0.00010000\n",
      "New best model saved with f1: 0.3158\n",
      "New best model saved with f1: 0.3158\n"
     ]
    },
    {
     "name": "stderr",
     "output_type": "stream",
     "text": [
      "Epoch 13/30: 100%|██████████| 88/88 [00:50<00:00,  1.75it/s, loss=0.0165, lr=0.000100]\n",
      "\n"
     ]
    },
    {
     "name": "stdout",
     "output_type": "stream",
     "text": [
      "Epoch 13/30:\n",
      "  Training   - Loss: 0.1717, Accuracy: 0.9672, F1: 0.8686\n",
      "  Validation - Loss: 0.5918, Accuracy: 0.8864, F1: 0.3103\n",
      "  Learning Rate: 0.00010000\n",
      "No improvement in f1. Patience: 1/500\n"
     ]
    },
    {
     "name": "stderr",
     "output_type": "stream",
     "text": [
      "Epoch 14/30: 100%|██████████| 88/88 [00:48<00:00,  1.80it/s, loss=0.0164, lr=0.000100]\n",
      "\n"
     ]
    },
    {
     "name": "stdout",
     "output_type": "stream",
     "text": [
      "Epoch 14/30:\n",
      "  Training   - Loss: 0.1470, Accuracy: 0.9736, F1: 0.8934\n",
      "  Validation - Loss: 0.6848, Accuracy: 0.8722, F1: 0.3077\n",
      "  Learning Rate: 0.00010000\n",
      "No improvement in f1. Patience: 2/500\n"
     ]
    },
    {
     "name": "stderr",
     "output_type": "stream",
     "text": [
      "Epoch 15/30: 100%|██████████| 88/88 [00:48<00:00,  1.81it/s, loss=0.0146, lr=0.000100]\n",
      "\n"
     ]
    },
    {
     "name": "stdout",
     "output_type": "stream",
     "text": [
      "Epoch 15/30:\n",
      "  Training   - Loss: 0.1223, Accuracy: 0.9765, F1: 0.9065\n",
      "  Validation - Loss: 0.7956, Accuracy: 0.8750, F1: 0.2667\n",
      "  Learning Rate: 0.00010000\n",
      "No improvement in f1. Patience: 3/500\n"
     ]
    },
    {
     "name": "stderr",
     "output_type": "stream",
     "text": [
      "Epoch 16/30: 100%|██████████| 88/88 [00:48<00:00,  1.82it/s, loss=0.0137, lr=0.000100]\n",
      "\n"
     ]
    },
    {
     "name": "stdout",
     "output_type": "stream",
     "text": [
      "Epoch 16/30:\n",
      "  Training   - Loss: 0.0962, Accuracy: 0.9865, F1: 0.9471\n",
      "  Validation - Loss: 0.8687, Accuracy: 0.8665, F1: 0.2769\n",
      "  Learning Rate: 0.00010000\n",
      "No improvement in f1. Patience: 4/500\n"
     ]
    },
    {
     "name": "stderr",
     "output_type": "stream",
     "text": [
      "Epoch 17/30: 100%|██████████| 88/88 [00:48<00:00,  1.82it/s, loss=0.0156, lr=0.000100]\n",
      "\n"
     ]
    },
    {
     "name": "stdout",
     "output_type": "stream",
     "text": [
      "Epoch 17/30:\n",
      "  Training   - Loss: 0.0869, Accuracy: 0.9865, F1: 0.9485\n",
      "  Validation - Loss: 0.9484, Accuracy: 0.8750, F1: 0.3529\n",
      "  Learning Rate: 0.00010000\n",
      "New best model saved with f1: 0.3529\n",
      "New best model saved with f1: 0.3529\n"
     ]
    },
    {
     "name": "stderr",
     "output_type": "stream",
     "text": [
      "Epoch 18/30: 100%|██████████| 88/88 [00:48<00:00,  1.82it/s, loss=0.6685, lr=0.000100]\n",
      "\n"
     ]
    },
    {
     "name": "stdout",
     "output_type": "stream",
     "text": [
      "Epoch 18/30:\n",
      "  Training   - Loss: 0.1084, Accuracy: 0.9850, F1: 0.9428\n",
      "  Validation - Loss: 0.7850, Accuracy: 0.8381, F1: 0.3736\n",
      "  Learning Rate: 0.00010000\n",
      "New best model saved with f1: 0.3736\n",
      "New best model saved with f1: 0.3736\n"
     ]
    },
    {
     "name": "stderr",
     "output_type": "stream",
     "text": [
      "Epoch 19/30: 100%|██████████| 88/88 [00:48<00:00,  1.82it/s, loss=0.0015, lr=0.000100]\n",
      "\n"
     ]
    },
    {
     "name": "stdout",
     "output_type": "stream",
     "text": [
      "Epoch 19/30:\n",
      "  Training   - Loss: 0.0851, Accuracy: 0.9886, F1: 0.9560\n",
      "  Validation - Loss: 0.8438, Accuracy: 0.8636, F1: 0.3143\n",
      "  Learning Rate: 0.00010000\n",
      "No improvement in f1. Patience: 1/500\n"
     ]
    },
    {
     "name": "stderr",
     "output_type": "stream",
     "text": [
      "Epoch 20/30: 100%|██████████| 88/88 [00:48<00:00,  1.82it/s, loss=0.0042, lr=0.000100]\n",
      "\n"
     ]
    },
    {
     "name": "stdout",
     "output_type": "stream",
     "text": [
      "Epoch 20/30:\n",
      "  Training   - Loss: 0.0615, Accuracy: 0.9872, F1: 0.9505\n",
      "  Validation - Loss: 1.0244, Accuracy: 0.8466, F1: 0.3250\n",
      "  Learning Rate: 0.00010000\n",
      "No improvement in f1. Patience: 2/500\n"
     ]
    },
    {
     "name": "stderr",
     "output_type": "stream",
     "text": [
      "Epoch 21/30: 100%|██████████| 88/88 [00:48<00:00,  1.82it/s, loss=0.0008, lr=0.000100]\n",
      "\n"
     ]
    },
    {
     "name": "stdout",
     "output_type": "stream",
     "text": [
      "Epoch 21/30:\n",
      "  Training   - Loss: 0.0453, Accuracy: 0.9929, F1: 0.9725\n",
      "  Validation - Loss: 1.0827, Accuracy: 0.8608, F1: 0.2899\n",
      "  Learning Rate: 0.00010000\n",
      "No improvement in f1. Patience: 3/500\n"
     ]
    },
    {
     "name": "stderr",
     "output_type": "stream",
     "text": [
      "Epoch 22/30: 100%|██████████| 88/88 [00:48<00:00,  1.81it/s, loss=0.3764, lr=0.000100]\n",
      "\n"
     ]
    },
    {
     "name": "stdout",
     "output_type": "stream",
     "text": [
      "Epoch 22/30:\n",
      "  Training   - Loss: 0.0448, Accuracy: 0.9936, F1: 0.9755\n",
      "  Validation - Loss: 1.1635, Accuracy: 0.8608, F1: 0.2899\n",
      "  Learning Rate: 0.00010000\n",
      "No improvement in f1. Patience: 4/500\n"
     ]
    },
    {
     "name": "stderr",
     "output_type": "stream",
     "text": [
      "Epoch 23/30: 100%|██████████| 88/88 [00:48<00:00,  1.81it/s, loss=0.0010, lr=0.000100]\n",
      "\n"
     ]
    },
    {
     "name": "stdout",
     "output_type": "stream",
     "text": [
      "Epoch 23/30:\n",
      "  Training   - Loss: 0.0127, Accuracy: 0.9972, F1: 0.9891\n",
      "  Validation - Loss: 1.2995, Accuracy: 0.8693, F1: 0.3235\n",
      "  Learning Rate: 0.00010000\n",
      "No improvement in f1. Patience: 5/500\n"
     ]
    },
    {
     "name": "stderr",
     "output_type": "stream",
     "text": [
      "Epoch 24/30: 100%|██████████| 88/88 [00:48<00:00,  1.81it/s, loss=0.0001, lr=0.000100]\n",
      "\n"
     ]
    },
    {
     "name": "stdout",
     "output_type": "stream",
     "text": [
      "Epoch 24/30:\n",
      "  Training   - Loss: 0.0136, Accuracy: 0.9986, F1: 0.9946\n",
      "  Validation - Loss: 1.3693, Accuracy: 0.8722, F1: 0.3077\n",
      "  Learning Rate: 0.00010000\n",
      "No improvement in f1. Patience: 6/500\n"
     ]
    },
    {
     "name": "stderr",
     "output_type": "stream",
     "text": [
      "Epoch 25/30: 100%|██████████| 88/88 [00:48<00:00,  1.81it/s, loss=0.0000, lr=0.000100]\n",
      "\n"
     ]
    },
    {
     "name": "stdout",
     "output_type": "stream",
     "text": [
      "Epoch 25/30:\n",
      "  Training   - Loss: 0.0153, Accuracy: 0.9986, F1: 0.9946\n",
      "  Validation - Loss: 1.3580, Accuracy: 0.8722, F1: 0.3284\n",
      "  Learning Rate: 0.00010000\n",
      "No improvement in f1. Patience: 7/500\n"
     ]
    },
    {
     "name": "stderr",
     "output_type": "stream",
     "text": [
      "Epoch 26/30: 100%|██████████| 88/88 [00:48<00:00,  1.82it/s, loss=0.0014, lr=0.000100]\n",
      "\n"
     ]
    },
    {
     "name": "stdout",
     "output_type": "stream",
     "text": [
      "Epoch 26/30:\n",
      "  Training   - Loss: 0.0125, Accuracy: 0.9986, F1: 0.9946\n",
      "  Validation - Loss: 1.4197, Accuracy: 0.8722, F1: 0.3284\n",
      "  Learning Rate: 0.00010000\n",
      "No improvement in f1. Patience: 8/500\n"
     ]
    },
    {
     "name": "stderr",
     "output_type": "stream",
     "text": [
      "Epoch 27/30: 100%|██████████| 88/88 [00:48<00:00,  1.81it/s, loss=0.0040, lr=0.000100]\n",
      "\n"
     ]
    },
    {
     "name": "stdout",
     "output_type": "stream",
     "text": [
      "Epoch 27/30:\n",
      "  Training   - Loss: 0.0155, Accuracy: 0.9986, F1: 0.9946\n",
      "  Validation - Loss: 1.4088, Accuracy: 0.8722, F1: 0.3284\n",
      "  Learning Rate: 0.00010000\n",
      "No improvement in f1. Patience: 9/500\n"
     ]
    },
    {
     "name": "stderr",
     "output_type": "stream",
     "text": [
      "Epoch 28/30: 100%|██████████| 88/88 [00:48<00:00,  1.82it/s, loss=0.0002, lr=0.000100]\n",
      "\n"
     ]
    },
    {
     "name": "stdout",
     "output_type": "stream",
     "text": [
      "Epoch 28/30:\n",
      "  Training   - Loss: 0.0177, Accuracy: 0.9986, F1: 0.9946\n",
      "  Validation - Loss: 1.4163, Accuracy: 0.8722, F1: 0.3284\n",
      "  Learning Rate: 0.00010000\n",
      "No improvement in f1. Patience: 10/500\n"
     ]
    },
    {
     "name": "stderr",
     "output_type": "stream",
     "text": [
      "Epoch 29/30: 100%|██████████| 88/88 [00:48<00:00,  1.82it/s, loss=0.0007, lr=0.000100]\n",
      "\n"
     ]
    },
    {
     "name": "stdout",
     "output_type": "stream",
     "text": [
      "Epoch 29/30:\n",
      "  Training   - Loss: 0.0169, Accuracy: 0.9986, F1: 0.9946\n",
      "  Validation - Loss: 1.4614, Accuracy: 0.8722, F1: 0.3284\n",
      "  Learning Rate: 0.00010000\n",
      "No improvement in f1. Patience: 11/500\n"
     ]
    },
    {
     "name": "stderr",
     "output_type": "stream",
     "text": [
      "Epoch 30/30: 100%|██████████| 88/88 [00:48<00:00,  1.82it/s, loss=0.0000, lr=0.000100]\n",
      "\n"
     ]
    },
    {
     "name": "stdout",
     "output_type": "stream",
     "text": [
      "Epoch 30/30:\n",
      "  Training   - Loss: 0.0186, Accuracy: 0.9986, F1: 0.9946\n",
      "  Validation - Loss: 1.4244, Accuracy: 0.8693, F1: 0.3235\n",
      "  Learning Rate: 0.00010000\n",
      "No improvement in f1. Patience: 12/500\n",
      "\n",
      "Final model evaluation...\n",
      "\n",
      "TRAINING COMPLETE\n",
      "Best validation loss: 0.7850\n",
      "Best validation accuracy: 0.8381\n",
      "Best validation F1: 0.3736\n",
      "Best f1: 0.3736\n",
      "\n",
      "TRAINING COMPLETE\n",
      "Best validation loss: 0.7850\n",
      "Best validation accuracy: 0.8381\n",
      "Best validation F1: 0.3736\n",
      "Best f1: 0.3736\n"
     ]
    },
    {
     "name": "stderr",
     "output_type": "stream",
     "text": [
      "\u001b[34m\u001b[1mwandb\u001b[0m: \u001b[32m\u001b[41mERROR\u001b[0m The nbformat package was not found. It is required to save notebook history.\n"
     ]
    },
    {
     "data": {
      "text/html": [],
      "text/plain": [
       "<IPython.core.display.HTML object>"
      ]
     },
     "metadata": {},
     "output_type": "display_data"
    },
    {
     "data": {
      "text/html": [
       "<br>    <style><br>        .wandb-row {<br>            display: flex;<br>            flex-direction: row;<br>            flex-wrap: wrap;<br>            justify-content: flex-start;<br>            width: 100%;<br>        }<br>        .wandb-col {<br>            display: flex;<br>            flex-direction: column;<br>            flex-basis: 100%;<br>            flex: 1;<br>            padding: 10px;<br>        }<br>    </style><br><div class=\"wandb-row\"><div class=\"wandb-col\"><h3>Run history:</h3><br/><table class=\"wandb\"><tr><td>best_f1</td><td>▁▃▆█</td></tr><tr><td>best_valid_accuracy</td><td>█▃▆▁</td></tr><tr><td>best_valid_f1</td><td>▁▃▆█</td></tr><tr><td>best_valid_loss</td><td>▁▅█▆</td></tr><tr><td>epoch</td><td>▁▁▁▂▂▂▂▃▃▃▃▄▄▄▄▅▅▅▅▅▆▆▆▆▇▇▇▇███</td></tr><tr><td>epochs_trained</td><td>▁</td></tr><tr><td>final_valid_accuracy</td><td>▁</td></tr><tr><td>final_valid_f1</td><td>▁</td></tr><tr><td>final_valid_loss</td><td>▁</td></tr><tr><td>learning_rate</td><td>▁▁▁▁▁▁▁▁▁▁▁▁▁▁▁▁▁▁▁▁▁▁▁▁▁▁▁▁▁▁</td></tr><tr><td>train_accuracy</td><td>▁▃▃▃▄▅▅▆▆▆▆▇▇▇▇██▇████████████</td></tr><tr><td>train_f1</td><td>▁▁▂▃▄▅▅▆▆▆▆▇▇▇▇███████████████</td></tr><tr><td>train_loss</td><td>█▇▇▇▆▆▆▅▅▅▄▃▃▃▃▂▂▂▂▂▁▁▁▁▁▁▁▁▁▁</td></tr><tr><td>valid_accuracy</td><td>▁█████████████████▇████████████</td></tr><tr><td>valid_f1</td><td>▅▁▁▁▆▄▆▆▆▃▆▄▇▇▇▆▆██▇▇▆▆▇▇▇▇▇▇▇▇</td></tr><tr><td>valid_loss</td><td>▃▁▁▁▁▁▂▂▂▂▁▃▃▂▃▄▄▅▄▄▅▆▆▇▇▇█████</td></tr></table><br/></div><div class=\"wandb-col\"><h3>Run summary:</h3><br/><table class=\"wandb\"><tr><td>best_f1</td><td>0.37363</td></tr><tr><td>best_valid_accuracy</td><td>0.83807</td></tr><tr><td>best_valid_f1</td><td>0.37363</td></tr><tr><td>best_valid_loss</td><td>0.78505</td></tr><tr><td>early_stopped</td><td>False</td></tr><tr><td>epoch</td><td>30</td></tr><tr><td>epochs_trained</td><td>30</td></tr><tr><td>final_valid_accuracy</td><td>0.83807</td></tr><tr><td>final_valid_f1</td><td>0.37363</td></tr><tr><td>final_valid_loss</td><td>0.78505</td></tr><tr><td>learning_rate</td><td>0.0001</td></tr><tr><td>train_accuracy</td><td>0.99858</td></tr><tr><td>train_f1</td><td>0.99457</td></tr><tr><td>train_loss</td><td>0.01859</td></tr><tr><td>training_completed</td><td>True</td></tr><tr><td>valid_accuracy</td><td>0.86932</td></tr><tr><td>valid_f1</td><td>0.32353</td></tr><tr><td>valid_loss</td><td>1.42437</td></tr></table><br/></div></div>"
      ],
      "text/plain": [
       "<IPython.core.display.HTML object>"
      ]
     },
     "metadata": {},
     "output_type": "display_data"
    },
    {
     "data": {
      "text/html": [
       " View run <strong style=\"color:#cdcd00\">comparison_high_dropout_20250813_022115</strong> at: <a href='https://wandb.ai/shubhamjune-vilnius-university/router_rated/runs/n9zwzw8w' target=\"_blank\">https://wandb.ai/shubhamjune-vilnius-university/router_rated/runs/n9zwzw8w</a><br> View project at: <a href='https://wandb.ai/shubhamjune-vilnius-university/router_rated' target=\"_blank\">https://wandb.ai/shubhamjune-vilnius-university/router_rated</a><br>Synced 5 W&B file(s), 1 media file(s), 2 artifact file(s) and 0 other file(s)"
      ],
      "text/plain": [
       "<IPython.core.display.HTML object>"
      ]
     },
     "metadata": {},
     "output_type": "display_data"
    },
    {
     "data": {
      "text/html": [
       "Find logs at: <code>.\\wandb\\run-20250813_022115-n9zwzw8w\\logs</code>"
      ],
      "text/plain": [
       "<IPython.core.display.HTML object>"
      ]
     },
     "metadata": {},
     "output_type": "display_data"
    },
    {
     "name": "stdout",
     "output_type": "stream",
     "text": [
      "\n",
      "Testing configuration: higher_lr\n",
      "Reproducible environment set with seed: 9999\n"
     ]
    },
    {
     "data": {
      "text/html": [
       "Tracking run with wandb version 0.21.1"
      ],
      "text/plain": [
       "<IPython.core.display.HTML object>"
      ]
     },
     "metadata": {},
     "output_type": "display_data"
    },
    {
     "data": {
      "text/html": [
       "Run data is saved locally in <code>c:\\Users\\sj_x3\\Desktop\\code\\git\\smart_routing\\wandb\\run-20250813_024742-agifhof0</code>"
      ],
      "text/plain": [
       "<IPython.core.display.HTML object>"
      ]
     },
     "metadata": {},
     "output_type": "display_data"
    },
    {
     "data": {
      "text/html": [
       "Syncing run <strong><a href='https://wandb.ai/shubhamjune-vilnius-university/router_rated/runs/agifhof0' target=\"_blank\">comparison_higher_lr_20250813_024742</a></strong> to <a href='https://wandb.ai/shubhamjune-vilnius-university/router_rated' target=\"_blank\">Weights & Biases</a> (<a href='https://wandb.me/developer-guide' target=\"_blank\">docs</a>)<br>"
      ],
      "text/plain": [
       "<IPython.core.display.HTML object>"
      ]
     },
     "metadata": {},
     "output_type": "display_data"
    },
    {
     "data": {
      "text/html": [
       " View project at <a href='https://wandb.ai/shubhamjune-vilnius-university/router_rated' target=\"_blank\">https://wandb.ai/shubhamjune-vilnius-university/router_rated</a>"
      ],
      "text/plain": [
       "<IPython.core.display.HTML object>"
      ]
     },
     "metadata": {},
     "output_type": "display_data"
    },
    {
     "data": {
      "text/html": [
       " View run at <a href='https://wandb.ai/shubhamjune-vilnius-university/router_rated/runs/agifhof0' target=\"_blank\">https://wandb.ai/shubhamjune-vilnius-university/router_rated/runs/agifhof0</a>"
      ],
      "text/plain": [
       "<IPython.core.display.HTML object>"
      ]
     },
     "metadata": {},
     "output_type": "display_data"
    },
    {
     "name": "stdout",
     "output_type": "stream",
     "text": [
      "\n",
      "Starting training run: comparison_higher_lr_20250813_024742\n",
      "Using dataset: rated_enhanced_dataset_meta_llama_llama_3.1_8b_instruct_20250811_140130_20250811_151904.jsonl\n",
      "\n",
      "Loading rated dataset...\n",
      "Loaded 1756 items with ratings\n",
      "Dataset after filtering: 1756 items\n",
      "\n",
      "=== DATASET ANALYSIS ===\n",
      "Total samples: 1756\n",
      "Label 0 (Good quality, rating >= 4): 1526 (86.9%)\n",
      "Label 1 (Poor quality, rating < 4): 230 (13.1%)\n",
      "Class balance ratio (0:1): 6.63:1\n",
      "\n",
      "=== RATING DISTRIBUTION ===\n",
      "Rating 1: 37 (2.1%)\n",
      "Rating 2: 107 (6.1%)\n",
      "Rating 3: 86 (4.9%)\n",
      "Rating 4: 329 (18.7%)\n",
      "Rating 5: 1197 (68.2%)\n",
      "========================================\n",
      "\n",
      "Training samples: 1404\n",
      "Validation samples: 352\n",
      "DataLoaders created successfully\n",
      "\n",
      "Initializing model: distilbert-base-uncased\n",
      "All transformer layers will be fine-tuned\n",
      "📱 Model moved to device: cuda\n",
      "\n",
      "=== MODEL PARAMETER ANALYSIS ===\n",
      "Total parameters: 66,576,257\n",
      "Trainable parameters: 66,576,257\n",
      "Frozen parameters: 0\n",
      "Percentage trainable: 100.0%\n",
      "========================================\n",
      "LR Annealing enabled: factor=0.5, patience=5\n",
      "\n",
      "Starting initial validation...\n",
      "All transformer layers will be fine-tuned\n",
      "📱 Model moved to device: cuda\n",
      "\n",
      "=== MODEL PARAMETER ANALYSIS ===\n",
      "Total parameters: 66,576,257\n",
      "Trainable parameters: 66,576,257\n",
      "Frozen parameters: 0\n",
      "Percentage trainable: 100.0%\n",
      "========================================\n",
      "LR Annealing enabled: factor=0.5, patience=5\n",
      "\n",
      "Starting initial validation...\n",
      "Initial - Loss: 0.7383, Accuracy: 0.2358, F1: 0.2018\n",
      "\n",
      "Starting training for 30 epochs...\n",
      "Initial - Loss: 0.7383, Accuracy: 0.2358, F1: 0.2018\n",
      "\n",
      "Starting training for 30 epochs...\n"
     ]
    },
    {
     "name": "stderr",
     "output_type": "stream",
     "text": [
      "Epoch 1/30: 100%|██████████| 88/88 [00:48<00:00,  1.82it/s, loss=0.3527, lr=0.000500]\n",
      "\n"
     ]
    },
    {
     "name": "stdout",
     "output_type": "stream",
     "text": [
      "Epoch 1/30:\n",
      "  Training   - Loss: 0.4749, Accuracy: 0.8462, F1: 0.0442\n",
      "  Validation - Loss: 0.3933, Accuracy: 0.8693, F1: 0.0000\n",
      "  Learning Rate: 0.00050000\n",
      "No improvement in f1. Patience: 1/500\n"
     ]
    },
    {
     "name": "stderr",
     "output_type": "stream",
     "text": [
      "Epoch 2/30: 100%|██████████| 88/88 [00:48<00:00,  1.82it/s, loss=0.1653, lr=0.000500]\n",
      "\n"
     ]
    },
    {
     "name": "stdout",
     "output_type": "stream",
     "text": [
      "Epoch 2/30:\n",
      "  Training   - Loss: 0.4610, Accuracy: 0.8611, F1: 0.0102\n",
      "  Validation - Loss: 0.3882, Accuracy: 0.8693, F1: 0.0000\n",
      "  Learning Rate: 0.00050000\n",
      "No improvement in f1. Patience: 2/500\n"
     ]
    },
    {
     "name": "stderr",
     "output_type": "stream",
     "text": [
      "Epoch 3/30: 100%|██████████| 88/88 [00:48<00:00,  1.82it/s, loss=0.5236, lr=0.000500]\n",
      "\n"
     ]
    },
    {
     "name": "stdout",
     "output_type": "stream",
     "text": [
      "Epoch 3/30:\n",
      "  Training   - Loss: 0.4288, Accuracy: 0.8682, F1: 0.0000\n",
      "  Validation - Loss: 0.3887, Accuracy: 0.8693, F1: 0.0000\n",
      "  Learning Rate: 0.00050000\n",
      "No improvement in f1. Patience: 3/500\n"
     ]
    },
    {
     "name": "stderr",
     "output_type": "stream",
     "text": [
      "Epoch 4/30: 100%|██████████| 88/88 [00:48<00:00,  1.82it/s, loss=0.4880, lr=0.000500]\n",
      "\n"
     ]
    },
    {
     "name": "stdout",
     "output_type": "stream",
     "text": [
      "Epoch 4/30:\n",
      "  Training   - Loss: 0.4277, Accuracy: 0.8689, F1: 0.0000\n",
      "  Validation - Loss: 0.4123, Accuracy: 0.8693, F1: 0.0000\n",
      "  Learning Rate: 0.00050000\n",
      "No improvement in f1. Patience: 4/500\n"
     ]
    },
    {
     "name": "stderr",
     "output_type": "stream",
     "text": [
      "Epoch 5/30: 100%|██████████| 88/88 [00:48<00:00,  1.82it/s, loss=0.6032, lr=0.000500]\n",
      "\n"
     ]
    },
    {
     "name": "stdout",
     "output_type": "stream",
     "text": [
      "Epoch 5/30:\n",
      "  Training   - Loss: 0.4319, Accuracy: 0.8689, F1: 0.0000\n",
      "  Validation - Loss: 0.4849, Accuracy: 0.8693, F1: 0.0000\n",
      "  Learning Rate: 0.00050000\n",
      "No improvement in f1. Patience: 5/500\n"
     ]
    },
    {
     "name": "stderr",
     "output_type": "stream",
     "text": [
      "Epoch 6/30: 100%|██████████| 88/88 [00:48<00:00,  1.82it/s, loss=0.6540, lr=0.000500]\n",
      "\n"
     ]
    },
    {
     "name": "stdout",
     "output_type": "stream",
     "text": [
      "Epoch 6/30:\n",
      "  Training   - Loss: 0.4270, Accuracy: 0.8654, F1: 0.0000\n",
      "  Validation - Loss: 0.3948, Accuracy: 0.8693, F1: 0.0000\n",
      "  Learning Rate: 0.00050000\n",
      "No improvement in f1. Patience: 6/500\n"
     ]
    },
    {
     "name": "stderr",
     "output_type": "stream",
     "text": [
      "Epoch 7/30: 100%|██████████| 88/88 [00:48<00:00,  1.82it/s, loss=0.7129, lr=0.000500]\n",
      "\n"
     ]
    },
    {
     "name": "stdout",
     "output_type": "stream",
     "text": [
      "Epoch 7/30:\n",
      "  Training   - Loss: 0.4414, Accuracy: 0.8682, F1: 0.0000\n",
      "  Validation - Loss: 0.3925, Accuracy: 0.8693, F1: 0.0000\n",
      "  Learning Rate: 0.00050000\n",
      "No improvement in f1. Patience: 7/500\n"
     ]
    },
    {
     "name": "stderr",
     "output_type": "stream",
     "text": [
      "Epoch 8/30: 100%|██████████| 88/88 [00:48<00:00,  1.82it/s, loss=0.3017, lr=0.000500]\n",
      "\n"
     ]
    },
    {
     "name": "stdout",
     "output_type": "stream",
     "text": [
      "Epoch 8/30:\n",
      "  Training   - Loss: 0.4193, Accuracy: 0.8689, F1: 0.0000\n",
      "  Validation - Loss: 0.3878, Accuracy: 0.8693, F1: 0.0000\n",
      "  Learning Rate: 0.00050000\n",
      "No improvement in f1. Patience: 8/500\n"
     ]
    },
    {
     "name": "stderr",
     "output_type": "stream",
     "text": [
      "Epoch 9/30: 100%|██████████| 88/88 [00:48<00:00,  1.82it/s, loss=0.3600, lr=0.000500]\n",
      "\n"
     ]
    },
    {
     "name": "stdout",
     "output_type": "stream",
     "text": [
      "Epoch 9/30:\n",
      "  Training   - Loss: 0.4177, Accuracy: 0.8689, F1: 0.0000\n",
      "  Validation - Loss: 0.3878, Accuracy: 0.8693, F1: 0.0000\n",
      "  Learning Rate: 0.00050000\n",
      "No improvement in f1. Patience: 9/500\n"
     ]
    },
    {
     "name": "stderr",
     "output_type": "stream",
     "text": [
      "Epoch 10/30: 100%|██████████| 88/88 [00:48<00:00,  1.82it/s, loss=0.6265, lr=0.000500]\n",
      "\n"
     ]
    },
    {
     "name": "stdout",
     "output_type": "stream",
     "text": [
      "Epoch 10/30:\n",
      "  Training   - Loss: 0.4113, Accuracy: 0.8689, F1: 0.0000\n",
      "  Validation - Loss: 0.4015, Accuracy: 0.8693, F1: 0.0000\n",
      "  Learning Rate: 0.00050000\n",
      "No improvement in f1. Patience: 10/500\n"
     ]
    },
    {
     "name": "stderr",
     "output_type": "stream",
     "text": [
      "Epoch 11/30: 100%|██████████| 88/88 [00:48<00:00,  1.82it/s, loss=0.1797, lr=0.000500]\n",
      "\n"
     ]
    },
    {
     "name": "stdout",
     "output_type": "stream",
     "text": [
      "Epoch 11/30:\n",
      "  Training   - Loss: 0.4127, Accuracy: 0.8689, F1: 0.0000\n",
      "  Validation - Loss: 0.3899, Accuracy: 0.8693, F1: 0.0000\n",
      "  Learning Rate: 0.00050000\n",
      "No improvement in f1. Patience: 11/500\n"
     ]
    },
    {
     "name": "stderr",
     "output_type": "stream",
     "text": [
      "Epoch 12/30: 100%|██████████| 88/88 [00:48<00:00,  1.82it/s, loss=0.1874, lr=0.000500]\n",
      "\n"
     ]
    },
    {
     "name": "stdout",
     "output_type": "stream",
     "text": [
      "Epoch 12/30:\n",
      "  Training   - Loss: 0.4045, Accuracy: 0.8689, F1: 0.0000\n",
      "  Validation - Loss: 0.3884, Accuracy: 0.8693, F1: 0.0000\n",
      "  Learning Rate: 0.00050000\n",
      "No improvement in f1. Patience: 12/500\n"
     ]
    },
    {
     "name": "stderr",
     "output_type": "stream",
     "text": [
      "Epoch 13/30: 100%|██████████| 88/88 [00:48<00:00,  1.82it/s, loss=0.2778, lr=0.000500]\n",
      "\n"
     ]
    },
    {
     "name": "stdout",
     "output_type": "stream",
     "text": [
      "Epoch 13/30:\n",
      "  Training   - Loss: 0.4067, Accuracy: 0.8689, F1: 0.0000\n",
      "  Validation - Loss: 0.3897, Accuracy: 0.8693, F1: 0.0000\n",
      "  Learning Rate: 0.00050000\n",
      "No improvement in f1. Patience: 13/500\n"
     ]
    },
    {
     "name": "stderr",
     "output_type": "stream",
     "text": [
      "Epoch 14/30: 100%|██████████| 88/88 [00:48<00:00,  1.82it/s, loss=0.3200, lr=0.000500]\n",
      "\n"
     ]
    },
    {
     "name": "stdout",
     "output_type": "stream",
     "text": [
      "Epoch 14/30:\n",
      "  Training   - Loss: 0.4039, Accuracy: 0.8689, F1: 0.0000\n",
      "  Validation - Loss: 0.3881, Accuracy: 0.8693, F1: 0.0000\n",
      "  Learning Rate: 0.00050000\n",
      "No improvement in f1. Patience: 14/500\n"
     ]
    },
    {
     "name": "stderr",
     "output_type": "stream",
     "text": [
      "Epoch 15/30: 100%|██████████| 88/88 [00:48<00:00,  1.82it/s, loss=0.8661, lr=0.000500]\n",
      "\n"
     ]
    },
    {
     "name": "stdout",
     "output_type": "stream",
     "text": [
      "Epoch 15/30:\n",
      "  Training   - Loss: 0.4127, Accuracy: 0.8689, F1: 0.0000\n",
      "  Validation - Loss: 0.3880, Accuracy: 0.8693, F1: 0.0000\n",
      "  Learning Rate: 0.00050000\n",
      "No improvement in f1. Patience: 15/500\n"
     ]
    },
    {
     "name": "stderr",
     "output_type": "stream",
     "text": [
      "Epoch 16/30: 100%|██████████| 88/88 [00:48<00:00,  1.82it/s, loss=0.5300, lr=0.000500]\n",
      "\n"
     ]
    },
    {
     "name": "stdout",
     "output_type": "stream",
     "text": [
      "Epoch 16/30:\n",
      "  Training   - Loss: 0.4104, Accuracy: 0.8689, F1: 0.0000\n",
      "  Validation - Loss: 0.4211, Accuracy: 0.8693, F1: 0.0000\n",
      "  Learning Rate: 0.00050000\n",
      "No improvement in f1. Patience: 16/500\n"
     ]
    },
    {
     "name": "stderr",
     "output_type": "stream",
     "text": [
      "Epoch 17/30: 100%|██████████| 88/88 [00:48<00:00,  1.82it/s, loss=0.4729, lr=0.000500]\n",
      "\n"
     ]
    },
    {
     "name": "stdout",
     "output_type": "stream",
     "text": [
      "Epoch 17/30:\n",
      "  Training   - Loss: 0.4099, Accuracy: 0.8689, F1: 0.0000\n",
      "  Validation - Loss: 0.3906, Accuracy: 0.8693, F1: 0.0000\n",
      "  Learning Rate: 0.00050000\n",
      "No improvement in f1. Patience: 17/500\n"
     ]
    },
    {
     "name": "stderr",
     "output_type": "stream",
     "text": [
      "Epoch 18/30: 100%|██████████| 88/88 [00:48<00:00,  1.82it/s, loss=0.1277, lr=0.000500]\n",
      "\n"
     ]
    },
    {
     "name": "stdout",
     "output_type": "stream",
     "text": [
      "Epoch 18/30:\n",
      "  Training   - Loss: 0.3980, Accuracy: 0.8689, F1: 0.0000\n",
      "  Validation - Loss: 0.3898, Accuracy: 0.8693, F1: 0.0000\n",
      "  Learning Rate: 0.00050000\n",
      "No improvement in f1. Patience: 18/500\n"
     ]
    },
    {
     "name": "stderr",
     "output_type": "stream",
     "text": [
      "Epoch 19/30: 100%|██████████| 88/88 [00:48<00:00,  1.82it/s, loss=0.2801, lr=0.000500]\n",
      "\n"
     ]
    },
    {
     "name": "stdout",
     "output_type": "stream",
     "text": [
      "Epoch 19/30:\n",
      "  Training   - Loss: 0.4053, Accuracy: 0.8689, F1: 0.0000\n",
      "  Validation - Loss: 0.4011, Accuracy: 0.8693, F1: 0.0000\n",
      "  Learning Rate: 0.00050000\n",
      "No improvement in f1. Patience: 19/500\n"
     ]
    },
    {
     "name": "stderr",
     "output_type": "stream",
     "text": [
      "Epoch 20/30:  86%|████████▋ | 76/88 [00:41<00:06,  1.81it/s, loss=0.7651, lr=0.000500]"
     ]
    },
    {
     "ename": "",
     "evalue": "",
     "output_type": "error",
     "traceback": [
      "\u001b[1;31mThe Kernel crashed while executing code in the current cell or a previous cell. \n",
      "\u001b[1;31mPlease review the code in the cell(s) to identify a possible cause of the failure. \n",
      "\u001b[1;31mClick <a href='https://aka.ms/vscodeJupyterKernelCrash'>here</a> for more info. \n",
      "\u001b[1;31mView Jupyter <a href='command:jupyter.viewOutput'>log</a> for further details."
     ]
    }
   ],
   "source": [
    "# Compare different configurations\n",
    "configs = [\n",
    "    {\n",
    "        \"name\": \"low_dropout\",\n",
    "        \"dropout_rate\": 0.1,\n",
    "        \"learning_rate\": 0.0001,\n",
    "        \"n_epochs\": 30\n",
    "    },\n",
    "    {\n",
    "        \"name\": \"high_dropout\", \n",
    "        \"dropout_rate\": 0.5,\n",
    "        \"learning_rate\": 0.0001,\n",
    "        \"n_epochs\": 30\n",
    "    },\n",
    "    {\n",
    "        \"name\": \"higher_lr\",\n",
    "        \"dropout_rate\": 0.3,\n",
    "        \"learning_rate\": 0.0005,\n",
    "        \"n_epochs\": 30\n",
    "    }\n",
    "]\n",
    "\n",
    "comparison_results = []\n",
    "\n",
    "for config in configs:\n",
    "    print(f\"\\nTesting configuration: {config['name']}\")\n",
    "    \n",
    "    result = train_router_quality_classifier(\n",
    "        experiment_name=f\"comparison_{config['name']}\",\n",
    "        dropout_rate=config['dropout_rate'],\n",
    "        learning_rate=config['learning_rate'],\n",
    "        n_epochs=30,\n",
    "        use_wandb=True\n",
    "    )\n",
    "    \n",
    "    comparison_results.append({\n",
    "        \"config\": config['name'],\n",
    "        \"f1_score\": result['best_metrics']['f1'],\n",
    "        \"accuracy\": result['best_metrics']['accuracy'],\n",
    "        \"epochs\": result['training_info']['epochs_trained']\n",
    "    })\n",
    "\n",
    "# Display comparison\n",
    "print(\"\\nConfiguration Comparison:\")\n",
    "print(\"-\" * 60)\n",
    "print(f\"{'Config':<15} {'F1 Score':<10} {'Accuracy':<10} {'Epochs':<8}\")\n",
    "print(\"-\" * 60)\n",
    "for result in comparison_results:\n",
    "    print(f\"{result['config']:<15} {result['f1_score']:<10.4f} {result['accuracy']:<10.4f} {result['epochs']:<8}\")"
   ]
  },
  {
   "cell_type": "markdown",
   "id": "ee90a923-a520-449c-b8f6-6d48a2db0c43",
   "metadata": {},
   "source": [
    "## Conclusion: Everything overfits, this method is not appropriate for such a dataset."
   ]
  },
  {
   "cell_type": "markdown",
   "id": "dbb2bf21-a002-46a3-9ff3-8926107a8d04",
   "metadata": {},
   "source": [
    "### What else could be tried?\n",
    "- Another embedding model\n",
    "- Smaller last layer sizes\n",
    "- Large dataset\n",
    "- Another framework (papers newer than RouteLLM)\n",
    "\n",
    "## What if had worked?\n",
    "- We could explore Performance Gap Recovery\n",
    "- We could tune Call-Performance Threshold"
   ]
  },
  {
   "cell_type": "code",
   "execution_count": null,
   "id": "f3cbbde5-129a-466f-8776-5978a29d1352",
   "metadata": {},
   "outputs": [],
   "source": []
  }
 ],
 "metadata": {
  "kernelspec": {
   "display_name": "Python 3 (ipykernel)",
   "language": "python",
   "name": "python3"
  },
  "language_info": {
   "codemirror_mode": {
    "name": "ipython",
    "version": 3
   },
   "file_extension": ".py",
   "mimetype": "text/x-python",
   "name": "python",
   "nbconvert_exporter": "python",
   "pygments_lexer": "ipython3",
   "version": "3.11.13"
  }
 },
 "nbformat": 4,
 "nbformat_minor": 5
}
